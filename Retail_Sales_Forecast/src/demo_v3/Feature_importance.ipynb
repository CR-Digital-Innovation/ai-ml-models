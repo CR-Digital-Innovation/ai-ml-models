{
 "cells": [
  {
   "cell_type": "markdown",
   "metadata": {},
   "source": [
    "Import Libraries"
   ]
  },
  {
   "cell_type": "code",
   "execution_count": 40,
   "metadata": {},
   "outputs": [
    {
     "data": {
      "text/html": [
       "        <script type=\"text/javascript\">\n",
       "        window.PlotlyConfig = {MathJaxConfig: 'local'};\n",
       "        if (window.MathJax && window.MathJax.Hub && window.MathJax.Hub.Config) {window.MathJax.Hub.Config({SVG: {font: \"STIX-Web\"}});}\n",
       "        if (typeof require !== 'undefined') {\n",
       "        require.undef(\"plotly\");\n",
       "        requirejs.config({\n",
       "            paths: {\n",
       "                'plotly': ['https://cdn.plot.ly/plotly-2.12.1.min']\n",
       "            }\n",
       "        });\n",
       "        require(['plotly'], function(Plotly) {\n",
       "            window._Plotly = Plotly;\n",
       "        });\n",
       "        }\n",
       "        </script>\n",
       "        "
      ]
     },
     "metadata": {},
     "output_type": "display_data"
    }
   ],
   "source": [
    "import os\n",
    "import pandas as pd \n",
    "import matplotlib.pyplot as plt\n",
    "import numpy as np\n",
    "plt.rcParams[\"figure.figsize\"] = (10,5)\n",
    "import seaborn as sns\n",
    "import plotly\n",
    "import plotly.express as px\n",
    "import plotly.graph_objects as go\n",
    "plotly.offline.init_notebook_mode(connected = True)\n"
   ]
  },
  {
   "cell_type": "markdown",
   "metadata": {},
   "source": [
    "Load Config File"
   ]
  },
  {
   "cell_type": "code",
   "execution_count": 41,
   "metadata": {},
   "outputs": [],
   "source": [
    "import yaml\n",
    "\n",
    "#read yaml file\n",
    "with open('../config/config.yaml') as file:\n",
    "  config= yaml.safe_load(file)\n",
    "  #print(config)"
   ]
  },
  {
   "cell_type": "markdown",
   "metadata": {},
   "source": [
    "### Read Dataset"
   ]
  },
  {
   "cell_type": "markdown",
   "metadata": {},
   "source": [
    "Read the input file"
   ]
  },
  {
   "cell_type": "code",
   "execution_count": 42,
   "metadata": {},
   "outputs": [],
   "source": [
    "#Get current working dir\n",
    "cwd_path=os.getcwd()\n",
    "#print(cwd_path)\n",
    "\n",
    "#  Get the path of ROOT DIR\n",
    "path_list = cwd_path.split(os.sep) #split path\n",
    "ROOT_PATH=os.path.join(path_list[0],os.sep,*path_list[1:-2]) # To move two level up, remove last two str and join to create root path\n",
    "#print(ROOT_PATH)\n",
    "\n"
   ]
  },
  {
   "cell_type": "markdown",
   "metadata": {},
   "source": [
    "Read clean & Merged data"
   ]
  },
  {
   "cell_type": "code",
   "execution_count": 43,
   "metadata": {},
   "outputs": [
    {
     "name": "stdout",
     "output_type": "stream",
     "text": [
      "c:\\Nishikant\\OneDrive - CriticalRiver Technologies Pvt. Ltd\\Development\\1-Team Projects\\AIML_Projects\\Retail Sales Forecasting\\data\\processed\\Merged_data.csv\n"
     ]
    }
   ],
   "source": [
    "# process Data file\n",
    "Process_Data_file=os.path.join(ROOT_PATH,config['processed_data_dir'],config['processed_data_file_1'])\n",
    "print(Process_Data_file)\n",
    "\n",
    "# Read the Sales input file name\n",
    "try:\n",
    "    Data=pd.read_csv(Process_Data_file)\n",
    "    #sales_data.head()\n",
    "except FileNotFoundError:\n",
    "    print(\"file {} does not exist\".format(Process_Data_file))\n",
    "\n"
   ]
  },
  {
   "cell_type": "markdown",
   "metadata": {},
   "source": [
    "Load the data"
   ]
  },
  {
   "cell_type": "code",
   "execution_count": 44,
   "metadata": {},
   "outputs": [
    {
     "data": {
      "text/html": [
       "<div>\n",
       "<style scoped>\n",
       "    .dataframe tbody tr th:only-of-type {\n",
       "        vertical-align: middle;\n",
       "    }\n",
       "\n",
       "    .dataframe tbody tr th {\n",
       "        vertical-align: top;\n",
       "    }\n",
       "\n",
       "    .dataframe thead th {\n",
       "        text-align: right;\n",
       "    }\n",
       "</style>\n",
       "<table border=\"1\" class=\"dataframe\">\n",
       "  <thead>\n",
       "    <tr style=\"text-align: right;\">\n",
       "      <th></th>\n",
       "      <th>ProductCategory</th>\n",
       "      <th>SalesInThousandDollars</th>\n",
       "      <th>MonthlyNominalGDPIndexinMillion</th>\n",
       "      <th>MonthlyRealGDPIndexinMillion</th>\n",
       "      <th>CPI</th>\n",
       "      <th>unemploymentrate</th>\n",
       "      <th>CommercialBankInterestRateonCreditCardPlans</th>\n",
       "      <th>FinanceRateonPersonalLoansatCommercialBanks24MonthLoan</th>\n",
       "      <th>Earningsorwagesindollarsperhour</th>\n",
       "      <th>CottonMonthlyPriceUScentsperPoundlbs</th>\n",
       "      <th>...</th>\n",
       "      <th>Exports</th>\n",
       "      <th>Tempavg</th>\n",
       "      <th>DewPointavg</th>\n",
       "      <th>Humidityavg</th>\n",
       "      <th>SeaLevelPressavg</th>\n",
       "      <th>Visibilityavg</th>\n",
       "      <th>Windavg</th>\n",
       "      <th>Precipsum</th>\n",
       "      <th>Event</th>\n",
       "      <th>FederalHoliday</th>\n",
       "    </tr>\n",
       "  </thead>\n",
       "  <tbody>\n",
       "    <tr>\n",
       "      <th>0</th>\n",
       "      <td>MenClothing</td>\n",
       "      <td>524.0</td>\n",
       "      <td>14421.752895</td>\n",
       "      <td>14407.053343</td>\n",
       "      <td>233.402</td>\n",
       "      <td>7.8</td>\n",
       "      <td>12.03</td>\n",
       "      <td>11.44</td>\n",
       "      <td>22.05</td>\n",
       "      <td>57.70</td>\n",
       "      <td>...</td>\n",
       "      <td>11.550</td>\n",
       "      <td>-2.096774</td>\n",
       "      <td>-9.903226</td>\n",
       "      <td>57.354839</td>\n",
       "      <td>1015.967742</td>\n",
       "      <td>14.000000</td>\n",
       "      <td>12.000000</td>\n",
       "      <td>2.443226</td>\n",
       "      <td>0</td>\n",
       "      <td>2</td>\n",
       "    </tr>\n",
       "    <tr>\n",
       "      <th>1</th>\n",
       "      <td>MenClothing</td>\n",
       "      <td>496.0</td>\n",
       "      <td>14389.200466</td>\n",
       "      <td>14366.176571</td>\n",
       "      <td>234.663</td>\n",
       "      <td>8.3</td>\n",
       "      <td>12.97</td>\n",
       "      <td>11.05</td>\n",
       "      <td>22.22</td>\n",
       "      <td>55.21</td>\n",
       "      <td>...</td>\n",
       "      <td>11.100</td>\n",
       "      <td>2.785714</td>\n",
       "      <td>-6.392857</td>\n",
       "      <td>54.000000</td>\n",
       "      <td>1017.071429</td>\n",
       "      <td>15.178571</td>\n",
       "      <td>12.214286</td>\n",
       "      <td>0.781071</td>\n",
       "      <td>1</td>\n",
       "      <td>1</td>\n",
       "    </tr>\n",
       "    <tr>\n",
       "      <th>2</th>\n",
       "      <td>MenClothing</td>\n",
       "      <td>542.0</td>\n",
       "      <td>14340.701639</td>\n",
       "      <td>14351.786822</td>\n",
       "      <td>235.067</td>\n",
       "      <td>8.7</td>\n",
       "      <td>12.97</td>\n",
       "      <td>11.05</td>\n",
       "      <td>22.22</td>\n",
       "      <td>51.50</td>\n",
       "      <td>...</td>\n",
       "      <td>11.650</td>\n",
       "      <td>5.967742</td>\n",
       "      <td>-2.903226</td>\n",
       "      <td>57.064516</td>\n",
       "      <td>1021.064516</td>\n",
       "      <td>14.258065</td>\n",
       "      <td>11.387097</td>\n",
       "      <td>1.434194</td>\n",
       "      <td>0</td>\n",
       "      <td>0</td>\n",
       "    </tr>\n",
       "    <tr>\n",
       "      <th>3</th>\n",
       "      <td>MenClothing</td>\n",
       "      <td>669.0</td>\n",
       "      <td>14326.815525</td>\n",
       "      <td>14351.601731</td>\n",
       "      <td>235.582</td>\n",
       "      <td>9.0</td>\n",
       "      <td>12.97</td>\n",
       "      <td>11.05</td>\n",
       "      <td>22.13</td>\n",
       "      <td>56.78</td>\n",
       "      <td>...</td>\n",
       "      <td>12.225</td>\n",
       "      <td>12.733333</td>\n",
       "      <td>2.533333</td>\n",
       "      <td>55.700000</td>\n",
       "      <td>1014.533333</td>\n",
       "      <td>14.066667</td>\n",
       "      <td>11.366667</td>\n",
       "      <td>3.971667</td>\n",
       "      <td>1</td>\n",
       "      <td>0</td>\n",
       "    </tr>\n",
       "    <tr>\n",
       "      <th>4</th>\n",
       "      <td>MenClothing</td>\n",
       "      <td>650.0</td>\n",
       "      <td>14345.904809</td>\n",
       "      <td>14368.123959</td>\n",
       "      <td>235.975</td>\n",
       "      <td>9.4</td>\n",
       "      <td>13.32</td>\n",
       "      <td>11.25</td>\n",
       "      <td>22.04</td>\n",
       "      <td>61.95</td>\n",
       "      <td>...</td>\n",
       "      <td>12.300</td>\n",
       "      <td>16.655172</td>\n",
       "      <td>9.827586</td>\n",
       "      <td>68.827586</td>\n",
       "      <td>1017.241379</td>\n",
       "      <td>12.275862</td>\n",
       "      <td>8.000000</td>\n",
       "      <td>4.528276</td>\n",
       "      <td>1</td>\n",
       "      <td>1</td>\n",
       "    </tr>\n",
       "  </tbody>\n",
       "</table>\n",
       "<p>5 rows × 26 columns</p>\n",
       "</div>"
      ],
      "text/plain": [
       "  ProductCategory  SalesInThousandDollars  MonthlyNominalGDPIndexinMillion  \\\n",
       "0     MenClothing                   524.0                     14421.752895   \n",
       "1     MenClothing                   496.0                     14389.200466   \n",
       "2     MenClothing                   542.0                     14340.701639   \n",
       "3     MenClothing                   669.0                     14326.815525   \n",
       "4     MenClothing                   650.0                     14345.904809   \n",
       "\n",
       "   MonthlyRealGDPIndexinMillion      CPI  unemploymentrate  \\\n",
       "0                  14407.053343  233.402               7.8   \n",
       "1                  14366.176571  234.663               8.3   \n",
       "2                  14351.786822  235.067               8.7   \n",
       "3                  14351.601731  235.582               9.0   \n",
       "4                  14368.123959  235.975               9.4   \n",
       "\n",
       "   CommercialBankInterestRateonCreditCardPlans  \\\n",
       "0                                        12.03   \n",
       "1                                        12.97   \n",
       "2                                        12.97   \n",
       "3                                        12.97   \n",
       "4                                        13.32   \n",
       "\n",
       "   FinanceRateonPersonalLoansatCommercialBanks24MonthLoan  \\\n",
       "0                                              11.44        \n",
       "1                                              11.05        \n",
       "2                                              11.05        \n",
       "3                                              11.05        \n",
       "4                                              11.25        \n",
       "\n",
       "   Earningsorwagesindollarsperhour  CottonMonthlyPriceUScentsperPoundlbs  ...  \\\n",
       "0                            22.05                                 57.70  ...   \n",
       "1                            22.22                                 55.21  ...   \n",
       "2                            22.22                                 51.50  ...   \n",
       "3                            22.13                                 56.78  ...   \n",
       "4                            22.04                                 61.95  ...   \n",
       "\n",
       "   Exports    Tempavg  DewPointavg  Humidityavg  SeaLevelPressavg  \\\n",
       "0   11.550  -2.096774    -9.903226    57.354839       1015.967742   \n",
       "1   11.100   2.785714    -6.392857    54.000000       1017.071429   \n",
       "2   11.650   5.967742    -2.903226    57.064516       1021.064516   \n",
       "3   12.225  12.733333     2.533333    55.700000       1014.533333   \n",
       "4   12.300  16.655172     9.827586    68.827586       1017.241379   \n",
       "\n",
       "   Visibilityavg    Windavg  Precipsum  Event  FederalHoliday  \n",
       "0      14.000000  12.000000   2.443226      0               2  \n",
       "1      15.178571  12.214286   0.781071      1               1  \n",
       "2      14.258065  11.387097   1.434194      0               0  \n",
       "3      14.066667  11.366667   3.971667      1               0  \n",
       "4      12.275862   8.000000   4.528276      1               1  \n",
       "\n",
       "[5 rows x 26 columns]"
      ]
     },
     "execution_count": 44,
     "metadata": {},
     "output_type": "execute_result"
    }
   ],
   "source": [
    "#df = Data.drop(columns=['Unnamed: 0'],axis=1)\n",
    "Data.head()"
   ]
  },
  {
   "cell_type": "markdown",
   "metadata": {},
   "source": [
    "Creating separate dataframe for Indpendent features and Target feature"
   ]
  },
  {
   "cell_type": "code",
   "execution_count": 45,
   "metadata": {},
   "outputs": [],
   "source": [
    "Indpendent_features= Data[['MonthlyNominalGDPIndexinMillion', 'MonthlyRealGDPIndexinMillion',\n",
    "       'CPI', 'unemploymentrate',\n",
    "       'CommercialBankInterestRateonCreditCardPlans',\n",
    "       'FinanceRateonPersonalLoansatCommercialBanks24MonthLoan',\n",
    "       'Earningsorwagesindollarsperhour',\n",
    "       'CottonMonthlyPriceUScentsperPoundlbs', 'Changein',\n",
    "       'Averageuplandplantedmillionacres',\n",
    "       'Averageuplandharvestedmillionacres', 'yieldperharvestedacre',\n",
    "       'Productionin480lbnetwerightinmillionbales',\n",
    "       'Millusein480lbnetwerightinmillionbales', 'Exports', 'Tempavg',\n",
    "       'DewPointavg', 'Humidityavg', 'SeaLevelPressavg', 'Visibilityavg',\n",
    "       'Windavg', 'Precipsum', 'Event', 'FederalHoliday']]"
   ]
  },
  {
   "cell_type": "code",
   "execution_count": 46,
   "metadata": {},
   "outputs": [
    {
     "data": {
      "text/html": [
       "<div>\n",
       "<style scoped>\n",
       "    .dataframe tbody tr th:only-of-type {\n",
       "        vertical-align: middle;\n",
       "    }\n",
       "\n",
       "    .dataframe tbody tr th {\n",
       "        vertical-align: top;\n",
       "    }\n",
       "\n",
       "    .dataframe thead th {\n",
       "        text-align: right;\n",
       "    }\n",
       "</style>\n",
       "<table border=\"1\" class=\"dataframe\">\n",
       "  <thead>\n",
       "    <tr style=\"text-align: right;\">\n",
       "      <th></th>\n",
       "      <th>SalesInThousandDollars</th>\n",
       "    </tr>\n",
       "  </thead>\n",
       "  <tbody>\n",
       "    <tr>\n",
       "      <th>0</th>\n",
       "      <td>524.0</td>\n",
       "    </tr>\n",
       "    <tr>\n",
       "      <th>1</th>\n",
       "      <td>496.0</td>\n",
       "    </tr>\n",
       "    <tr>\n",
       "      <th>2</th>\n",
       "      <td>542.0</td>\n",
       "    </tr>\n",
       "    <tr>\n",
       "      <th>3</th>\n",
       "      <td>669.0</td>\n",
       "    </tr>\n",
       "    <tr>\n",
       "      <th>4</th>\n",
       "      <td>650.0</td>\n",
       "    </tr>\n",
       "    <tr>\n",
       "      <th>...</th>\n",
       "      <td>...</td>\n",
       "    </tr>\n",
       "    <tr>\n",
       "      <th>247</th>\n",
       "      <td>1405.0</td>\n",
       "    </tr>\n",
       "    <tr>\n",
       "      <th>248</th>\n",
       "      <td>1261.0</td>\n",
       "    </tr>\n",
       "    <tr>\n",
       "      <th>249</th>\n",
       "      <td>1283.0</td>\n",
       "    </tr>\n",
       "    <tr>\n",
       "      <th>250</th>\n",
       "      <td>1478.0</td>\n",
       "    </tr>\n",
       "    <tr>\n",
       "      <th>251</th>\n",
       "      <td>1680.0</td>\n",
       "    </tr>\n",
       "  </tbody>\n",
       "</table>\n",
       "<p>252 rows × 1 columns</p>\n",
       "</div>"
      ],
      "text/plain": [
       "     SalesInThousandDollars\n",
       "0                     524.0\n",
       "1                     496.0\n",
       "2                     542.0\n",
       "3                     669.0\n",
       "4                     650.0\n",
       "..                      ...\n",
       "247                  1405.0\n",
       "248                  1261.0\n",
       "249                  1283.0\n",
       "250                  1478.0\n",
       "251                  1680.0\n",
       "\n",
       "[252 rows x 1 columns]"
      ]
     },
     "execution_count": 46,
     "metadata": {},
     "output_type": "execute_result"
    }
   ],
   "source": [
    "Target_features=Data[['SalesInThousandDollars']]\n",
    "Target_features"
   ]
  },
  {
   "cell_type": "code",
   "execution_count": 47,
   "metadata": {},
   "outputs": [],
   "source": [
    "#defining a normalisation function \n",
    "def normalize (x): \n",
    "    return ( (x-np.min(x))/ (max(x) - min(x)))"
   ]
  },
  {
   "cell_type": "code",
   "execution_count": 48,
   "metadata": {},
   "outputs": [],
   "source": [
    "# applying normalize ( ) to all columns \n",
    "Indpendent_features = Indpendent_features.apply(normalize)"
   ]
  },
  {
   "cell_type": "markdown",
   "metadata": {},
   "source": [
    "##### Feature Importance using ANOVA"
   ]
  },
  {
   "cell_type": "code",
   "execution_count": 49,
   "metadata": {},
   "outputs": [
    {
     "name": "stderr",
     "output_type": "stream",
     "text": [
      "c:\\Users\\Nishikant\\anaconda3\\envs\\cr_Travel_Insurance_Sales_Forecasting\\lib\\site-packages\\sklearn\\utils\\validation.py:1111: DataConversionWarning:\n",
      "\n",
      "A column-vector y was passed when a 1d array was expected. Please change the shape of y to (n_samples, ), for example using ravel().\n",
      "\n"
     ]
    },
    {
     "data": {
      "text/html": [
       "<style>#sk-container-id-5 {color: black;background-color: white;}#sk-container-id-5 pre{padding: 0;}#sk-container-id-5 div.sk-toggleable {background-color: white;}#sk-container-id-5 label.sk-toggleable__label {cursor: pointer;display: block;width: 100%;margin-bottom: 0;padding: 0.3em;box-sizing: border-box;text-align: center;}#sk-container-id-5 label.sk-toggleable__label-arrow:before {content: \"▸\";float: left;margin-right: 0.25em;color: #696969;}#sk-container-id-5 label.sk-toggleable__label-arrow:hover:before {color: black;}#sk-container-id-5 div.sk-estimator:hover label.sk-toggleable__label-arrow:before {color: black;}#sk-container-id-5 div.sk-toggleable__content {max-height: 0;max-width: 0;overflow: hidden;text-align: left;background-color: #f0f8ff;}#sk-container-id-5 div.sk-toggleable__content pre {margin: 0.2em;color: black;border-radius: 0.25em;background-color: #f0f8ff;}#sk-container-id-5 input.sk-toggleable__control:checked~div.sk-toggleable__content {max-height: 200px;max-width: 100%;overflow: auto;}#sk-container-id-5 input.sk-toggleable__control:checked~label.sk-toggleable__label-arrow:before {content: \"▾\";}#sk-container-id-5 div.sk-estimator input.sk-toggleable__control:checked~label.sk-toggleable__label {background-color: #d4ebff;}#sk-container-id-5 div.sk-label input.sk-toggleable__control:checked~label.sk-toggleable__label {background-color: #d4ebff;}#sk-container-id-5 input.sk-hidden--visually {border: 0;clip: rect(1px 1px 1px 1px);clip: rect(1px, 1px, 1px, 1px);height: 1px;margin: -1px;overflow: hidden;padding: 0;position: absolute;width: 1px;}#sk-container-id-5 div.sk-estimator {font-family: monospace;background-color: #f0f8ff;border: 1px dotted black;border-radius: 0.25em;box-sizing: border-box;margin-bottom: 0.5em;}#sk-container-id-5 div.sk-estimator:hover {background-color: #d4ebff;}#sk-container-id-5 div.sk-parallel-item::after {content: \"\";width: 100%;border-bottom: 1px solid gray;flex-grow: 1;}#sk-container-id-5 div.sk-label:hover label.sk-toggleable__label {background-color: #d4ebff;}#sk-container-id-5 div.sk-serial::before {content: \"\";position: absolute;border-left: 1px solid gray;box-sizing: border-box;top: 0;bottom: 0;left: 50%;z-index: 0;}#sk-container-id-5 div.sk-serial {display: flex;flex-direction: column;align-items: center;background-color: white;padding-right: 0.2em;padding-left: 0.2em;position: relative;}#sk-container-id-5 div.sk-item {position: relative;z-index: 1;}#sk-container-id-5 div.sk-parallel {display: flex;align-items: stretch;justify-content: center;background-color: white;position: relative;}#sk-container-id-5 div.sk-item::before, #sk-container-id-5 div.sk-parallel-item::before {content: \"\";position: absolute;border-left: 1px solid gray;box-sizing: border-box;top: 0;bottom: 0;left: 50%;z-index: -1;}#sk-container-id-5 div.sk-parallel-item {display: flex;flex-direction: column;z-index: 1;position: relative;background-color: white;}#sk-container-id-5 div.sk-parallel-item:first-child::after {align-self: flex-end;width: 50%;}#sk-container-id-5 div.sk-parallel-item:last-child::after {align-self: flex-start;width: 50%;}#sk-container-id-5 div.sk-parallel-item:only-child::after {width: 0;}#sk-container-id-5 div.sk-dashed-wrapped {border: 1px dashed gray;margin: 0 0.4em 0.5em 0.4em;box-sizing: border-box;padding-bottom: 0.4em;background-color: white;}#sk-container-id-5 div.sk-label label {font-family: monospace;font-weight: bold;display: inline-block;line-height: 1.2em;}#sk-container-id-5 div.sk-label-container {text-align: center;}#sk-container-id-5 div.sk-container {/* jupyter's `normalize.less` sets `[hidden] { display: none; }` but bootstrap.min.css set `[hidden] { display: none !important; }` so we also need the `!important` here to be able to override the default hidden behavior on the sphinx rendered scikit-learn.org. See: https://github.com/scikit-learn/scikit-learn/issues/21755 */display: inline-block !important;position: relative;}#sk-container-id-5 div.sk-text-repr-fallback {display: none;}</style><div id=\"sk-container-id-5\" class=\"sk-top-container\"><div class=\"sk-text-repr-fallback\"><pre>SelectKBest(k=5, score_func=&lt;function f_regression at 0x000001AD6A93AD40&gt;)</pre><b>In a Jupyter environment, please rerun this cell to show the HTML representation or trust the notebook. <br />On GitHub, the HTML representation is unable to render, please try loading this page with nbviewer.org.</b></div><div class=\"sk-container\" hidden><div class=\"sk-item\"><div class=\"sk-estimator sk-toggleable\"><input class=\"sk-toggleable__control sk-hidden--visually\" id=\"sk-estimator-id-5\" type=\"checkbox\" checked><label for=\"sk-estimator-id-5\" class=\"sk-toggleable__label sk-toggleable__label-arrow\">SelectKBest</label><div class=\"sk-toggleable__content\"><pre>SelectKBest(k=5, score_func=&lt;function f_regression at 0x000001AD6A93AD40&gt;)</pre></div></div></div></div></div>"
      ],
      "text/plain": [
       "SelectKBest(k=5, score_func=<function f_regression at 0x000001AD6A93AD40>)"
      ]
     },
     "execution_count": 49,
     "metadata": {},
     "output_type": "execute_result"
    }
   ],
   "source": [
    "from sklearn.feature_selection import f_regression\n",
    "from sklearn.linear_model import LinearRegression\n",
    "from sklearn.feature_selection import SelectKBest\n",
    "\n",
    "\n",
    "Sel = SelectKBest(k =5, score_func = f_regression)\n",
    "Sel.fit(Indpendent_features, Target_features)"
   ]
  },
  {
   "cell_type": "code",
   "execution_count": 50,
   "metadata": {},
   "outputs": [],
   "source": [
    "#creating imporatnce features for Merged_Train data\n",
    "Important_features = []\n",
    "importances = Sel.scores_\n",
    "indices = np.argsort(importances)[::-1]\n",
    "for f in range(Indpendent_features.shape[1]):    \n",
    "    Important_features = np.append(Important_features, Indpendent_features.columns.values[indices[f]])"
   ]
  },
  {
   "cell_type": "code",
   "execution_count": 51,
   "metadata": {},
   "outputs": [
    {
     "data": {
      "text/plain": [
       "array(['MonthlyNominalGDPIndexinMillion', 'MonthlyRealGDPIndexinMillion',\n",
       "       'CPI', 'Earningsorwagesindollarsperhour', 'unemploymentrate',\n",
       "       'FinanceRateonPersonalLoansatCommercialBanks24MonthLoan',\n",
       "       'CommercialBankInterestRateonCreditCardPlans', 'Event',\n",
       "       'SeaLevelPressavg', 'Exports', 'Windavg', 'Changein',\n",
       "       'yieldperharvestedacre', 'Millusein480lbnetwerightinmillionbales',\n",
       "       'Averageuplandharvestedmillionacres', 'Humidityavg',\n",
       "       'Averageuplandplantedmillionacres', 'FederalHoliday',\n",
       "       'Productionin480lbnetwerightinmillionbales', 'Visibilityavg',\n",
       "       'CottonMonthlyPriceUScentsperPoundlbs', 'Tempavg', 'DewPointavg',\n",
       "       'Precipsum'], dtype='<U54')"
      ]
     },
     "execution_count": 51,
     "metadata": {},
     "output_type": "execute_result"
    }
   ],
   "source": [
    "Important_features"
   ]
  },
  {
   "cell_type": "code",
   "execution_count": 52,
   "metadata": {},
   "outputs": [
    {
     "data": {
      "image/png": "[encoded data removed]",
      "text/plain": [
       "<Figure size 1080x360 with 1 Axes>"
      ]
     },
     "metadata": {
      "needs_background": "light"
     },
     "output_type": "display_data"
    }
   ],
   "source": [
    "#plotting bar plot of feature importance\n",
    "plt.figure(figsize =(15,5))\n",
    "plt.title(\"Feature importance\")\n",
    "plt.bar(range(Indpendent_features.shape[1]), importances[indices],\n",
    "       color=\"#138D75\", align=\"center\")\n",
    "plt.xticks(range(Indpendent_features.shape[1]), Important_features, rotation = 90)\n",
    "plt.xlim([-1, Indpendent_features.shape[1]])\n",
    "plt.ylabel('F - score')\n",
    "plt.xlabel('Features according to their importance')\n",
    "plt.show()"
   ]
  },
  {
   "cell_type": "code",
   "execution_count": 53,
   "metadata": {},
   "outputs": [],
   "source": [
    "feature_importance={'feature':Important_features,'importances':importances}\n",
    "\n",
    "# Create DataFrame\n",
    "feature_importance_df = pd.DataFrame(feature_importance)\n",
    "\n",
    "feature_importance_df.head()\n",
    "# saving the dataframe\n",
    "feature_importance_df.to_csv('feature_importance_df.csv',index=False)"
   ]
  }
 ],
 "metadata": {
  "kernelspec": {
   "display_name": "Python 3.10.4 ('cr_Travel_Insurance_Sales_Forecasting')",
   "language": "python",
   "name": "python3"
  },
  "language_info": {
   "codemirror_mode": {
    "name": "ipython",
    "version": 3
   },
   "file_extension": ".py",
   "mimetype": "text/x-python",
   "name": "python",
   "nbconvert_exporter": "python",
   "pygments_lexer": "ipython3",
   "version": "3.10.4"
  },
  "orig_nbformat": 4,
  "vscode": {
   "interpreter": {
    "hash": "bb3c1b5e96c4e4fdc52c4137d8b0ae7d8593f81bb7413c533fd2d35e9a980073"
   }
  }
 },
 "nbformat": 4,
 "nbformat_minor": 2
}
