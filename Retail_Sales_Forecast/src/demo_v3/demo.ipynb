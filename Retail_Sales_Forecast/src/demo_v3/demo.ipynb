{
 "cells": [
  {
   "cell_type": "markdown",
   "id": "e0d1036d",
   "metadata": {},
   "source": [
    "## **Sales Forecasting of Retail Clothing Product Categories**"
   ]
  },
  {
   "cell_type": "markdown",
   "id": "a5dc33b9",
   "metadata": {},
   "source": [
    "#### Input Parameters:\n",
    "\n",
    "      ProductCategory-( Womens, Mens, Others)\n",
    "      MonthlyNominalGDPIndexinMillion \n",
    "      MonthlyRealGDPIndexinMillion\n",
    "      CPI \n",
    "      unemploymentrate\n",
    "      CommercialBankInterestRateonCreditCardPlans\n",
    "      FinanceRateonPersonalLoansatCommercialBanks24MonthLoan\n",
    "      Earningsorwagesindollarsperhour\n",
    "      CottonMonthlyPriceUScentsperPoundlbs\n",
    "      Changein\n",
    "      Averageuplandplantedmillionacres\n",
    "      yieldperharvestedacre\n",
    "      Millusein480lbnetwerightinmillionbales \n",
    "      Exports  \n",
    "      SeaLevelPressavg \n",
    "      Visibilityavg\n",
    "      Windavg \n",
    "      Precipsum\n",
    "      Event \n",
    "      FederalHoliday\n"
   ]
  },
  {
   "cell_type": "markdown",
   "id": "ed8f825a",
   "metadata": {},
   "source": [
    "Importing required libraries"
   ]
  },
  {
   "cell_type": "code",
   "execution_count": 1,
   "id": "4453b328",
   "metadata": {},
   "outputs": [],
   "source": [
    "import os\n",
    "import pandas as pd\n",
    "import numpy as np\n",
    "from sklearn import preprocessing\n",
    "import joblib"
   ]
  },
  {
   "cell_type": "markdown",
   "id": "ee1e209a",
   "metadata": {},
   "source": [
    "Load Config"
   ]
  },
  {
   "cell_type": "code",
   "execution_count": 2,
   "id": "27fb4497",
   "metadata": {},
   "outputs": [],
   "source": [
    "import yaml\n",
    "\n",
    "#read yaml file\n",
    "with open('../config/config.yaml') as file:\n",
    "  config= yaml.safe_load(file)\n",
    "  #print(config)"
   ]
  },
  {
   "cell_type": "markdown",
   "id": "d47ae2a6",
   "metadata": {},
   "source": [
    "## Load Processed dataset"
   ]
  },
  {
   "cell_type": "markdown",
   "id": "5fd45443",
   "metadata": {},
   "source": [
    "Get the Root Dir"
   ]
  },
  {
   "cell_type": "code",
   "execution_count": 3,
   "id": "30e64427",
   "metadata": {},
   "outputs": [],
   "source": [
    "#Get current working dir\n",
    "cwd_path=os.getcwd()\n",
    "#print(cwd_path)\n",
    "\n",
    "#  Get the path of ROOT DIR\n",
    "path_list = cwd_path.split(os.sep) #split path\n",
    "ROOT_PATH=os.path.join(path_list[0],os.sep,*path_list[1:-2]) # To move two level up, remove last two str and join to create root path\n",
    "#print(ROOT_PATH)"
   ]
  },
  {
   "cell_type": "markdown",
   "id": "9c7df1a2",
   "metadata": {},
   "source": [
    "Read the clean & Merged data"
   ]
  },
  {
   "cell_type": "code",
   "execution_count": 4,
   "id": "dd1295b1",
   "metadata": {},
   "outputs": [
    {
     "name": "stdout",
     "output_type": "stream",
     "text": [
      "C:\\Users\\Riyaz Mehendi\\OneDrive - CriticalRiver Technologies Pvt. Ltd\\Desktop\\Retail_Sales_Forecast\\data\\processed\\Merged_data.csv\n"
     ]
    }
   ],
   "source": [
    "# process Data file\n",
    "Process_Data_file=os.path.join(ROOT_PATH,config['processed_data_dir'],config['processed_data_file_1'])\n",
    "print(Process_Data_file)\n",
    "\n",
    "# Read the Sales input file name\n",
    "try:\n",
    "    Data=pd.read_csv(Process_Data_file)\n",
    "    #sales_data.head()\n",
    "except FileNotFoundError:\n",
    "    print(\"file {} does not exist\".format(Process_Data_file))\n",
    "\n"
   ]
  },
  {
   "cell_type": "code",
   "execution_count": 5,
   "id": "7f4b859f",
   "metadata": {},
   "outputs": [],
   "source": [
    "Data=Data.sample(n =5)"
   ]
  },
  {
   "cell_type": "code",
   "execution_count": 6,
   "id": "45bdcf03",
   "metadata": {},
   "outputs": [],
   "source": [
    "Data.reset_index(drop=True, inplace=True)"
   ]
  },
  {
   "cell_type": "code",
   "execution_count": 7,
   "id": "b31c689a",
   "metadata": {
    "scrolled": true
   },
   "outputs": [
    {
     "data": {
      "text/html": [
       "<div>\n",
       "<style scoped>\n",
       "    .dataframe tbody tr th:only-of-type {\n",
       "        vertical-align: middle;\n",
       "    }\n",
       "\n",
       "    .dataframe tbody tr th {\n",
       "        vertical-align: top;\n",
       "    }\n",
       "\n",
       "    .dataframe thead th {\n",
       "        text-align: right;\n",
       "    }\n",
       "</style>\n",
       "<table border=\"1\" class=\"dataframe\">\n",
       "  <thead>\n",
       "    <tr style=\"text-align: right;\">\n",
       "      <th></th>\n",
       "      <th>ProductCategory</th>\n",
       "      <th>SalesInThousandDollars</th>\n",
       "      <th>MonthlyNominalGDPIndexinMillion</th>\n",
       "      <th>MonthlyRealGDPIndexinMillion</th>\n",
       "      <th>CPI</th>\n",
       "      <th>unemploymentrate</th>\n",
       "      <th>CommercialBankInterestRateonCreditCardPlans</th>\n",
       "      <th>FinanceRateonPersonalLoansatCommercialBanks24MonthLoan</th>\n",
       "      <th>Earningsorwagesindollarsperhour</th>\n",
       "      <th>CottonMonthlyPriceUScentsperPoundlbs</th>\n",
       "      <th>...</th>\n",
       "      <th>Exports</th>\n",
       "      <th>Tempavg</th>\n",
       "      <th>DewPointavg</th>\n",
       "      <th>Humidityavg</th>\n",
       "      <th>SeaLevelPressavg</th>\n",
       "      <th>Visibilityavg</th>\n",
       "      <th>Windavg</th>\n",
       "      <th>Precipsum</th>\n",
       "      <th>Event</th>\n",
       "      <th>FederalHoliday</th>\n",
       "    </tr>\n",
       "  </thead>\n",
       "  <tbody>\n",
       "    <tr>\n",
       "      <th>0</th>\n",
       "      <td>WomenClothing</td>\n",
       "      <td>2961.0</td>\n",
       "      <td>16955.608626</td>\n",
       "      <td>15705.972667</td>\n",
       "      <td>259.596</td>\n",
       "      <td>6.6</td>\n",
       "      <td>11.85</td>\n",
       "      <td>10.22</td>\n",
       "      <td>24.35</td>\n",
       "      <td>90.96</td>\n",
       "      <td>...</td>\n",
       "      <td>9.75</td>\n",
       "      <td>-1.238095</td>\n",
       "      <td>-9.476190</td>\n",
       "      <td>57.809524</td>\n",
       "      <td>1018.190476</td>\n",
       "      <td>13.047619</td>\n",
       "      <td>10.761905</td>\n",
       "      <td>2.710000</td>\n",
       "      <td>0</td>\n",
       "      <td>2</td>\n",
       "    </tr>\n",
       "    <tr>\n",
       "      <th>1</th>\n",
       "      <td>OtherClothing</td>\n",
       "      <td>921.0</td>\n",
       "      <td>14340.701639</td>\n",
       "      <td>14351.786822</td>\n",
       "      <td>235.067</td>\n",
       "      <td>8.7</td>\n",
       "      <td>12.97</td>\n",
       "      <td>11.05</td>\n",
       "      <td>22.22</td>\n",
       "      <td>51.50</td>\n",
       "      <td>...</td>\n",
       "      <td>11.65</td>\n",
       "      <td>5.967742</td>\n",
       "      <td>-2.903226</td>\n",
       "      <td>57.064516</td>\n",
       "      <td>1021.064516</td>\n",
       "      <td>14.258065</td>\n",
       "      <td>11.387097</td>\n",
       "      <td>1.434194</td>\n",
       "      <td>0</td>\n",
       "      <td>0</td>\n",
       "    </tr>\n",
       "    <tr>\n",
       "      <th>2</th>\n",
       "      <td>MenClothing</td>\n",
       "      <td>702.0</td>\n",
       "      <td>17109.777026</td>\n",
       "      <td>15804.519068</td>\n",
       "      <td>259.971</td>\n",
       "      <td>6.7</td>\n",
       "      <td>11.83</td>\n",
       "      <td>10.09</td>\n",
       "      <td>24.50</td>\n",
       "      <td>96.95</td>\n",
       "      <td>...</td>\n",
       "      <td>9.95</td>\n",
       "      <td>3.709677</td>\n",
       "      <td>-7.290323</td>\n",
       "      <td>48.451613</td>\n",
       "      <td>1015.709677</td>\n",
       "      <td>14.741935</td>\n",
       "      <td>11.612903</td>\n",
       "      <td>3.008065</td>\n",
       "      <td>0</td>\n",
       "      <td>0</td>\n",
       "    </tr>\n",
       "    <tr>\n",
       "      <th>3</th>\n",
       "      <td>OtherClothing</td>\n",
       "      <td>1039.0</td>\n",
       "      <td>15864.502339</td>\n",
       "      <td>15226.204678</td>\n",
       "      <td>249.322</td>\n",
       "      <td>8.3</td>\n",
       "      <td>12.36</td>\n",
       "      <td>10.36</td>\n",
       "      <td>23.56</td>\n",
       "      <td>101.11</td>\n",
       "      <td>...</td>\n",
       "      <td>10.35</td>\n",
       "      <td>2.964286</td>\n",
       "      <td>-4.714286</td>\n",
       "      <td>59.750000</td>\n",
       "      <td>1016.357143</td>\n",
       "      <td>14.071429</td>\n",
       "      <td>12.607143</td>\n",
       "      <td>2.758571</td>\n",
       "      <td>0</td>\n",
       "      <td>3</td>\n",
       "    </tr>\n",
       "    <tr>\n",
       "      <th>4</th>\n",
       "      <td>WomenClothing</td>\n",
       "      <td>2579.0</td>\n",
       "      <td>14596.605447</td>\n",
       "      <td>14595.393094</td>\n",
       "      <td>238.380</td>\n",
       "      <td>10.0</td>\n",
       "      <td>13.71</td>\n",
       "      <td>10.89</td>\n",
       "      <td>22.27</td>\n",
       "      <td>66.82</td>\n",
       "      <td>...</td>\n",
       "      <td>10.00</td>\n",
       "      <td>12.870968</td>\n",
       "      <td>7.032258</td>\n",
       "      <td>69.354839</td>\n",
       "      <td>1016.774194</td>\n",
       "      <td>14.064516</td>\n",
       "      <td>9.677419</td>\n",
       "      <td>4.572581</td>\n",
       "      <td>1</td>\n",
       "      <td>1</td>\n",
       "    </tr>\n",
       "  </tbody>\n",
       "</table>\n",
       "<p>5 rows × 26 columns</p>\n",
       "</div>"
      ],
      "text/plain": [
       "  ProductCategory  SalesInThousandDollars  MonthlyNominalGDPIndexinMillion  \\\n",
       "0   WomenClothing                  2961.0                     16955.608626   \n",
       "1   OtherClothing                   921.0                     14340.701639   \n",
       "2     MenClothing                   702.0                     17109.777026   \n",
       "3   OtherClothing                  1039.0                     15864.502339   \n",
       "4   WomenClothing                  2579.0                     14596.605447   \n",
       "\n",
       "   MonthlyRealGDPIndexinMillion      CPI  unemploymentrate  \\\n",
       "0                  15705.972667  259.596               6.6   \n",
       "1                  14351.786822  235.067               8.7   \n",
       "2                  15804.519068  259.971               6.7   \n",
       "3                  15226.204678  249.322               8.3   \n",
       "4                  14595.393094  238.380              10.0   \n",
       "\n",
       "   CommercialBankInterestRateonCreditCardPlans  \\\n",
       "0                                        11.85   \n",
       "1                                        12.97   \n",
       "2                                        11.83   \n",
       "3                                        12.36   \n",
       "4                                        13.71   \n",
       "\n",
       "   FinanceRateonPersonalLoansatCommercialBanks24MonthLoan  \\\n",
       "0                                              10.22        \n",
       "1                                              11.05        \n",
       "2                                              10.09        \n",
       "3                                              10.36        \n",
       "4                                              10.89        \n",
       "\n",
       "   Earningsorwagesindollarsperhour  CottonMonthlyPriceUScentsperPoundlbs  ...  \\\n",
       "0                            24.35                                 90.96  ...   \n",
       "1                            22.22                                 51.50  ...   \n",
       "2                            24.50                                 96.95  ...   \n",
       "3                            23.56                                101.11  ...   \n",
       "4                            22.27                                 66.82  ...   \n",
       "\n",
       "   Exports    Tempavg  DewPointavg  Humidityavg  SeaLevelPressavg  \\\n",
       "0     9.75  -1.238095    -9.476190    57.809524       1018.190476   \n",
       "1    11.65   5.967742    -2.903226    57.064516       1021.064516   \n",
       "2     9.95   3.709677    -7.290323    48.451613       1015.709677   \n",
       "3    10.35   2.964286    -4.714286    59.750000       1016.357143   \n",
       "4    10.00  12.870968     7.032258    69.354839       1016.774194   \n",
       "\n",
       "   Visibilityavg    Windavg  Precipsum  Event  FederalHoliday  \n",
       "0      13.047619  10.761905   2.710000      0               2  \n",
       "1      14.258065  11.387097   1.434194      0               0  \n",
       "2      14.741935  11.612903   3.008065      0               0  \n",
       "3      14.071429  12.607143   2.758571      0               3  \n",
       "4      14.064516   9.677419   4.572581      1               1  \n",
       "\n",
       "[5 rows x 26 columns]"
      ]
     },
     "execution_count": 7,
     "metadata": {},
     "output_type": "execute_result"
    }
   ],
   "source": [
    "Data"
   ]
  },
  {
   "cell_type": "code",
   "execution_count": 8,
   "id": "17559428",
   "metadata": {},
   "outputs": [
    {
     "name": "stdout",
     "output_type": "stream",
     "text": [
      "<class 'pandas.core.frame.DataFrame'>\n",
      "RangeIndex: 5 entries, 0 to 4\n",
      "Data columns (total 26 columns):\n",
      " #   Column                                                  Non-Null Count  Dtype  \n",
      "---  ------                                                  --------------  -----  \n",
      " 0   ProductCategory                                         5 non-null      object \n",
      " 1   SalesInThousandDollars                                  5 non-null      float64\n",
      " 2   MonthlyNominalGDPIndexinMillion                         5 non-null      float64\n",
      " 3   MonthlyRealGDPIndexinMillion                            5 non-null      float64\n",
      " 4   CPI                                                     5 non-null      float64\n",
      " 5   unemploymentrate                                        5 non-null      float64\n",
      " 6   CommercialBankInterestRateonCreditCardPlans             5 non-null      float64\n",
      " 7   FinanceRateonPersonalLoansatCommercialBanks24MonthLoan  5 non-null      float64\n",
      " 8   Earningsorwagesindollarsperhour                         5 non-null      float64\n",
      " 9   CottonMonthlyPriceUScentsperPoundlbs                    5 non-null      float64\n",
      " 10  Changein                                                5 non-null      float64\n",
      " 11  Averageuplandplantedmillionacres                        5 non-null      float64\n",
      " 12  Averageuplandharvestedmillionacres                      5 non-null      float64\n",
      " 13  yieldperharvestedacre                                   5 non-null      int64  \n",
      " 14  Productionin480lbnetwerightinmillionbales               5 non-null      float64\n",
      " 15  Millusein480lbnetwerightinmillionbales                  5 non-null      float64\n",
      " 16  Exports                                                 5 non-null      float64\n",
      " 17  Tempavg                                                 5 non-null      float64\n",
      " 18  DewPointavg                                             5 non-null      float64\n",
      " 19  Humidityavg                                             5 non-null      float64\n",
      " 20  SeaLevelPressavg                                        5 non-null      float64\n",
      " 21  Visibilityavg                                           5 non-null      float64\n",
      " 22  Windavg                                                 5 non-null      float64\n",
      " 23  Precipsum                                               5 non-null      float64\n",
      " 24  Event                                                   5 non-null      int64  \n",
      " 25  FederalHoliday                                          5 non-null      int64  \n",
      "dtypes: float64(22), int64(3), object(1)\n",
      "memory usage: 1.1+ KB\n"
     ]
    }
   ],
   "source": [
    "Data.info()"
   ]
  },
  {
   "cell_type": "code",
   "execution_count": 9,
   "id": "84a9e1fe",
   "metadata": {},
   "outputs": [],
   "source": [
    "Data= Data.drop(['Averageuplandharvestedmillionacres','Productionin480lbnetwerightinmillionbales',\n",
    "                                               'Tempavg','DewPointavg','Humidityavg','SalesInThousandDollars'],axis=1)"
   ]
  },
  {
   "cell_type": "code",
   "execution_count": 10,
   "id": "91b27cb1",
   "metadata": {},
   "outputs": [],
   "source": [
    "#Data= Data.drop(['Averageuplandharvestedmillionacres','Productionin480lbnetwerightinmillionbales',\n",
    "#                                                'Tempavg','DewPointavg','Humidityavg'],axis=1)\n",
    "#Data.to_csv('out.csv')"
   ]
  },
  {
   "cell_type": "code",
   "execution_count": 11,
   "id": "ffc2debe",
   "metadata": {},
   "outputs": [
    {
     "data": {
      "text/html": [
       "<div>\n",
       "<style scoped>\n",
       "    .dataframe tbody tr th:only-of-type {\n",
       "        vertical-align: middle;\n",
       "    }\n",
       "\n",
       "    .dataframe tbody tr th {\n",
       "        vertical-align: top;\n",
       "    }\n",
       "\n",
       "    .dataframe thead th {\n",
       "        text-align: right;\n",
       "    }\n",
       "</style>\n",
       "<table border=\"1\" class=\"dataframe\">\n",
       "  <thead>\n",
       "    <tr style=\"text-align: right;\">\n",
       "      <th></th>\n",
       "      <th>ProductCategory</th>\n",
       "      <th>MonthlyNominalGDPIndexinMillion</th>\n",
       "      <th>MonthlyRealGDPIndexinMillion</th>\n",
       "      <th>CPI</th>\n",
       "      <th>unemploymentrate</th>\n",
       "      <th>CommercialBankInterestRateonCreditCardPlans</th>\n",
       "      <th>FinanceRateonPersonalLoansatCommercialBanks24MonthLoan</th>\n",
       "      <th>Earningsorwagesindollarsperhour</th>\n",
       "      <th>CottonMonthlyPriceUScentsperPoundlbs</th>\n",
       "      <th>Changein</th>\n",
       "      <th>Averageuplandplantedmillionacres</th>\n",
       "      <th>yieldperharvestedacre</th>\n",
       "      <th>Millusein480lbnetwerightinmillionbales</th>\n",
       "      <th>Exports</th>\n",
       "      <th>SeaLevelPressavg</th>\n",
       "      <th>Visibilityavg</th>\n",
       "      <th>Windavg</th>\n",
       "      <th>Precipsum</th>\n",
       "      <th>Event</th>\n",
       "      <th>FederalHoliday</th>\n",
       "    </tr>\n",
       "  </thead>\n",
       "  <tbody>\n",
       "    <tr>\n",
       "      <th>0</th>\n",
       "      <td>WomenClothing</td>\n",
       "      <td>16955.608626</td>\n",
       "      <td>15705.972667</td>\n",
       "      <td>259.596</td>\n",
       "      <td>6.6</td>\n",
       "      <td>11.85</td>\n",
       "      <td>10.22</td>\n",
       "      <td>24.35</td>\n",
       "      <td>90.96</td>\n",
       "      <td>3.97</td>\n",
       "      <td>10.206</td>\n",
       "      <td>807</td>\n",
       "      <td>3.580</td>\n",
       "      <td>9.75</td>\n",
       "      <td>1018.190476</td>\n",
       "      <td>13.047619</td>\n",
       "      <td>10.761905</td>\n",
       "      <td>2.710000</td>\n",
       "      <td>0</td>\n",
       "      <td>2</td>\n",
       "    </tr>\n",
       "    <tr>\n",
       "      <th>1</th>\n",
       "      <td>OtherClothing</td>\n",
       "      <td>14340.701639</td>\n",
       "      <td>14351.786822</td>\n",
       "      <td>235.067</td>\n",
       "      <td>8.7</td>\n",
       "      <td>12.97</td>\n",
       "      <td>11.05</td>\n",
       "      <td>22.22</td>\n",
       "      <td>51.50</td>\n",
       "      <td>-6.72</td>\n",
       "      <td>9.296</td>\n",
       "      <td>799</td>\n",
       "      <td>3.720</td>\n",
       "      <td>11.65</td>\n",
       "      <td>1021.064516</td>\n",
       "      <td>14.258065</td>\n",
       "      <td>11.387097</td>\n",
       "      <td>1.434194</td>\n",
       "      <td>0</td>\n",
       "      <td>0</td>\n",
       "    </tr>\n",
       "    <tr>\n",
       "      <th>2</th>\n",
       "      <td>MenClothing</td>\n",
       "      <td>17109.777026</td>\n",
       "      <td>15804.519068</td>\n",
       "      <td>259.971</td>\n",
       "      <td>6.7</td>\n",
       "      <td>11.83</td>\n",
       "      <td>10.09</td>\n",
       "      <td>24.50</td>\n",
       "      <td>96.95</td>\n",
       "      <td>3.08</td>\n",
       "      <td>10.206</td>\n",
       "      <td>807</td>\n",
       "      <td>3.580</td>\n",
       "      <td>9.95</td>\n",
       "      <td>1015.709677</td>\n",
       "      <td>14.741935</td>\n",
       "      <td>11.612903</td>\n",
       "      <td>3.008065</td>\n",
       "      <td>0</td>\n",
       "      <td>0</td>\n",
       "    </tr>\n",
       "    <tr>\n",
       "      <th>3</th>\n",
       "      <td>OtherClothing</td>\n",
       "      <td>15864.502339</td>\n",
       "      <td>15226.204678</td>\n",
       "      <td>249.322</td>\n",
       "      <td>8.3</td>\n",
       "      <td>12.36</td>\n",
       "      <td>10.36</td>\n",
       "      <td>23.56</td>\n",
       "      <td>101.11</td>\n",
       "      <td>5.93</td>\n",
       "      <td>14.426</td>\n",
       "      <td>754</td>\n",
       "      <td>3.575</td>\n",
       "      <td>10.35</td>\n",
       "      <td>1016.357143</td>\n",
       "      <td>14.071429</td>\n",
       "      <td>12.607143</td>\n",
       "      <td>2.758571</td>\n",
       "      <td>0</td>\n",
       "      <td>3</td>\n",
       "    </tr>\n",
       "    <tr>\n",
       "      <th>4</th>\n",
       "      <td>WomenClothing</td>\n",
       "      <td>14596.605447</td>\n",
       "      <td>14595.393094</td>\n",
       "      <td>238.380</td>\n",
       "      <td>10.0</td>\n",
       "      <td>13.71</td>\n",
       "      <td>10.89</td>\n",
       "      <td>22.27</td>\n",
       "      <td>66.82</td>\n",
       "      <td>4.29</td>\n",
       "      <td>8.989</td>\n",
       "      <td>799</td>\n",
       "      <td>3.370</td>\n",
       "      <td>10.00</td>\n",
       "      <td>1016.774194</td>\n",
       "      <td>14.064516</td>\n",
       "      <td>9.677419</td>\n",
       "      <td>4.572581</td>\n",
       "      <td>1</td>\n",
       "      <td>1</td>\n",
       "    </tr>\n",
       "  </tbody>\n",
       "</table>\n",
       "</div>"
      ],
      "text/plain": [
       "  ProductCategory  MonthlyNominalGDPIndexinMillion  \\\n",
       "0   WomenClothing                     16955.608626   \n",
       "1   OtherClothing                     14340.701639   \n",
       "2     MenClothing                     17109.777026   \n",
       "3   OtherClothing                     15864.502339   \n",
       "4   WomenClothing                     14596.605447   \n",
       "\n",
       "   MonthlyRealGDPIndexinMillion      CPI  unemploymentrate  \\\n",
       "0                  15705.972667  259.596               6.6   \n",
       "1                  14351.786822  235.067               8.7   \n",
       "2                  15804.519068  259.971               6.7   \n",
       "3                  15226.204678  249.322               8.3   \n",
       "4                  14595.393094  238.380              10.0   \n",
       "\n",
       "   CommercialBankInterestRateonCreditCardPlans  \\\n",
       "0                                        11.85   \n",
       "1                                        12.97   \n",
       "2                                        11.83   \n",
       "3                                        12.36   \n",
       "4                                        13.71   \n",
       "\n",
       "   FinanceRateonPersonalLoansatCommercialBanks24MonthLoan  \\\n",
       "0                                              10.22        \n",
       "1                                              11.05        \n",
       "2                                              10.09        \n",
       "3                                              10.36        \n",
       "4                                              10.89        \n",
       "\n",
       "   Earningsorwagesindollarsperhour  CottonMonthlyPriceUScentsperPoundlbs  \\\n",
       "0                            24.35                                 90.96   \n",
       "1                            22.22                                 51.50   \n",
       "2                            24.50                                 96.95   \n",
       "3                            23.56                                101.11   \n",
       "4                            22.27                                 66.82   \n",
       "\n",
       "   Changein  Averageuplandplantedmillionacres  yieldperharvestedacre  \\\n",
       "0      3.97                            10.206                    807   \n",
       "1     -6.72                             9.296                    799   \n",
       "2      3.08                            10.206                    807   \n",
       "3      5.93                            14.426                    754   \n",
       "4      4.29                             8.989                    799   \n",
       "\n",
       "   Millusein480lbnetwerightinmillionbales  Exports  SeaLevelPressavg  \\\n",
       "0                                   3.580     9.75       1018.190476   \n",
       "1                                   3.720    11.65       1021.064516   \n",
       "2                                   3.580     9.95       1015.709677   \n",
       "3                                   3.575    10.35       1016.357143   \n",
       "4                                   3.370    10.00       1016.774194   \n",
       "\n",
       "   Visibilityavg    Windavg  Precipsum  Event  FederalHoliday  \n",
       "0      13.047619  10.761905   2.710000      0               2  \n",
       "1      14.258065  11.387097   1.434194      0               0  \n",
       "2      14.741935  11.612903   3.008065      0               0  \n",
       "3      14.071429  12.607143   2.758571      0               3  \n",
       "4      14.064516   9.677419   4.572581      1               1  "
      ]
     },
     "execution_count": 11,
     "metadata": {},
     "output_type": "execute_result"
    }
   ],
   "source": [
    "Data"
   ]
  },
  {
   "cell_type": "code",
   "execution_count": 14,
   "id": "4ed1252d",
   "metadata": {},
   "outputs": [
    {
     "data": {
      "text/plain": [
       "array([0, 1], dtype=int64)"
      ]
     },
     "execution_count": 14,
     "metadata": {},
     "output_type": "execute_result"
    }
   ],
   "source": [
    "Data['Event'].unique()"
   ]
  },
  {
   "cell_type": "code",
   "execution_count": 15,
   "id": "bd73bf43",
   "metadata": {},
   "outputs": [
    {
     "data": {
      "text/plain": [
       "(5, 20)"
      ]
     },
     "execution_count": 15,
     "metadata": {},
     "output_type": "execute_result"
    }
   ],
   "source": [
    "Data.shape"
   ]
  },
  {
   "cell_type": "code",
   "execution_count": 16,
   "id": "b2614f7b",
   "metadata": {},
   "outputs": [
    {
     "data": {
      "text/plain": [
       "ProductCategory                                            object\n",
       "MonthlyNominalGDPIndexinMillion                           float64\n",
       "MonthlyRealGDPIndexinMillion                              float64\n",
       "CPI                                                       float64\n",
       "unemploymentrate                                          float64\n",
       "CommercialBankInterestRateonCreditCardPlans               float64\n",
       "FinanceRateonPersonalLoansatCommercialBanks24MonthLoan    float64\n",
       "Earningsorwagesindollarsperhour                           float64\n",
       "CottonMonthlyPriceUScentsperPoundlbs                      float64\n",
       "Changein                                                  float64\n",
       "Averageuplandplantedmillionacres                          float64\n",
       "yieldperharvestedacre                                       int64\n",
       "Millusein480lbnetwerightinmillionbales                    float64\n",
       "Exports                                                   float64\n",
       "SeaLevelPressavg                                          float64\n",
       "Visibilityavg                                             float64\n",
       "Windavg                                                   float64\n",
       "Precipsum                                                 float64\n",
       "Event                                                       int64\n",
       "FederalHoliday                                              int64\n",
       "dtype: object"
      ]
     },
     "execution_count": 16,
     "metadata": {},
     "output_type": "execute_result"
    }
   ],
   "source": [
    "Data.dtypes"
   ]
  },
  {
   "cell_type": "markdown",
   "id": "68a5bbe6",
   "metadata": {},
   "source": [
    "#### Enter the Inputs"
   ]
  },
  {
   "cell_type": "code",
   "execution_count": null,
   "id": "3affaf34",
   "metadata": {},
   "outputs": [],
   "source": [
    "index=int(input('Please select a row number from 0 to 4 to choose your input: ' ))"
   ]
  },
  {
   "cell_type": "code",
   "execution_count": null,
   "id": "7ee7abb5",
   "metadata": {},
   "outputs": [],
   "source": [
    "Data=Data.loc[index]"
   ]
  },
  {
   "cell_type": "code",
   "execution_count": null,
   "id": "c85a66ad",
   "metadata": {},
   "outputs": [],
   "source": [
    "Data"
   ]
  },
  {
   "cell_type": "code",
   "execution_count": null,
   "id": "5a6e5ebc",
   "metadata": {},
   "outputs": [],
   "source": [
    "Data.dtypes"
   ]
  },
  {
   "cell_type": "markdown",
   "id": "bce74036",
   "metadata": {},
   "source": [
    "#### Processing user input"
   ]
  },
  {
   "cell_type": "code",
   "execution_count": null,
   "id": "8a70ce56",
   "metadata": {},
   "outputs": [],
   "source": [
    "Data = pd.DataFrame(Data).transpose()"
   ]
  },
  {
   "cell_type": "code",
   "execution_count": null,
   "id": "1b572193",
   "metadata": {},
   "outputs": [],
   "source": [
    "## converting text data into numerical\n",
    "Data.replace({'MenClothing': 0, 'WomenClothing': 1,'OtherClothing':2},inplace=True)"
   ]
  },
  {
   "cell_type": "code",
   "execution_count": null,
   "id": "0736ea7d",
   "metadata": {},
   "outputs": [],
   "source": [
    "Data"
   ]
  },
  {
   "cell_type": "markdown",
   "id": "5539e140",
   "metadata": {},
   "source": [
    "## Load the model"
   ]
  },
  {
   "cell_type": "code",
   "execution_count": null,
   "id": "6b158a2e",
   "metadata": {},
   "outputs": [],
   "source": [
    "# Prediction model filename\n",
    "prediction_model_file=os.path.join(ROOT_PATH,config['models_dir'],config['prediction_model'])\n",
    "#print(prediction_model_file)"
   ]
  },
  {
   "cell_type": "code",
   "execution_count": null,
   "id": "bb1522c6",
   "metadata": {},
   "outputs": [],
   "source": [
    "## load the model\n",
    "import pickle\n",
    "prediction_model = pickle.load(open(prediction_model_file, 'rb'))"
   ]
  },
  {
   "cell_type": "code",
   "execution_count": null,
   "id": "7eac5d5c",
   "metadata": {},
   "outputs": [],
   "source": [
    "## lets predict the labels for x data\n",
    "\n",
    "y_pred=prediction_model.predict(Data)\n",
    "y_pred"
   ]
  },
  {
   "cell_type": "markdown",
   "id": "31901153",
   "metadata": {},
   "source": [
    "#### Output "
   ]
  },
  {
   "cell_type": "code",
   "execution_count": null,
   "id": "5e0a5a42",
   "metadata": {},
   "outputs": [],
   "source": [
    "print(\"The sales value for choosen category input is:\", int(y_pred))"
   ]
  }
 ],
 "metadata": {
  "kernelspec": {
   "display_name": "Python 3 (ipykernel)",
   "language": "python",
   "name": "python3"
  },
  "language_info": {
   "codemirror_mode": {
    "name": "ipython",
    "version": 3
   },
   "file_extension": ".py",
   "mimetype": "text/x-python",
   "name": "python",
   "nbconvert_exporter": "python",
   "pygments_lexer": "ipython3",
   "version": "3.10.4"
  },
  "vscode": {
   "interpreter": {
    "hash": "51a12aa5a0cb9f0a5f989c76678442949bfc8ac39382f94314606ae3c6b068a2"
   }
  }
 },
 "nbformat": 4,
 "nbformat_minor": 5
}
