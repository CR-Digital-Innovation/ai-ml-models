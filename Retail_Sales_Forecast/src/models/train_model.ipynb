{
 "cells": [
  {
   "cell_type": "markdown",
   "id": "ac69bbaf",
   "metadata": {},
   "source": [
    "#### Importing Libraries and Reading Processed Data"
   ]
  },
  {
   "cell_type": "code",
   "execution_count": null,
   "id": "d243903d",
   "metadata": {},
   "outputs": [],
   "source": [
    "import numpy as np\n",
    "import pandas as pd\n",
    "from sklearn import preprocessing\n",
    "from sklearn.linear_model import LinearRegression\n",
    "from sklearn.linear_model import Ridge\n",
    "from sklearn.feature_selection import SelectKBest\n",
    "from sklearn.svm import SVR\n",
    "from sklearn.svm import LinearSVR\n",
    "from xgboost import XGBRegressor\n",
    "from sklearn.tree import DecisionTreeRegressor\n",
    "from lightgbm import LGBMRegressor\n",
    "from sklearn.ensemble import RandomForestRegressor\n",
    "from sklearn.model_selection import GridSearchCV, StratifiedKFold\n",
    "from statsmodels.stats.outliers_influence import variance_inflation_factor\n",
    "from sklearn.datasets import make_regression\n",
    "from sklearn.model_selection import cross_val_score\n",
    "from sklearn.model_selection import RepeatedKFold\n",
    "from sklearn import preprocessing\n",
    "from sklearn.metrics import mean_absolute_percentage_error\n",
    "from sklearn.model_selection import train_test_split\n",
    "import re\n",
    "import warnings\n",
    "warnings.filterwarnings(\"ignore\")\n",
    "import time\n",
    "import os\n",
    "import joblib"
   ]
  },
  {
   "cell_type": "markdown",
   "id": "21a0773b",
   "metadata": {},
   "source": [
    "Load Config"
   ]
  },
  {
   "cell_type": "code",
   "execution_count": null,
   "id": "1861aa16",
   "metadata": {},
   "outputs": [],
   "source": [
    "import yaml\n",
    "\n",
    "#read yaml file\n",
    "with open('../config/config.yaml') as file:\n",
    "  config= yaml.safe_load(file)\n",
    "  #print(config)"
   ]
  },
  {
   "cell_type": "markdown",
   "id": "b1d37ed6",
   "metadata": {},
   "source": [
    "## Load the cleaned Dataset"
   ]
  },
  {
   "cell_type": "markdown",
   "id": "4b88c6c2",
   "metadata": {},
   "source": [
    "Get root dir"
   ]
  },
  {
   "cell_type": "code",
   "execution_count": null,
   "id": "e9cc0807",
   "metadata": {},
   "outputs": [],
   "source": [
    "#Get current working dir\n",
    "cwd_path=os.getcwd()\n",
    "#print(cwd_path)\n",
    "\n",
    "#  Get the path of ROOT DIR\n",
    "path_list = cwd_path.split(os.sep) #split path\n",
    "ROOT_PATH=os.path.join(path_list[0],os.sep,*path_list[1:-2]) # To move two level up, remove last two str and join to create root path\n",
    "#print(ROOT_PATH)"
   ]
  },
  {
   "cell_type": "markdown",
   "id": "9511fbfa",
   "metadata": {},
   "source": [
    "Read the clean data"
   ]
  },
  {
   "cell_type": "code",
   "execution_count": null,
   "id": "0258c3b2",
   "metadata": {},
   "outputs": [],
   "source": [
    "# process Data file\n",
    "Process_Data_file=os.path.join(ROOT_PATH,config['processed_data_dir'],config['processed_data_file'])\n",
    "print(Process_Data_file)\n",
    "\n",
    "# Read the Sales input file name\n",
    "try:\n",
    "    Data=pd.read_csv(Process_Data_file)\n",
    "    #sales_data.head()\n",
    "except FileNotFoundError:\n",
    "    print(\"file {} does not exist\".format(Process_Data_file))\n",
    "\n"
   ]
  },
  {
   "cell_type": "code",
   "execution_count": null,
   "id": "8bc58931",
   "metadata": {},
   "outputs": [],
   "source": [
    "Data"
   ]
  },
  {
   "cell_type": "markdown",
   "id": "5d66a1d2",
   "metadata": {},
   "source": [
    "#### Train test split"
   ]
  },
  {
   "cell_type": "markdown",
   "id": "960244dc",
   "metadata": {},
   "source": [
    "Separating independent features and target feature"
   ]
  },
  {
   "cell_type": "code",
   "execution_count": null,
   "id": "c3f1e7fd",
   "metadata": {},
   "outputs": [],
   "source": [
    "X= Data.drop(['SalesInThousandDollars'],axis=1)"
   ]
  },
  {
   "cell_type": "code",
   "execution_count": null,
   "id": "ba5cbfce",
   "metadata": {},
   "outputs": [],
   "source": [
    "X"
   ]
  },
  {
   "cell_type": "code",
   "execution_count": null,
   "id": "d2d453a1",
   "metadata": {},
   "outputs": [],
   "source": [
    "y= Data['SalesInThousandDollars']"
   ]
  },
  {
   "cell_type": "code",
   "execution_count": null,
   "id": "3097b5d6",
   "metadata": {},
   "outputs": [],
   "source": [
    "y"
   ]
  },
  {
   "cell_type": "markdown",
   "id": "67bc1295",
   "metadata": {},
   "source": [
    "Splitting data intp train-test with 75% and 25% ratio"
   ]
  },
  {
   "cell_type": "code",
   "execution_count": null,
   "id": "cb6807a7",
   "metadata": {},
   "outputs": [],
   "source": [
    "X_train, X_test, y_train, y_test = train_test_split(X, y, test_size=0.25, random_state=42, shuffle = False)"
   ]
  },
  {
   "cell_type": "code",
   "execution_count": null,
   "id": "b0c0d9de",
   "metadata": {},
   "outputs": [],
   "source": [
    "print(X_train.shape)\n",
    "print(y_train.shape)\n",
    "print(X_test.shape)\n",
    "print(y_test.shape)"
   ]
  },
  {
   "cell_type": "code",
   "execution_count": null,
   "id": "180a6ed6",
   "metadata": {},
   "outputs": [],
   "source": [
    "X_train.dtypes"
   ]
  },
  {
   "cell_type": "markdown",
   "id": "ecf658f4",
   "metadata": {},
   "source": [
    "#### Model Building"
   ]
  },
  {
   "cell_type": "markdown",
   "id": "20b2d9ef",
   "metadata": {},
   "source": [
    "XGBoost Model"
   ]
  },
  {
   "cell_type": "code",
   "execution_count": null,
   "id": "509fcb2c",
   "metadata": {},
   "outputs": [],
   "source": [
    "regressor = XGBRegressor(random_state=42)\n",
    "model = regressor.fit(X_train, y_train)\n",
    "y_pred = model.predict(X_test)"
   ]
  },
  {
   "cell_type": "code",
   "execution_count": null,
   "id": "3bc7784d",
   "metadata": {},
   "outputs": [],
   "source": [
    "print(mean_absolute_percentage_error(y_test,y_pred)*100)"
   ]
  },
  {
   "cell_type": "markdown",
   "id": "6aca8c40",
   "metadata": {},
   "source": [
    "Hyper-parameter tuning the XGBoost Model with CrossValidation"
   ]
  },
  {
   "cell_type": "code",
   "execution_count": null,
   "id": "9ca7f462",
   "metadata": {},
   "outputs": [],
   "source": [
    "model.get_params()"
   ]
  },
  {
   "cell_type": "code",
   "execution_count": null,
   "id": "ac4dccf1",
   "metadata": {},
   "outputs": [],
   "source": [
    "param_grid = dict(\n",
    "    n_jobs=[16],\n",
    "    learning_rate=[0.1, 0.5],\n",
    "    objective=['reg:squarederror'],\n",
    "    max_depth=[5, 10, 15], \n",
    "    n_estimators=[100, 200, 500],\n",
    "    subsample=[0.2, 0.8, 1.0],\n",
    "    gamma=[0.05, 0.5],\n",
    "    scale_pos_weight=[0, 1],\n",
    "    reg_alpha=[0, 0.5],\n",
    "    reg_lambda=[1, 0],\n",
    ")"
   ]
  },
  {
   "cell_type": "code",
   "execution_count": null,
   "id": "7d5dc8de",
   "metadata": {},
   "outputs": [],
   "source": [
    "model = XGBRegressor(random_state=42, verbosity=1)\n",
    "\n",
    "grid_search = GridSearchCV(estimator=model,\n",
    "                           param_grid=param_grid,\n",
    "                           scoring='neg_mean_absolute_percentage_error',\n",
    "                           )"
   ]
  },
  {
   "cell_type": "code",
   "execution_count": null,
   "id": "b641e174",
   "metadata": {},
   "outputs": [],
   "source": [
    "%%time\n",
    "best_model = grid_search.fit(X_train, y_train)\n",
    "print('Optimum parameters', best_model.best_params_)"
   ]
  },
  {
   "cell_type": "code",
   "execution_count": null,
   "id": "75215a42",
   "metadata": {},
   "outputs": [],
   "source": [
    "ModelXGBregressor = XGBRegressor(gamma=0.5, learning_rate= 0.1, max_depth= 5, n_estimators= 100,\n",
    "                         n_jobs=16, objective='reg:squarederror', reg_alpha= 0.5, reg_lambda= 1, \n",
    "                         scale_pos_weight=0, subsample=1.0,random_state=42)"
   ]
  },
  {
   "cell_type": "code",
   "execution_count": null,
   "id": "d0a6427c",
   "metadata": {},
   "outputs": [],
   "source": [
    "TunedXGBmodel = ModelXGBregressor.fit(X_train, y_train)\n",
    "tuned_xgboost_pred = TunedXGBmodel.predict(X_test)"
   ]
  },
  {
   "cell_type": "code",
   "execution_count": null,
   "id": "7691e07e",
   "metadata": {},
   "outputs": [],
   "source": [
    "print(mean_absolute_percentage_error(y_test,tuned_xgboost_pred)*100)"
   ]
  },
  {
   "cell_type": "markdown",
   "id": "4ebf7a22",
   "metadata": {},
   "source": [
    "#### Saving the model"
   ]
  },
  {
   "cell_type": "code",
   "execution_count": null,
   "id": "18b29df9",
   "metadata": {},
   "outputs": [],
   "source": [
    "# training model filename\n",
    "training_model=os.path.join(ROOT_PATH,config['models_dir'],config['training_model'])\n",
    "#print(training_model)"
   ]
  },
  {
   "cell_type": "code",
   "execution_count": null,
   "id": "bfdafe05",
   "metadata": {},
   "outputs": [],
   "source": [
    "# save the model \n",
    "import pickle\n",
    "pickle.dump(TunedXGBmodel, open(training_model, 'wb'))"
   ]
  }
 ],
 "metadata": {
  "kernelspec": {
   "display_name": "Python 3.8.0 ('cr_Retail_Sales')",
   "language": "python",
   "name": "python3"
  },
  "language_info": {
   "codemirror_mode": {
    "name": "ipython",
    "version": 3
   },
   "file_extension": ".py",
   "mimetype": "text/x-python",
   "name": "python",
   "nbconvert_exporter": "python",
   "pygments_lexer": "ipython3",
   "version": "3.8.0"
  },
  "vscode": {
   "interpreter": {
    "hash": "51a12aa5a0cb9f0a5f989c76678442949bfc8ac39382f94314606ae3c6b068a2"
   }
  }
 },
 "nbformat": 4,
 "nbformat_minor": 5
}
