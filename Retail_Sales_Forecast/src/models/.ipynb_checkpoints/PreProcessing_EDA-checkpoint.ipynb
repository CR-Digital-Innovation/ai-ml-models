{
 "cells": [
  {
   "cell_type": "markdown",
   "id": "a16203fa",
   "metadata": {},
   "source": [
    "# Sales Forecasting of Major Retail Clothing Product Categories using Regression and Time Series Analysis"
   ]
  },
  {
   "cell_type": "markdown",
   "id": "1f041146",
   "metadata": {},
   "source": [
    "**Problem Description:** Building a framework that provides monthly forecasts of the 12 months (ie., from Jan 2016 to Dec 2106) for \"Womenclothing\" product category with influencing factors of the sales such as holiday events, weather changes, Macroeconomic factors etc using the Regression model."
   ]
  },
  {
   "cell_type": "markdown",
   "id": "514006c8",
   "metadata": {},
   "source": [
    "**How this Business problem is converted into a Machine Learning problem and how it will help the business?**\n",
    "\n",
    "A leading retailer in USA, wants to forecast sales for their product categories in their store based on the sales history of each category. Sales forecast has very high influence on the performance of the company’s business and hence these sales forecasts can be used to estimate company’s success or performance in the coming year. Accurate forecasts may lead to better decisions in business. Sales or revenues forecasting is very important for retail operations. Forecasting of retail sales helps retailer to take necessary measures to plan their budgets or investments in a period (monthly, yearly) among different product categories like women clothing, men clothing and other clothing and at the same time they can plan to minimize revenue loss from unavailability of products by investing accordingly.The good news is that powerful Machine Learning (ML) algorithm can help to forecast sales of different category clothng product for next few years."
   ]
  },
  {
   "cell_type": "markdown",
   "id": "08a1162e",
   "metadata": {},
   "source": [
    "**Data**: There are 4 datasets \n",
    "1. Macro Economic Dataset \n",
    "2. Events and Holidays Dataset \n",
    "3. Weather Data Set \n",
    "4. Train Data (Sales and the Year/Month)\n"
   ]
  },
  {
   "cell_type": "markdown",
   "id": "2f6a201d",
   "metadata": {},
   "source": [
    "#####                                                                                 Sales Data Description\n",
    "    AttributeName                  Type               Description\n",
    "    Year                           temporal            Year\n",
    "    Month                          temporal            Month\n",
    "    ProductCategory                categorical         Clothing Products category - WomenClothing, MenClothing,OtherClothing\n",
    "    Sales(In ThousandDollars)      numeric             Value of the sales or revenue in thousand dollars\n"
   ]
  },
  {
   "cell_type": "markdown",
   "id": "67d377c6",
   "metadata": {},
   "source": [
    "#### Weather Data Description\n",
    "    \n",
    "    AttributeName                             Description                                                 ActualType\n",
    "    Year                                       Year                                                        Temporal\n",
    "    Month                                      Month                                                       Temporal\n",
    "    Day                                        Day                                                         Temporal\n",
    "    Temp high (°C)                             Temperature HighInF                                         numeric\n",
    "    Temp avg (°C)                              Temperature AvgInF                                          numeric\n",
    "    Temp low (°C)                              Temperature LowinF                                          numeric\n",
    "    Dew Point high (°C)\t                       DewPointHighInF\t                                           numeric\n",
    "    Dew Point avg (°C)\t                       DewPointAvginF\t                                           numeric\n",
    "    Dew Point low (°C)\t                       DewPointLowinF\t                                           numeric\n",
    "    Humidity (%) high\t                       Humidity HighPercent\t                                       numeric\n",
    "    Humidity (%) avg\t                       Humidity AvgPercent\t                                       numeric\n",
    "    Humidity (%) low\t                       Humidity LowPercent\t                                       numeric\n",
    "    Sea Level Press.(hPa) high\t               Sea Level Pressure High_hPa\t                               numeric\n",
    "    Sea Level Press.(hPa) avg\t               Sea Level Pressure Avg_hPa\t                               numeric\n",
    "    Sea Level Press.(hPa) low\t               Sea Level Pressure Low_hPa\t                               numeric\n",
    "    Visibility (km) high\t                   Visibility HighInKM\t                                       numeric\n",
    "    Visibility (km) avg\t                       Visibility AvgInKM\t                                       numeric\n",
    "    Visibility (km) low\t                       Visibility LowInKM\t                                       numeric\n",
    "    Wind (km/h) low\tWind                       LowInKmperhour\t                                           numeric\n",
    "    Wind (km/h) avg\tWind                       AvgInKmperhour\t                                           numeric\n",
    "    Wind (km/h) high Wind                      HighInKmperhour\t                                           numeric\n",
    "    Precip. (mm) sum\t                       Precipitation sum in mm\t                           numeric values and character\n",
    "    WeatherEvent\t                           Details of weather like snow, rain, fog etc\t               categorical\n"
   ]
  },
  {
   "cell_type": "markdown",
   "id": "75a3e2e4",
   "metadata": {},
   "source": [
    "##### Events Holiday Data Description\n",
    "\n",
    "     AttributeName                    Description\t                                   ActualType\n",
    "           Year\t                        Year\t                                        Temporal\n",
    "           MonthDate\t                Month and date combination\t                    Temporal\n",
    "           Event\t                    Details of special event or holiday\t            categorical\n",
    "           DayCategory\t                Whether federal holiday or event\t            categorical\n"
   ]
  },
  {
   "cell_type": "markdown",
   "id": "148f25fd",
   "metadata": {},
   "source": [
    "##### MacroEconomic Data Description\n",
    "\n",
    "    AttributeName\t                                 Description\t                                         ActualType\n",
    "    1.Year-Month\t                            Combination of Year and month\t                               Temporal\n",
    "    2.MonthlyNominal GDP Index \t                Monthly NominalGDPIndex In Million Dollars\t                   numeric\n",
    "    3.Monthly Real GDP Index \t                Monthly RealGDPIndex In Million Dollars\t                       numeric\n",
    "    4.CPI\t                                    CPI\t                                                           numeric\n",
    "    5.PartyInPower\t                            Political party which is in power\t                           categorical\n",
    "    6.unemployment rate\t                        unemployment rate\t                                           numeric\n",
    "    7.CommercialBankInterestRateon\n",
    "    8.CreditCardPlans Commercial Bank           Interest Rate on Credit Card Plans\t                           numeric\n",
    "    9.Finance Rate on Personal Loans  \n",
    "    at Commercial Banks, 24 Month Loan\t        Finance Rate on Personal Loans \n",
    "                                                at CommercialBanks_24MonthLoan\t                               numeric                                                                                \n",
    "    10.Earnings or wages in dollars per hour\tEarnings or wages in dollars per hour\t                       numeric\n",
    "    11.AdvertisingExpenses                      Expenses for ads in thousand dollars\t                       numeric\n",
    "    12.Cotton Monthly Price                     Cotton Monthly Price_US cents per Pound_lbs\t                   numeric\n",
    "    13.Change Percentage                        Change In Mly Cotton Price\t                                   numeric\n",
    "    14.Average upland planted\t                Average upland Cotton planted In Million Acres\t               numeric\n",
    "    15.Average upland harvested             \tAverage upland Cotton harvested In Million Acres\t           numeric\n",
    "    yieldperharvested acre\t                    Cotton yield per harvested acre( in pounds ie lbs)\t           numeric        \n",
    "    16.Production\t                            Cotton Production In480_l bnetweight in Million Bales          numeric\n",
    "    17.Mill use\t                                Cotton Mill Use In480_lb netweight in Million Bales\t           numeric\n",
    "    18.Exports Cotton                           Explorts In480_lb netweight in Million Bales\t               numeric\n"
   ]
  },
  {
   "cell_type": "markdown",
   "id": "028cf6b7",
   "metadata": {},
   "source": [
    "### Importing Required Pacakges"
   ]
  },
  {
   "cell_type": "code",
   "execution_count": 1,
   "id": "02854364",
   "metadata": {},
   "outputs": [
    {
     "name": "stderr",
     "output_type": "stream",
     "text": [
      "C:\\Users\\Riyaz Mehendi\\anaconda3\\envs\\venv1\\lib\\site-packages\\xgboost\\compat.py:36: FutureWarning: pandas.Int64Index is deprecated and will be removed from pandas in a future version. Use pandas.Index with the appropriate dtype instead.\n",
      "  from pandas import MultiIndex, Int64Index\n"
     ]
    }
   ],
   "source": [
    "import os\n",
    "import numpy as np\n",
    "import pandas as pd\n",
    "import matplotlib.pyplot as plt\n",
    "import seaborn as sns\n",
    "from matplotlib import style\n",
    "from IPython.display import Image\n",
    "from sklearn import preprocessing\n",
    "from sklearn import feature_selection\n",
    "from sklearn.linear_model import LinearRegression\n",
    "from sklearn.feature_selection import SelectKBest\n",
    "from sklearn.feature_selection import f_regression\n",
    "from statsmodels.formula.api import ols\n",
    "from sklearn.svm import SVR\n",
    "from sklearn.model_selection import GridSearchCV, StratifiedKFold\n",
    "from statsmodels.stats.outliers_influence import variance_inflation_factor\n",
    "from sklearn.ensemble import RandomForestRegressor\n",
    "from sklearn.linear_model import Ridge,Lasso\n",
    "import xgboost as xgb\n",
    "import warnings\n",
    "warnings.filterwarnings(\"ignore\")"
   ]
  },
  {
   "cell_type": "markdown",
   "id": "2c32506a",
   "metadata": {},
   "source": [
    "### Loading the Files and Reading the Data"
   ]
  },
  {
   "cell_type": "markdown",
   "id": "f3c8e056",
   "metadata": {},
   "source": [
    "Reading all the given files Train.csv, Events_HolidaysData.xlsx, MacroEconomicData.xlsx & WeatherDataNew.xlsx into pandas using pd.read() function."
   ]
  },
  {
   "cell_type": "code",
   "execution_count": 2,
   "id": "b7bd4dda",
   "metadata": {},
   "outputs": [
    {
     "data": {
      "text/plain": [
       "'C:\\\\Users\\\\Riyaz Mehendi\\\\OneDrive - CriticalRiver Technologies Pvt. Ltd\\\\Desktop\\\\Retail_Sales_Forecast\\\\src\\\\models'"
      ]
     },
     "execution_count": 2,
     "metadata": {},
     "output_type": "execute_result"
    }
   ],
   "source": [
    "os.getcwd()"
   ]
  },
  {
   "cell_type": "code",
   "execution_count": 3,
   "id": "e5709240",
   "metadata": {},
   "outputs": [],
   "source": [
    "os.chdir('C:\\\\Users\\\\Riyaz Mehendi\\\\OneDrive - CriticalRiver Technologies Pvt. Ltd\\\\Desktop\\\\Retail_Sales_Forecast\\\\src\\\\Data')"
   ]
  },
  {
   "cell_type": "code",
   "execution_count": 4,
   "id": "b26c389b",
   "metadata": {},
   "outputs": [],
   "source": [
    "Train_Data = pd.read_csv(\"Train.csv\")\n",
    "EventHolidays_Data = pd.read_excel(\"Events_HolidaysData.xlsx\")\n",
    "Macroeconomic_Data = pd.read_excel(\"MacroEconomicData.xlsx\")\n",
    "Weather_Data_xlsx = pd.ExcelFile(\"WeatherData.xlsx\")"
   ]
  },
  {
   "cell_type": "markdown",
   "id": "fb643c44",
   "metadata": {},
   "source": [
    "### Understanding the Data"
   ]
  },
  {
   "cell_type": "markdown",
   "id": "cc39ef2f",
   "metadata": {},
   "source": [
    "##### 1) Train Sales Data"
   ]
  },
  {
   "cell_type": "code",
   "execution_count": 5,
   "id": "18de224b",
   "metadata": {},
   "outputs": [
    {
     "data": {
      "text/html": [
       "<div>\n",
       "<style scoped>\n",
       "    .dataframe tbody tr th:only-of-type {\n",
       "        vertical-align: middle;\n",
       "    }\n",
       "\n",
       "    .dataframe tbody tr th {\n",
       "        vertical-align: top;\n",
       "    }\n",
       "\n",
       "    .dataframe thead th {\n",
       "        text-align: right;\n",
       "    }\n",
       "</style>\n",
       "<table border=\"1\" class=\"dataframe\">\n",
       "  <thead>\n",
       "    <tr style=\"text-align: right;\">\n",
       "      <th></th>\n",
       "      <th>Year</th>\n",
       "      <th>Month</th>\n",
       "      <th>ProductCategory</th>\n",
       "      <th>Sales(In ThousandDollars)</th>\n",
       "    </tr>\n",
       "  </thead>\n",
       "  <tbody>\n",
       "    <tr>\n",
       "      <th>0</th>\n",
       "      <td>2009</td>\n",
       "      <td>1</td>\n",
       "      <td>WomenClothing</td>\n",
       "      <td>1755.0</td>\n",
       "    </tr>\n",
       "    <tr>\n",
       "      <th>1</th>\n",
       "      <td>2009</td>\n",
       "      <td>1</td>\n",
       "      <td>MenClothing</td>\n",
       "      <td>524.0</td>\n",
       "    </tr>\n",
       "    <tr>\n",
       "      <th>2</th>\n",
       "      <td>2009</td>\n",
       "      <td>1</td>\n",
       "      <td>OtherClothing</td>\n",
       "      <td>936.0</td>\n",
       "    </tr>\n",
       "    <tr>\n",
       "      <th>3</th>\n",
       "      <td>2009</td>\n",
       "      <td>2</td>\n",
       "      <td>WomenClothing</td>\n",
       "      <td>1729.0</td>\n",
       "    </tr>\n",
       "    <tr>\n",
       "      <th>4</th>\n",
       "      <td>2009</td>\n",
       "      <td>2</td>\n",
       "      <td>MenClothing</td>\n",
       "      <td>496.0</td>\n",
       "    </tr>\n",
       "  </tbody>\n",
       "</table>\n",
       "</div>"
      ],
      "text/plain": [
       "   Year  Month ProductCategory  Sales(In ThousandDollars)\n",
       "0  2009      1   WomenClothing                     1755.0\n",
       "1  2009      1     MenClothing                      524.0\n",
       "2  2009      1   OtherClothing                      936.0\n",
       "3  2009      2   WomenClothing                     1729.0\n",
       "4  2009      2     MenClothing                      496.0"
      ]
     },
     "execution_count": 5,
     "metadata": {},
     "output_type": "execute_result"
    }
   ],
   "source": [
    "#Checking top 5 rows of Train Data\n",
    "Train_Data.head(5)"
   ]
  },
  {
   "cell_type": "code",
   "execution_count": 6,
   "id": "a6c53c8f",
   "metadata": {},
   "outputs": [
    {
     "data": {
      "text/html": [
       "<div>\n",
       "<style scoped>\n",
       "    .dataframe tbody tr th:only-of-type {\n",
       "        vertical-align: middle;\n",
       "    }\n",
       "\n",
       "    .dataframe tbody tr th {\n",
       "        vertical-align: top;\n",
       "    }\n",
       "\n",
       "    .dataframe thead th {\n",
       "        text-align: right;\n",
       "    }\n",
       "</style>\n",
       "<table border=\"1\" class=\"dataframe\">\n",
       "  <thead>\n",
       "    <tr style=\"text-align: right;\">\n",
       "      <th></th>\n",
       "      <th>Year</th>\n",
       "      <th>Month</th>\n",
       "      <th>ProductCategory</th>\n",
       "      <th>Sales(In ThousandDollars)</th>\n",
       "    </tr>\n",
       "  </thead>\n",
       "  <tbody>\n",
       "    <tr>\n",
       "      <th>247</th>\n",
       "      <td>2015</td>\n",
       "      <td>11</td>\n",
       "      <td>MenClothing</td>\n",
       "      <td>643.0</td>\n",
       "    </tr>\n",
       "    <tr>\n",
       "      <th>248</th>\n",
       "      <td>2015</td>\n",
       "      <td>11</td>\n",
       "      <td>OtherClothing</td>\n",
       "      <td>1478.0</td>\n",
       "    </tr>\n",
       "    <tr>\n",
       "      <th>249</th>\n",
       "      <td>2015</td>\n",
       "      <td>12</td>\n",
       "      <td>WomenClothing</td>\n",
       "      <td>5874.0</td>\n",
       "    </tr>\n",
       "    <tr>\n",
       "      <th>250</th>\n",
       "      <td>2015</td>\n",
       "      <td>12</td>\n",
       "      <td>MenClothing</td>\n",
       "      <td>967.0</td>\n",
       "    </tr>\n",
       "    <tr>\n",
       "      <th>251</th>\n",
       "      <td>2015</td>\n",
       "      <td>12</td>\n",
       "      <td>OtherClothing</td>\n",
       "      <td>1680.0</td>\n",
       "    </tr>\n",
       "  </tbody>\n",
       "</table>\n",
       "</div>"
      ],
      "text/plain": [
       "     Year  Month ProductCategory  Sales(In ThousandDollars)\n",
       "247  2015     11     MenClothing                      643.0\n",
       "248  2015     11   OtherClothing                     1478.0\n",
       "249  2015     12   WomenClothing                     5874.0\n",
       "250  2015     12     MenClothing                      967.0\n",
       "251  2015     12   OtherClothing                     1680.0"
      ]
     },
     "execution_count": 6,
     "metadata": {},
     "output_type": "execute_result"
    }
   ],
   "source": [
    "#Checking bottom 5 rows of Train Data\n",
    "Train_Data.tail(5)"
   ]
  },
  {
   "cell_type": "code",
   "execution_count": 7,
   "id": "db36ebf7",
   "metadata": {},
   "outputs": [
    {
     "name": "stdout",
     "output_type": "stream",
     "text": [
      "Shape of Train data is:\n"
     ]
    },
    {
     "data": {
      "text/plain": [
       "(252, 4)"
      ]
     },
     "execution_count": 7,
     "metadata": {},
     "output_type": "execute_result"
    }
   ],
   "source": [
    "#Checking the Dimension\n",
    "print(\"Shape of Train data is:\")\n",
    "Train_Data.shape"
   ]
  },
  {
   "cell_type": "code",
   "execution_count": 8,
   "id": "ae95bdbf",
   "metadata": {},
   "outputs": [
    {
     "data": {
      "text/plain": [
       "Year                           int64\n",
       "Month                          int64\n",
       "ProductCategory               object\n",
       "Sales(In ThousandDollars)    float64\n",
       "dtype: object"
      ]
     },
     "execution_count": 8,
     "metadata": {},
     "output_type": "execute_result"
    }
   ],
   "source": [
    "#Checking the datatypes\n",
    "Train_Data.dtypes"
   ]
  },
  {
   "cell_type": "code",
   "execution_count": 9,
   "id": "bff80ced",
   "metadata": {},
   "outputs": [
    {
     "data": {
      "text/plain": [
       "WomenClothing    84\n",
       "MenClothing      84\n",
       "OtherClothing    84\n",
       "Name: ProductCategory, dtype: int64"
      ]
     },
     "execution_count": 9,
     "metadata": {},
     "output_type": "execute_result"
    }
   ],
   "source": [
    "#As ProdcutCategory is categorical so checking the count value of its 3 category\n",
    "Train_Data['ProductCategory'].value_counts()"
   ]
  },
  {
   "cell_type": "markdown",
   "id": "b34dea68",
   "metadata": {},
   "source": [
    "#### 2) Event_Holidays Data"
   ]
  },
  {
   "cell_type": "code",
   "execution_count": 10,
   "id": "3cd93dae",
   "metadata": {},
   "outputs": [],
   "source": [
    "EventHolidays_Data = EventHolidays_Data[EventHolidays_Data['Year'] < 2016]"
   ]
  },
  {
   "cell_type": "code",
   "execution_count": 11,
   "id": "0d0f1898",
   "metadata": {},
   "outputs": [
    {
     "data": {
      "text/html": [
       "<div>\n",
       "<style scoped>\n",
       "    .dataframe tbody tr th:only-of-type {\n",
       "        vertical-align: middle;\n",
       "    }\n",
       "\n",
       "    .dataframe tbody tr th {\n",
       "        vertical-align: top;\n",
       "    }\n",
       "\n",
       "    .dataframe thead th {\n",
       "        text-align: right;\n",
       "    }\n",
       "</style>\n",
       "<table border=\"1\" class=\"dataframe\">\n",
       "  <thead>\n",
       "    <tr style=\"text-align: right;\">\n",
       "      <th></th>\n",
       "      <th>Year</th>\n",
       "      <th>MonthDate</th>\n",
       "      <th>Event</th>\n",
       "      <th>DayCategory</th>\n",
       "    </tr>\n",
       "  </thead>\n",
       "  <tbody>\n",
       "    <tr>\n",
       "      <th>0</th>\n",
       "      <td>2009</td>\n",
       "      <td>2001-01-01</td>\n",
       "      <td>New Year's Day</td>\n",
       "      <td>Federal Holiday</td>\n",
       "    </tr>\n",
       "    <tr>\n",
       "      <th>1</th>\n",
       "      <td>2009</td>\n",
       "      <td>2019-01-01</td>\n",
       "      <td>Martin Luther King Jr. Day</td>\n",
       "      <td>Federal Holiday</td>\n",
       "    </tr>\n",
       "    <tr>\n",
       "      <th>2</th>\n",
       "      <td>2009</td>\n",
       "      <td>2014-02-01</td>\n",
       "      <td>Valentine's Day</td>\n",
       "      <td>Event</td>\n",
       "    </tr>\n",
       "    <tr>\n",
       "      <th>3</th>\n",
       "      <td>2009</td>\n",
       "      <td>2016-02-01</td>\n",
       "      <td>Presidents' Day</td>\n",
       "      <td>Federal Holiday</td>\n",
       "    </tr>\n",
       "    <tr>\n",
       "      <th>4</th>\n",
       "      <td>2009</td>\n",
       "      <td>2012-04-01</td>\n",
       "      <td>Easter Sunday</td>\n",
       "      <td>Event</td>\n",
       "    </tr>\n",
       "  </tbody>\n",
       "</table>\n",
       "</div>"
      ],
      "text/plain": [
       "   Year  MonthDate                       Event      DayCategory\n",
       "0  2009 2001-01-01              New Year's Day  Federal Holiday\n",
       "1  2009 2019-01-01  Martin Luther King Jr. Day  Federal Holiday\n",
       "2  2009 2014-02-01             Valentine's Day            Event\n",
       "3  2009 2016-02-01             Presidents' Day  Federal Holiday\n",
       "4  2009 2012-04-01               Easter Sunday            Event"
      ]
     },
     "execution_count": 11,
     "metadata": {},
     "output_type": "execute_result"
    }
   ],
   "source": [
    "EventHolidays_Data.head()"
   ]
  },
  {
   "cell_type": "code",
   "execution_count": 12,
   "id": "f4f492b2",
   "metadata": {},
   "outputs": [
    {
     "data": {
      "text/html": [
       "<div>\n",
       "<style scoped>\n",
       "    .dataframe tbody tr th:only-of-type {\n",
       "        vertical-align: middle;\n",
       "    }\n",
       "\n",
       "    .dataframe tbody tr th {\n",
       "        vertical-align: top;\n",
       "    }\n",
       "\n",
       "    .dataframe thead th {\n",
       "        text-align: right;\n",
       "    }\n",
       "</style>\n",
       "<table border=\"1\" class=\"dataframe\">\n",
       "  <thead>\n",
       "    <tr style=\"text-align: right;\">\n",
       "      <th></th>\n",
       "      <th>Year</th>\n",
       "      <th>MonthDate</th>\n",
       "      <th>Event</th>\n",
       "      <th>DayCategory</th>\n",
       "    </tr>\n",
       "  </thead>\n",
       "  <tbody>\n",
       "    <tr>\n",
       "      <th>125</th>\n",
       "      <td>2015</td>\n",
       "      <td>2026-11-01</td>\n",
       "      <td>Thanksgiving Day</td>\n",
       "      <td>Federal Holiday</td>\n",
       "    </tr>\n",
       "    <tr>\n",
       "      <th>126</th>\n",
       "      <td>2015</td>\n",
       "      <td>2024-12-01</td>\n",
       "      <td>Christmas Eve</td>\n",
       "      <td>Event</td>\n",
       "    </tr>\n",
       "    <tr>\n",
       "      <th>127</th>\n",
       "      <td>2015</td>\n",
       "      <td>2025-12-01</td>\n",
       "      <td>Christmas Day</td>\n",
       "      <td>Federal Holiday</td>\n",
       "    </tr>\n",
       "    <tr>\n",
       "      <th>128</th>\n",
       "      <td>2015</td>\n",
       "      <td>2026-12-01</td>\n",
       "      <td>Day After Christmas Day</td>\n",
       "      <td>Event</td>\n",
       "    </tr>\n",
       "    <tr>\n",
       "      <th>129</th>\n",
       "      <td>2015</td>\n",
       "      <td>1931-12-01</td>\n",
       "      <td>New Year's Eve</td>\n",
       "      <td>Event</td>\n",
       "    </tr>\n",
       "  </tbody>\n",
       "</table>\n",
       "</div>"
      ],
      "text/plain": [
       "     Year  MonthDate                    Event      DayCategory\n",
       "125  2015 2026-11-01         Thanksgiving Day  Federal Holiday\n",
       "126  2015 2024-12-01            Christmas Eve            Event\n",
       "127  2015 2025-12-01            Christmas Day  Federal Holiday\n",
       "128  2015 2026-12-01  Day After Christmas Day            Event\n",
       "129  2015 1931-12-01           New Year's Eve            Event"
      ]
     },
     "execution_count": 12,
     "metadata": {},
     "output_type": "execute_result"
    }
   ],
   "source": [
    "EventHolidays_Data.tail()"
   ]
  },
  {
   "cell_type": "code",
   "execution_count": 13,
   "id": "a4846c62",
   "metadata": {},
   "outputs": [
    {
     "name": "stdout",
     "output_type": "stream",
     "text": [
      "Datatypes of each columns:\n",
      "Year                    int64\n",
      "MonthDate      datetime64[ns]\n",
      "Event                  object\n",
      "DayCategory            object\n",
      "dtype: object\n"
     ]
    }
   ],
   "source": [
    "#Checking the datatypes\n",
    "print(\"Datatypes of each columns:\")\n",
    "print(EventHolidays_Data.dtypes)"
   ]
  },
  {
   "cell_type": "code",
   "execution_count": 14,
   "id": "7a62a67f",
   "metadata": {},
   "outputs": [
    {
     "name": "stdout",
     "output_type": "stream",
     "text": [
      "The categories and their count in 'DayCategory' column:\n",
      "Federal Holiday    77\n",
      "Event              53\n",
      "Name: DayCategory, dtype: int64\n"
     ]
    }
   ],
   "source": [
    "#Checking for  Daycategory column and their counnt values\n",
    "print(\"The categories and their count in 'DayCategory' column:\")\n",
    "print(EventHolidays_Data.DayCategory.value_counts())"
   ]
  },
  {
   "cell_type": "code",
   "execution_count": 15,
   "id": "0195a6d7",
   "metadata": {},
   "outputs": [
    {
     "name": "stdout",
     "output_type": "stream",
     "text": [
      "New Year's Day                 7\n",
      "Labor Day                      7\n",
      "New Year's Eve                 7\n",
      "Christmas Day                  7\n",
      "Christmas Eve                  7\n",
      "Thanksgiving Day               7\n",
      "Veterans Day                   7\n",
      "Halloween                      7\n",
      "Martin Luther King Jr. Day     7\n",
      "Columbus Day (Most regions)    7\n",
      "Independence Day               7\n",
      "Father's Day                   7\n",
      "Memorial Day                   7\n",
      "Mother's Day                   7\n",
      "Easter Sunday                  7\n",
      "Presidents' Day                7\n",
      "Valentine's Day                7\n",
      "'Independence Day' observed    3\n",
      "'Christmas Day' observed       2\n",
      "'New Year's Day' observed      2\n",
      "Thomas Jefferson's Birthday    2\n",
      "Election Day                   1\n",
      "Day After Christmas Day        1\n",
      "Name: Event, dtype: int64\n"
     ]
    }
   ],
   "source": [
    "#Checking all the event columns count value\n",
    "print(EventHolidays_Data.Event.value_counts())"
   ]
  },
  {
   "cell_type": "markdown",
   "id": "ba748a89",
   "metadata": {},
   "source": [
    "#### 3) MacroEconomic Data"
   ]
  },
  {
   "cell_type": "code",
   "execution_count": 16,
   "id": "02b25f2d",
   "metadata": {},
   "outputs": [
    {
     "data": {
      "text/html": [
       "<div>\n",
       "<style scoped>\n",
       "    .dataframe tbody tr th:only-of-type {\n",
       "        vertical-align: middle;\n",
       "    }\n",
       "\n",
       "    .dataframe tbody tr th {\n",
       "        vertical-align: top;\n",
       "    }\n",
       "\n",
       "    .dataframe thead th {\n",
       "        text-align: right;\n",
       "    }\n",
       "</style>\n",
       "<table border=\"1\" class=\"dataframe\">\n",
       "  <thead>\n",
       "    <tr style=\"text-align: right;\">\n",
       "      <th></th>\n",
       "      <th>Year-Month</th>\n",
       "      <th>Monthly Nominal GDP Index (inMillion$)</th>\n",
       "      <th>Monthly Real GDP Index (inMillion$)</th>\n",
       "      <th>CPI</th>\n",
       "      <th>PartyInPower</th>\n",
       "      <th>unemployment rate</th>\n",
       "      <th>CommercialBankInterestRateonCreditCardPlans</th>\n",
       "      <th>Finance Rate on Personal Loans at Commercial Banks, 24 Month Loan</th>\n",
       "      <th>Earnings or wages  in dollars per hour</th>\n",
       "      <th>AdvertisingExpenses (in Thousand Dollars)</th>\n",
       "      <th>Cotton Monthly Price - US cents per Pound(lbs)</th>\n",
       "      <th>Change(in%)</th>\n",
       "      <th>Average upland planted(million acres)</th>\n",
       "      <th>Average upland harvested(million acres)</th>\n",
       "      <th>yieldperharvested acre</th>\n",
       "      <th>Production (in  480-lb netweright in million bales)</th>\n",
       "      <th>Mill use  (in  480-lb netweright in million bales)</th>\n",
       "      <th>Exports</th>\n",
       "    </tr>\n",
       "  </thead>\n",
       "  <tbody>\n",
       "    <tr>\n",
       "      <th>0</th>\n",
       "      <td>2009 - Jan</td>\n",
       "      <td>14421.752895</td>\n",
       "      <td>14407.053343</td>\n",
       "      <td>233.402</td>\n",
       "      <td>Democrats</td>\n",
       "      <td>7.8</td>\n",
       "      <td>12.03</td>\n",
       "      <td>11.44</td>\n",
       "      <td>22.05</td>\n",
       "      <td>137</td>\n",
       "      <td>57.70</td>\n",
       "      <td>4.02</td>\n",
       "      <td>9.296</td>\n",
       "      <td>7.559</td>\n",
       "      <td>799</td>\n",
       "      <td>12.589</td>\n",
       "      <td>4.170</td>\n",
       "      <td>11.550</td>\n",
       "    </tr>\n",
       "    <tr>\n",
       "      <th>1</th>\n",
       "      <td>2009 - Feb</td>\n",
       "      <td>14389.200466</td>\n",
       "      <td>14366.176571</td>\n",
       "      <td>234.663</td>\n",
       "      <td>Democrats</td>\n",
       "      <td>8.3</td>\n",
       "      <td>12.97</td>\n",
       "      <td>11.05</td>\n",
       "      <td>22.22</td>\n",
       "      <td>200</td>\n",
       "      <td>55.21</td>\n",
       "      <td>-4.32</td>\n",
       "      <td>9.296</td>\n",
       "      <td>7.559</td>\n",
       "      <td>799</td>\n",
       "      <td>12.589</td>\n",
       "      <td>3.870</td>\n",
       "      <td>11.100</td>\n",
       "    </tr>\n",
       "    <tr>\n",
       "      <th>2</th>\n",
       "      <td>2009 - Mar</td>\n",
       "      <td>14340.701639</td>\n",
       "      <td>14351.786822</td>\n",
       "      <td>235.067</td>\n",
       "      <td>Democrats</td>\n",
       "      <td>8.7</td>\n",
       "      <td>12.97</td>\n",
       "      <td>11.05</td>\n",
       "      <td>22.22</td>\n",
       "      <td>?</td>\n",
       "      <td>51.50</td>\n",
       "      <td>-6.72</td>\n",
       "      <td>9.296</td>\n",
       "      <td>7.559</td>\n",
       "      <td>799</td>\n",
       "      <td>12.589</td>\n",
       "      <td>3.720</td>\n",
       "      <td>11.650</td>\n",
       "    </tr>\n",
       "    <tr>\n",
       "      <th>3</th>\n",
       "      <td>2009 - Apr</td>\n",
       "      <td>14326.815525</td>\n",
       "      <td>14351.601731</td>\n",
       "      <td>235.582</td>\n",
       "      <td>Democrats</td>\n",
       "      <td>9.0</td>\n",
       "      <td>12.97</td>\n",
       "      <td>11.05</td>\n",
       "      <td>22.13</td>\n",
       "      <td>214</td>\n",
       "      <td>56.78</td>\n",
       "      <td>10.25</td>\n",
       "      <td>9.296</td>\n",
       "      <td>7.559</td>\n",
       "      <td>787</td>\n",
       "      <td>12.400</td>\n",
       "      <td>3.620</td>\n",
       "      <td>12.225</td>\n",
       "    </tr>\n",
       "    <tr>\n",
       "      <th>4</th>\n",
       "      <td>2009 - May</td>\n",
       "      <td>14345.904809</td>\n",
       "      <td>14368.123959</td>\n",
       "      <td>235.975</td>\n",
       "      <td>Democrats</td>\n",
       "      <td>9.4</td>\n",
       "      <td>13.32</td>\n",
       "      <td>11.25</td>\n",
       "      <td>22.04</td>\n",
       "      <td>?</td>\n",
       "      <td>61.95</td>\n",
       "      <td>9.11</td>\n",
       "      <td>9.297</td>\n",
       "      <td>7.400</td>\n",
       "      <td>803</td>\n",
       "      <td>12.384</td>\n",
       "      <td>3.520</td>\n",
       "      <td>12.300</td>\n",
       "    </tr>\n",
       "    <tr>\n",
       "      <th>...</th>\n",
       "      <td>...</td>\n",
       "      <td>...</td>\n",
       "      <td>...</td>\n",
       "      <td>...</td>\n",
       "      <td>...</td>\n",
       "      <td>...</td>\n",
       "      <td>...</td>\n",
       "      <td>...</td>\n",
       "      <td>...</td>\n",
       "      <td>...</td>\n",
       "      <td>...</td>\n",
       "      <td>...</td>\n",
       "      <td>...</td>\n",
       "      <td>...</td>\n",
       "      <td>...</td>\n",
       "      <td>...</td>\n",
       "      <td>...</td>\n",
       "      <td>...</td>\n",
       "    </tr>\n",
       "    <tr>\n",
       "      <th>91</th>\n",
       "      <td>2016 - Aug</td>\n",
       "      <td>18741.599947</td>\n",
       "      <td>16797.206610</td>\n",
       "      <td>264.160</td>\n",
       "      <td>Democrats</td>\n",
       "      <td>4.9</td>\n",
       "      <td>12.51</td>\n",
       "      <td>9.64</td>\n",
       "      <td>25.52</td>\n",
       "      <td>?</td>\n",
       "      <td>80.26</td>\n",
       "      <td>-0.99</td>\n",
       "      <td>9.824</td>\n",
       "      <td>9.340</td>\n",
       "      <td>787</td>\n",
       "      <td>15.314</td>\n",
       "      <td>3.575</td>\n",
       "      <td>10.950</td>\n",
       "    </tr>\n",
       "    <tr>\n",
       "      <th>92</th>\n",
       "      <td>2016 - Sep</td>\n",
       "      <td>18840.309646</td>\n",
       "      <td>16852.562745</td>\n",
       "      <td>264.602</td>\n",
       "      <td>Democrats</td>\n",
       "      <td>4.9</td>\n",
       "      <td>12.51</td>\n",
       "      <td>9.64</td>\n",
       "      <td>25.74</td>\n",
       "      <td>?</td>\n",
       "      <td>77.86</td>\n",
       "      <td>-2.99</td>\n",
       "      <td>9.950</td>\n",
       "      <td>9.464</td>\n",
       "      <td>790</td>\n",
       "      <td>15.580</td>\n",
       "      <td>3.475</td>\n",
       "      <td>10.950</td>\n",
       "    </tr>\n",
       "    <tr>\n",
       "      <th>93</th>\n",
       "      <td>2016 - Oct</td>\n",
       "      <td>18740.780023</td>\n",
       "      <td>16725.460098</td>\n",
       "      <td>264.738</td>\n",
       "      <td>Democrats</td>\n",
       "      <td>4.8</td>\n",
       "      <td>12.51</td>\n",
       "      <td>9.64</td>\n",
       "      <td>26.04</td>\n",
       "      <td>?</td>\n",
       "      <td>78.52</td>\n",
       "      <td>0.85</td>\n",
       "      <td>9.950</td>\n",
       "      <td>9.464</td>\n",
       "      <td>785</td>\n",
       "      <td>15.472</td>\n",
       "      <td>3.475</td>\n",
       "      <td>11.425</td>\n",
       "    </tr>\n",
       "    <tr>\n",
       "      <th>94</th>\n",
       "      <td>2016 - Nov</td>\n",
       "      <td>18960.461568</td>\n",
       "      <td>16910.896330</td>\n",
       "      <td>265.203</td>\n",
       "      <td>Democrats</td>\n",
       "      <td>4.6</td>\n",
       "      <td>12.41</td>\n",
       "      <td>9.45</td>\n",
       "      <td>25.87</td>\n",
       "      <td>?</td>\n",
       "      <td>78.92</td>\n",
       "      <td>0.51</td>\n",
       "      <td>9.950</td>\n",
       "      <td>9.464</td>\n",
       "      <td>791</td>\n",
       "      <td>15.600</td>\n",
       "      <td>3.475</td>\n",
       "      <td>11.425</td>\n",
       "    </tr>\n",
       "    <tr>\n",
       "      <th>95</th>\n",
       "      <td>2016 - Dec</td>\n",
       "      <td>19015.393408</td>\n",
       "      <td>16918.050624</td>\n",
       "      <td>265.421</td>\n",
       "      <td>Democrats</td>\n",
       "      <td>4.7</td>\n",
       "      <td>12.41</td>\n",
       "      <td>9.45</td>\n",
       "      <td>25.90</td>\n",
       "      <td>?</td>\n",
       "      <td>79.50</td>\n",
       "      <td>0.73</td>\n",
       "      <td>9.950</td>\n",
       "      <td>9.464</td>\n",
       "      <td>810</td>\n",
       "      <td>15.962</td>\n",
       "      <td>3.275</td>\n",
       "      <td>11.600</td>\n",
       "    </tr>\n",
       "  </tbody>\n",
       "</table>\n",
       "<p>96 rows × 18 columns</p>\n",
       "</div>"
      ],
      "text/plain": [
       "    Year-Month  Monthly Nominal GDP Index (inMillion$)  \\\n",
       "0   2009 - Jan                            14421.752895   \n",
       "1   2009 - Feb                            14389.200466   \n",
       "2   2009 - Mar                            14340.701639   \n",
       "3   2009 - Apr                            14326.815525   \n",
       "4   2009 - May                            14345.904809   \n",
       "..         ...                                     ...   \n",
       "91  2016 - Aug                            18741.599947   \n",
       "92  2016 - Sep                            18840.309646   \n",
       "93  2016 - Oct                            18740.780023   \n",
       "94  2016 - Nov                            18960.461568   \n",
       "95  2016 - Dec                            19015.393408   \n",
       "\n",
       "    Monthly Real GDP Index (inMillion$)      CPI PartyInPower  \\\n",
       "0                          14407.053343  233.402    Democrats   \n",
       "1                          14366.176571  234.663    Democrats   \n",
       "2                          14351.786822  235.067    Democrats   \n",
       "3                          14351.601731  235.582    Democrats   \n",
       "4                          14368.123959  235.975    Democrats   \n",
       "..                                  ...      ...          ...   \n",
       "91                         16797.206610  264.160    Democrats   \n",
       "92                         16852.562745  264.602    Democrats   \n",
       "93                         16725.460098  264.738    Democrats   \n",
       "94                         16910.896330  265.203    Democrats   \n",
       "95                         16918.050624  265.421    Democrats   \n",
       "\n",
       "    unemployment rate  CommercialBankInterestRateonCreditCardPlans  \\\n",
       "0                 7.8                                        12.03   \n",
       "1                 8.3                                        12.97   \n",
       "2                 8.7                                        12.97   \n",
       "3                 9.0                                        12.97   \n",
       "4                 9.4                                        13.32   \n",
       "..                ...                                          ...   \n",
       "91                4.9                                        12.51   \n",
       "92                4.9                                        12.51   \n",
       "93                4.8                                        12.51   \n",
       "94                4.6                                        12.41   \n",
       "95                4.7                                        12.41   \n",
       "\n",
       "    Finance Rate on Personal Loans at Commercial Banks, 24 Month Loan  \\\n",
       "0                                               11.44                   \n",
       "1                                               11.05                   \n",
       "2                                               11.05                   \n",
       "3                                               11.05                   \n",
       "4                                               11.25                   \n",
       "..                                                ...                   \n",
       "91                                               9.64                   \n",
       "92                                               9.64                   \n",
       "93                                               9.64                   \n",
       "94                                               9.45                   \n",
       "95                                               9.45                   \n",
       "\n",
       "    Earnings or wages  in dollars per hour  \\\n",
       "0                                    22.05   \n",
       "1                                    22.22   \n",
       "2                                    22.22   \n",
       "3                                    22.13   \n",
       "4                                    22.04   \n",
       "..                                     ...   \n",
       "91                                   25.52   \n",
       "92                                   25.74   \n",
       "93                                   26.04   \n",
       "94                                   25.87   \n",
       "95                                   25.90   \n",
       "\n",
       "   AdvertisingExpenses (in Thousand Dollars)  \\\n",
       "0                                        137   \n",
       "1                                        200   \n",
       "2                                          ?   \n",
       "3                                        214   \n",
       "4                                          ?   \n",
       "..                                       ...   \n",
       "91                                         ?   \n",
       "92                                         ?   \n",
       "93                                         ?   \n",
       "94                                         ?   \n",
       "95                                         ?   \n",
       "\n",
       "    Cotton Monthly Price - US cents per Pound(lbs)  Change(in%)  \\\n",
       "0                                            57.70         4.02   \n",
       "1                                            55.21        -4.32   \n",
       "2                                            51.50        -6.72   \n",
       "3                                            56.78        10.25   \n",
       "4                                            61.95         9.11   \n",
       "..                                             ...          ...   \n",
       "91                                           80.26        -0.99   \n",
       "92                                           77.86        -2.99   \n",
       "93                                           78.52         0.85   \n",
       "94                                           78.92         0.51   \n",
       "95                                           79.50         0.73   \n",
       "\n",
       "    Average upland planted(million acres)  \\\n",
       "0                                   9.296   \n",
       "1                                   9.296   \n",
       "2                                   9.296   \n",
       "3                                   9.296   \n",
       "4                                   9.297   \n",
       "..                                    ...   \n",
       "91                                  9.824   \n",
       "92                                  9.950   \n",
       "93                                  9.950   \n",
       "94                                  9.950   \n",
       "95                                  9.950   \n",
       "\n",
       "    Average upland harvested(million acres)  yieldperharvested acre  \\\n",
       "0                                     7.559                     799   \n",
       "1                                     7.559                     799   \n",
       "2                                     7.559                     799   \n",
       "3                                     7.559                     787   \n",
       "4                                     7.400                     803   \n",
       "..                                      ...                     ...   \n",
       "91                                    9.340                     787   \n",
       "92                                    9.464                     790   \n",
       "93                                    9.464                     785   \n",
       "94                                    9.464                     791   \n",
       "95                                    9.464                     810   \n",
       "\n",
       "    Production (in  480-lb netweright in million bales)  \\\n",
       "0                                              12.589     \n",
       "1                                              12.589     \n",
       "2                                              12.589     \n",
       "3                                              12.400     \n",
       "4                                              12.384     \n",
       "..                                                ...     \n",
       "91                                             15.314     \n",
       "92                                             15.580     \n",
       "93                                             15.472     \n",
       "94                                             15.600     \n",
       "95                                             15.962     \n",
       "\n",
       "    Mill use  (in  480-lb netweright in million bales)  Exports  \n",
       "0                                               4.170    11.550  \n",
       "1                                               3.870    11.100  \n",
       "2                                               3.720    11.650  \n",
       "3                                               3.620    12.225  \n",
       "4                                               3.520    12.300  \n",
       "..                                                ...       ...  \n",
       "91                                              3.575    10.950  \n",
       "92                                              3.475    10.950  \n",
       "93                                              3.475    11.425  \n",
       "94                                              3.475    11.425  \n",
       "95                                              3.275    11.600  \n",
       "\n",
       "[96 rows x 18 columns]"
      ]
     },
     "execution_count": 16,
     "metadata": {},
     "output_type": "execute_result"
    }
   ],
   "source": [
    "Macroeconomic_Data"
   ]
  },
  {
   "cell_type": "code",
   "execution_count": 17,
   "id": "d827dabd",
   "metadata": {},
   "outputs": [
    {
     "data": {
      "text/html": [
       "<div>\n",
       "<style scoped>\n",
       "    .dataframe tbody tr th:only-of-type {\n",
       "        vertical-align: middle;\n",
       "    }\n",
       "\n",
       "    .dataframe tbody tr th {\n",
       "        vertical-align: top;\n",
       "    }\n",
       "\n",
       "    .dataframe thead th {\n",
       "        text-align: right;\n",
       "    }\n",
       "</style>\n",
       "<table border=\"1\" class=\"dataframe\">\n",
       "  <thead>\n",
       "    <tr style=\"text-align: right;\">\n",
       "      <th></th>\n",
       "      <th>Year-Month</th>\n",
       "      <th>Monthly Nominal GDP Index (inMillion$)</th>\n",
       "      <th>Monthly Real GDP Index (inMillion$)</th>\n",
       "      <th>CPI</th>\n",
       "      <th>PartyInPower</th>\n",
       "      <th>unemployment rate</th>\n",
       "      <th>CommercialBankInterestRateonCreditCardPlans</th>\n",
       "      <th>Finance Rate on Personal Loans at Commercial Banks, 24 Month Loan</th>\n",
       "      <th>Earnings or wages  in dollars per hour</th>\n",
       "      <th>AdvertisingExpenses (in Thousand Dollars)</th>\n",
       "      <th>Cotton Monthly Price - US cents per Pound(lbs)</th>\n",
       "      <th>Change(in%)</th>\n",
       "      <th>Average upland planted(million acres)</th>\n",
       "      <th>Average upland harvested(million acres)</th>\n",
       "      <th>yieldperharvested acre</th>\n",
       "      <th>Production (in  480-lb netweright in million bales)</th>\n",
       "      <th>Mill use  (in  480-lb netweright in million bales)</th>\n",
       "      <th>Exports</th>\n",
       "    </tr>\n",
       "  </thead>\n",
       "  <tbody>\n",
       "    <tr>\n",
       "      <th>81</th>\n",
       "      <td>2015 - Oct</td>\n",
       "      <td>18278.304270</td>\n",
       "      <td>16540.859723</td>\n",
       "      <td>261.515</td>\n",
       "      <td>Democrats</td>\n",
       "      <td>5.0</td>\n",
       "      <td>12.10</td>\n",
       "      <td>9.80</td>\n",
       "      <td>25.14</td>\n",
       "      <td>183</td>\n",
       "      <td>69.03</td>\n",
       "      <td>0.42</td>\n",
       "      <td>8.398</td>\n",
       "      <td>8.012</td>\n",
       "      <td>772</td>\n",
       "      <td>12.887</td>\n",
       "      <td>3.675</td>\n",
       "      <td>9.700</td>\n",
       "    </tr>\n",
       "    <tr>\n",
       "      <th>82</th>\n",
       "      <td>2015 - Nov</td>\n",
       "      <td>18266.244605</td>\n",
       "      <td>16524.199494</td>\n",
       "      <td>261.009</td>\n",
       "      <td>Democrats</td>\n",
       "      <td>5.0</td>\n",
       "      <td>12.22</td>\n",
       "      <td>9.66</td>\n",
       "      <td>25.38</td>\n",
       "      <td>?</td>\n",
       "      <td>69.22</td>\n",
       "      <td>0.28</td>\n",
       "      <td>8.398</td>\n",
       "      <td>7.995</td>\n",
       "      <td>770</td>\n",
       "      <td>12.830</td>\n",
       "      <td>3.675</td>\n",
       "      <td>9.700</td>\n",
       "    </tr>\n",
       "    <tr>\n",
       "      <th>83</th>\n",
       "      <td>2015 - Dec</td>\n",
       "      <td>18317.129125</td>\n",
       "      <td>16578.004544</td>\n",
       "      <td>259.941</td>\n",
       "      <td>Democrats</td>\n",
       "      <td>5.0</td>\n",
       "      <td>12.22</td>\n",
       "      <td>9.66</td>\n",
       "      <td>25.21</td>\n",
       "      <td>?</td>\n",
       "      <td>70.39</td>\n",
       "      <td>1.69</td>\n",
       "      <td>8.398</td>\n",
       "      <td>7.995</td>\n",
       "      <td>755</td>\n",
       "      <td>12.580</td>\n",
       "      <td>3.675</td>\n",
       "      <td>9.500</td>\n",
       "    </tr>\n",
       "    <tr>\n",
       "      <th>84</th>\n",
       "      <td>2016 - Jan</td>\n",
       "      <td>18286.638523</td>\n",
       "      <td>16546.153123</td>\n",
       "      <td>260.342</td>\n",
       "      <td>Democrats</td>\n",
       "      <td>4.9</td>\n",
       "      <td>12.22</td>\n",
       "      <td>9.66</td>\n",
       "      <td>25.50</td>\n",
       "      <td>?</td>\n",
       "      <td>68.75</td>\n",
       "      <td>-2.33</td>\n",
       "      <td>8.422</td>\n",
       "      <td>7.922</td>\n",
       "      <td>758</td>\n",
       "      <td>12.508</td>\n",
       "      <td>3.575</td>\n",
       "      <td>9.525</td>\n",
       "    </tr>\n",
       "    <tr>\n",
       "      <th>85</th>\n",
       "      <td>2016 - Feb</td>\n",
       "      <td>18241.713812</td>\n",
       "      <td>16503.500358</td>\n",
       "      <td>260.875</td>\n",
       "      <td>Democrats</td>\n",
       "      <td>4.9</td>\n",
       "      <td>12.31</td>\n",
       "      <td>10.03</td>\n",
       "      <td>25.49</td>\n",
       "      <td>?</td>\n",
       "      <td>66.57</td>\n",
       "      <td>-3.17</td>\n",
       "      <td>8.422</td>\n",
       "      <td>7.922</td>\n",
       "      <td>758</td>\n",
       "      <td>12.508</td>\n",
       "      <td>3.575</td>\n",
       "      <td>9.050</td>\n",
       "    </tr>\n",
       "    <tr>\n",
       "      <th>86</th>\n",
       "      <td>2016 - Mar</td>\n",
       "      <td>18447.208665</td>\n",
       "      <td>16665.282018</td>\n",
       "      <td>261.508</td>\n",
       "      <td>Democrats</td>\n",
       "      <td>5.0</td>\n",
       "      <td>12.31</td>\n",
       "      <td>10.03</td>\n",
       "      <td>25.49</td>\n",
       "      <td>?</td>\n",
       "      <td>65.46</td>\n",
       "      <td>-1.67</td>\n",
       "      <td>8.422</td>\n",
       "      <td>7.903</td>\n",
       "      <td>760</td>\n",
       "      <td>12.508</td>\n",
       "      <td>3.575</td>\n",
       "      <td>9.050</td>\n",
       "    </tr>\n",
       "    <tr>\n",
       "      <th>87</th>\n",
       "      <td>2016 - Apr</td>\n",
       "      <td>18533.936749</td>\n",
       "      <td>16693.629326</td>\n",
       "      <td>262.619</td>\n",
       "      <td>Democrats</td>\n",
       "      <td>5.0</td>\n",
       "      <td>12.31</td>\n",
       "      <td>10.03</td>\n",
       "      <td>25.60</td>\n",
       "      <td>?</td>\n",
       "      <td>69.28</td>\n",
       "      <td>5.84</td>\n",
       "      <td>8.422</td>\n",
       "      <td>7.903</td>\n",
       "      <td>756</td>\n",
       "      <td>12.440</td>\n",
       "      <td>3.575</td>\n",
       "      <td>9.025</td>\n",
       "    </tr>\n",
       "    <tr>\n",
       "      <th>88</th>\n",
       "      <td>2016 - May</td>\n",
       "      <td>18498.121164</td>\n",
       "      <td>16627.183697</td>\n",
       "      <td>263.312</td>\n",
       "      <td>Democrats</td>\n",
       "      <td>4.7</td>\n",
       "      <td>12.16</td>\n",
       "      <td>9.65</td>\n",
       "      <td>25.68</td>\n",
       "      <td>?</td>\n",
       "      <td>70.28</td>\n",
       "      <td>1.44</td>\n",
       "      <td>8.422</td>\n",
       "      <td>7.920</td>\n",
       "      <td>755</td>\n",
       "      <td>12.455</td>\n",
       "      <td>3.575</td>\n",
       "      <td>8.500</td>\n",
       "    </tr>\n",
       "    <tr>\n",
       "      <th>89</th>\n",
       "      <td>2016 - Jun</td>\n",
       "      <td>18582.059087</td>\n",
       "      <td>16669.876781</td>\n",
       "      <td>263.877</td>\n",
       "      <td>Democrats</td>\n",
       "      <td>4.9</td>\n",
       "      <td>12.16</td>\n",
       "      <td>9.65</td>\n",
       "      <td>25.42</td>\n",
       "      <td>?</td>\n",
       "      <td>74.10</td>\n",
       "      <td>5.44</td>\n",
       "      <td>9.347</td>\n",
       "      <td>8.588</td>\n",
       "      <td>792</td>\n",
       "      <td>12.165</td>\n",
       "      <td>3.575</td>\n",
       "      <td>9.950</td>\n",
       "    </tr>\n",
       "    <tr>\n",
       "      <th>90</th>\n",
       "      <td>2016 - Jul</td>\n",
       "      <td>18605.480407</td>\n",
       "      <td>16684.743184</td>\n",
       "      <td>263.722</td>\n",
       "      <td>Democrats</td>\n",
       "      <td>4.9</td>\n",
       "      <td>12.16</td>\n",
       "      <td>9.65</td>\n",
       "      <td>25.53</td>\n",
       "      <td>?</td>\n",
       "      <td>81.06</td>\n",
       "      <td>9.39</td>\n",
       "      <td>9.824</td>\n",
       "      <td>9.104</td>\n",
       "      <td>802</td>\n",
       "      <td>15.215</td>\n",
       "      <td>3.575</td>\n",
       "      <td>10.950</td>\n",
       "    </tr>\n",
       "    <tr>\n",
       "      <th>91</th>\n",
       "      <td>2016 - Aug</td>\n",
       "      <td>18741.599947</td>\n",
       "      <td>16797.206610</td>\n",
       "      <td>264.160</td>\n",
       "      <td>Democrats</td>\n",
       "      <td>4.9</td>\n",
       "      <td>12.51</td>\n",
       "      <td>9.64</td>\n",
       "      <td>25.52</td>\n",
       "      <td>?</td>\n",
       "      <td>80.26</td>\n",
       "      <td>-0.99</td>\n",
       "      <td>9.824</td>\n",
       "      <td>9.340</td>\n",
       "      <td>787</td>\n",
       "      <td>15.314</td>\n",
       "      <td>3.575</td>\n",
       "      <td>10.950</td>\n",
       "    </tr>\n",
       "    <tr>\n",
       "      <th>92</th>\n",
       "      <td>2016 - Sep</td>\n",
       "      <td>18840.309646</td>\n",
       "      <td>16852.562745</td>\n",
       "      <td>264.602</td>\n",
       "      <td>Democrats</td>\n",
       "      <td>4.9</td>\n",
       "      <td>12.51</td>\n",
       "      <td>9.64</td>\n",
       "      <td>25.74</td>\n",
       "      <td>?</td>\n",
       "      <td>77.86</td>\n",
       "      <td>-2.99</td>\n",
       "      <td>9.950</td>\n",
       "      <td>9.464</td>\n",
       "      <td>790</td>\n",
       "      <td>15.580</td>\n",
       "      <td>3.475</td>\n",
       "      <td>10.950</td>\n",
       "    </tr>\n",
       "    <tr>\n",
       "      <th>93</th>\n",
       "      <td>2016 - Oct</td>\n",
       "      <td>18740.780023</td>\n",
       "      <td>16725.460098</td>\n",
       "      <td>264.738</td>\n",
       "      <td>Democrats</td>\n",
       "      <td>4.8</td>\n",
       "      <td>12.51</td>\n",
       "      <td>9.64</td>\n",
       "      <td>26.04</td>\n",
       "      <td>?</td>\n",
       "      <td>78.52</td>\n",
       "      <td>0.85</td>\n",
       "      <td>9.950</td>\n",
       "      <td>9.464</td>\n",
       "      <td>785</td>\n",
       "      <td>15.472</td>\n",
       "      <td>3.475</td>\n",
       "      <td>11.425</td>\n",
       "    </tr>\n",
       "    <tr>\n",
       "      <th>94</th>\n",
       "      <td>2016 - Nov</td>\n",
       "      <td>18960.461568</td>\n",
       "      <td>16910.896330</td>\n",
       "      <td>265.203</td>\n",
       "      <td>Democrats</td>\n",
       "      <td>4.6</td>\n",
       "      <td>12.41</td>\n",
       "      <td>9.45</td>\n",
       "      <td>25.87</td>\n",
       "      <td>?</td>\n",
       "      <td>78.92</td>\n",
       "      <td>0.51</td>\n",
       "      <td>9.950</td>\n",
       "      <td>9.464</td>\n",
       "      <td>791</td>\n",
       "      <td>15.600</td>\n",
       "      <td>3.475</td>\n",
       "      <td>11.425</td>\n",
       "    </tr>\n",
       "    <tr>\n",
       "      <th>95</th>\n",
       "      <td>2016 - Dec</td>\n",
       "      <td>19015.393408</td>\n",
       "      <td>16918.050624</td>\n",
       "      <td>265.421</td>\n",
       "      <td>Democrats</td>\n",
       "      <td>4.7</td>\n",
       "      <td>12.41</td>\n",
       "      <td>9.45</td>\n",
       "      <td>25.90</td>\n",
       "      <td>?</td>\n",
       "      <td>79.50</td>\n",
       "      <td>0.73</td>\n",
       "      <td>9.950</td>\n",
       "      <td>9.464</td>\n",
       "      <td>810</td>\n",
       "      <td>15.962</td>\n",
       "      <td>3.275</td>\n",
       "      <td>11.600</td>\n",
       "    </tr>\n",
       "  </tbody>\n",
       "</table>\n",
       "</div>"
      ],
      "text/plain": [
       "    Year-Month  Monthly Nominal GDP Index (inMillion$)  \\\n",
       "81  2015 - Oct                            18278.304270   \n",
       "82  2015 - Nov                            18266.244605   \n",
       "83  2015 - Dec                            18317.129125   \n",
       "84  2016 - Jan                            18286.638523   \n",
       "85  2016 - Feb                            18241.713812   \n",
       "86  2016 - Mar                            18447.208665   \n",
       "87  2016 - Apr                            18533.936749   \n",
       "88  2016 - May                            18498.121164   \n",
       "89  2016 - Jun                            18582.059087   \n",
       "90  2016 - Jul                            18605.480407   \n",
       "91  2016 - Aug                            18741.599947   \n",
       "92  2016 - Sep                            18840.309646   \n",
       "93  2016 - Oct                            18740.780023   \n",
       "94  2016 - Nov                            18960.461568   \n",
       "95  2016 - Dec                            19015.393408   \n",
       "\n",
       "    Monthly Real GDP Index (inMillion$)      CPI PartyInPower  \\\n",
       "81                         16540.859723  261.515    Democrats   \n",
       "82                         16524.199494  261.009    Democrats   \n",
       "83                         16578.004544  259.941    Democrats   \n",
       "84                         16546.153123  260.342    Democrats   \n",
       "85                         16503.500358  260.875    Democrats   \n",
       "86                         16665.282018  261.508    Democrats   \n",
       "87                         16693.629326  262.619    Democrats   \n",
       "88                         16627.183697  263.312    Democrats   \n",
       "89                         16669.876781  263.877    Democrats   \n",
       "90                         16684.743184  263.722    Democrats   \n",
       "91                         16797.206610  264.160    Democrats   \n",
       "92                         16852.562745  264.602    Democrats   \n",
       "93                         16725.460098  264.738    Democrats   \n",
       "94                         16910.896330  265.203    Democrats   \n",
       "95                         16918.050624  265.421    Democrats   \n",
       "\n",
       "    unemployment rate  CommercialBankInterestRateonCreditCardPlans  \\\n",
       "81                5.0                                        12.10   \n",
       "82                5.0                                        12.22   \n",
       "83                5.0                                        12.22   \n",
       "84                4.9                                        12.22   \n",
       "85                4.9                                        12.31   \n",
       "86                5.0                                        12.31   \n",
       "87                5.0                                        12.31   \n",
       "88                4.7                                        12.16   \n",
       "89                4.9                                        12.16   \n",
       "90                4.9                                        12.16   \n",
       "91                4.9                                        12.51   \n",
       "92                4.9                                        12.51   \n",
       "93                4.8                                        12.51   \n",
       "94                4.6                                        12.41   \n",
       "95                4.7                                        12.41   \n",
       "\n",
       "    Finance Rate on Personal Loans at Commercial Banks, 24 Month Loan  \\\n",
       "81                                               9.80                   \n",
       "82                                               9.66                   \n",
       "83                                               9.66                   \n",
       "84                                               9.66                   \n",
       "85                                              10.03                   \n",
       "86                                              10.03                   \n",
       "87                                              10.03                   \n",
       "88                                               9.65                   \n",
       "89                                               9.65                   \n",
       "90                                               9.65                   \n",
       "91                                               9.64                   \n",
       "92                                               9.64                   \n",
       "93                                               9.64                   \n",
       "94                                               9.45                   \n",
       "95                                               9.45                   \n",
       "\n",
       "    Earnings or wages  in dollars per hour  \\\n",
       "81                                   25.14   \n",
       "82                                   25.38   \n",
       "83                                   25.21   \n",
       "84                                   25.50   \n",
       "85                                   25.49   \n",
       "86                                   25.49   \n",
       "87                                   25.60   \n",
       "88                                   25.68   \n",
       "89                                   25.42   \n",
       "90                                   25.53   \n",
       "91                                   25.52   \n",
       "92                                   25.74   \n",
       "93                                   26.04   \n",
       "94                                   25.87   \n",
       "95                                   25.90   \n",
       "\n",
       "   AdvertisingExpenses (in Thousand Dollars)  \\\n",
       "81                                       183   \n",
       "82                                         ?   \n",
       "83                                         ?   \n",
       "84                                         ?   \n",
       "85                                         ?   \n",
       "86                                         ?   \n",
       "87                                         ?   \n",
       "88                                         ?   \n",
       "89                                         ?   \n",
       "90                                         ?   \n",
       "91                                         ?   \n",
       "92                                         ?   \n",
       "93                                         ?   \n",
       "94                                         ?   \n",
       "95                                         ?   \n",
       "\n",
       "    Cotton Monthly Price - US cents per Pound(lbs)  Change(in%)  \\\n",
       "81                                           69.03         0.42   \n",
       "82                                           69.22         0.28   \n",
       "83                                           70.39         1.69   \n",
       "84                                           68.75        -2.33   \n",
       "85                                           66.57        -3.17   \n",
       "86                                           65.46        -1.67   \n",
       "87                                           69.28         5.84   \n",
       "88                                           70.28         1.44   \n",
       "89                                           74.10         5.44   \n",
       "90                                           81.06         9.39   \n",
       "91                                           80.26        -0.99   \n",
       "92                                           77.86        -2.99   \n",
       "93                                           78.52         0.85   \n",
       "94                                           78.92         0.51   \n",
       "95                                           79.50         0.73   \n",
       "\n",
       "    Average upland planted(million acres)  \\\n",
       "81                                  8.398   \n",
       "82                                  8.398   \n",
       "83                                  8.398   \n",
       "84                                  8.422   \n",
       "85                                  8.422   \n",
       "86                                  8.422   \n",
       "87                                  8.422   \n",
       "88                                  8.422   \n",
       "89                                  9.347   \n",
       "90                                  9.824   \n",
       "91                                  9.824   \n",
       "92                                  9.950   \n",
       "93                                  9.950   \n",
       "94                                  9.950   \n",
       "95                                  9.950   \n",
       "\n",
       "    Average upland harvested(million acres)  yieldperharvested acre  \\\n",
       "81                                    8.012                     772   \n",
       "82                                    7.995                     770   \n",
       "83                                    7.995                     755   \n",
       "84                                    7.922                     758   \n",
       "85                                    7.922                     758   \n",
       "86                                    7.903                     760   \n",
       "87                                    7.903                     756   \n",
       "88                                    7.920                     755   \n",
       "89                                    8.588                     792   \n",
       "90                                    9.104                     802   \n",
       "91                                    9.340                     787   \n",
       "92                                    9.464                     790   \n",
       "93                                    9.464                     785   \n",
       "94                                    9.464                     791   \n",
       "95                                    9.464                     810   \n",
       "\n",
       "    Production (in  480-lb netweright in million bales)  \\\n",
       "81                                             12.887     \n",
       "82                                             12.830     \n",
       "83                                             12.580     \n",
       "84                                             12.508     \n",
       "85                                             12.508     \n",
       "86                                             12.508     \n",
       "87                                             12.440     \n",
       "88                                             12.455     \n",
       "89                                             12.165     \n",
       "90                                             15.215     \n",
       "91                                             15.314     \n",
       "92                                             15.580     \n",
       "93                                             15.472     \n",
       "94                                             15.600     \n",
       "95                                             15.962     \n",
       "\n",
       "    Mill use  (in  480-lb netweright in million bales)  Exports  \n",
       "81                                              3.675     9.700  \n",
       "82                                              3.675     9.700  \n",
       "83                                              3.675     9.500  \n",
       "84                                              3.575     9.525  \n",
       "85                                              3.575     9.050  \n",
       "86                                              3.575     9.050  \n",
       "87                                              3.575     9.025  \n",
       "88                                              3.575     8.500  \n",
       "89                                              3.575     9.950  \n",
       "90                                              3.575    10.950  \n",
       "91                                              3.575    10.950  \n",
       "92                                              3.475    10.950  \n",
       "93                                              3.475    11.425  \n",
       "94                                              3.475    11.425  \n",
       "95                                              3.275    11.600  "
      ]
     },
     "execution_count": 17,
     "metadata": {},
     "output_type": "execute_result"
    }
   ],
   "source": [
    "Macroeconomic_Data.tail(15)"
   ]
  },
  {
   "cell_type": "code",
   "execution_count": 18,
   "id": "c670d239",
   "metadata": {},
   "outputs": [],
   "source": [
    "Macroeconomic_Data = Macroeconomic_Data.iloc[:84]"
   ]
  },
  {
   "cell_type": "code",
   "execution_count": 19,
   "id": "035b927d",
   "metadata": {},
   "outputs": [
    {
     "data": {
      "text/html": [
       "<div>\n",
       "<style scoped>\n",
       "    .dataframe tbody tr th:only-of-type {\n",
       "        vertical-align: middle;\n",
       "    }\n",
       "\n",
       "    .dataframe tbody tr th {\n",
       "        vertical-align: top;\n",
       "    }\n",
       "\n",
       "    .dataframe thead th {\n",
       "        text-align: right;\n",
       "    }\n",
       "</style>\n",
       "<table border=\"1\" class=\"dataframe\">\n",
       "  <thead>\n",
       "    <tr style=\"text-align: right;\">\n",
       "      <th></th>\n",
       "      <th>Year-Month</th>\n",
       "      <th>Monthly Nominal GDP Index (inMillion$)</th>\n",
       "      <th>Monthly Real GDP Index (inMillion$)</th>\n",
       "      <th>CPI</th>\n",
       "      <th>PartyInPower</th>\n",
       "      <th>unemployment rate</th>\n",
       "      <th>CommercialBankInterestRateonCreditCardPlans</th>\n",
       "      <th>Finance Rate on Personal Loans at Commercial Banks, 24 Month Loan</th>\n",
       "      <th>Earnings or wages  in dollars per hour</th>\n",
       "      <th>AdvertisingExpenses (in Thousand Dollars)</th>\n",
       "      <th>Cotton Monthly Price - US cents per Pound(lbs)</th>\n",
       "      <th>Change(in%)</th>\n",
       "      <th>Average upland planted(million acres)</th>\n",
       "      <th>Average upland harvested(million acres)</th>\n",
       "      <th>yieldperharvested acre</th>\n",
       "      <th>Production (in  480-lb netweright in million bales)</th>\n",
       "      <th>Mill use  (in  480-lb netweright in million bales)</th>\n",
       "      <th>Exports</th>\n",
       "    </tr>\n",
       "  </thead>\n",
       "  <tbody>\n",
       "    <tr>\n",
       "      <th>0</th>\n",
       "      <td>2009 - Jan</td>\n",
       "      <td>14421.752895</td>\n",
       "      <td>14407.053343</td>\n",
       "      <td>233.402</td>\n",
       "      <td>Democrats</td>\n",
       "      <td>7.8</td>\n",
       "      <td>12.03</td>\n",
       "      <td>11.44</td>\n",
       "      <td>22.05</td>\n",
       "      <td>137</td>\n",
       "      <td>57.70</td>\n",
       "      <td>4.02</td>\n",
       "      <td>9.296</td>\n",
       "      <td>7.559</td>\n",
       "      <td>799</td>\n",
       "      <td>12.589</td>\n",
       "      <td>4.17</td>\n",
       "      <td>11.550</td>\n",
       "    </tr>\n",
       "    <tr>\n",
       "      <th>1</th>\n",
       "      <td>2009 - Feb</td>\n",
       "      <td>14389.200466</td>\n",
       "      <td>14366.176571</td>\n",
       "      <td>234.663</td>\n",
       "      <td>Democrats</td>\n",
       "      <td>8.3</td>\n",
       "      <td>12.97</td>\n",
       "      <td>11.05</td>\n",
       "      <td>22.22</td>\n",
       "      <td>200</td>\n",
       "      <td>55.21</td>\n",
       "      <td>-4.32</td>\n",
       "      <td>9.296</td>\n",
       "      <td>7.559</td>\n",
       "      <td>799</td>\n",
       "      <td>12.589</td>\n",
       "      <td>3.87</td>\n",
       "      <td>11.100</td>\n",
       "    </tr>\n",
       "    <tr>\n",
       "      <th>2</th>\n",
       "      <td>2009 - Mar</td>\n",
       "      <td>14340.701639</td>\n",
       "      <td>14351.786822</td>\n",
       "      <td>235.067</td>\n",
       "      <td>Democrats</td>\n",
       "      <td>8.7</td>\n",
       "      <td>12.97</td>\n",
       "      <td>11.05</td>\n",
       "      <td>22.22</td>\n",
       "      <td>?</td>\n",
       "      <td>51.50</td>\n",
       "      <td>-6.72</td>\n",
       "      <td>9.296</td>\n",
       "      <td>7.559</td>\n",
       "      <td>799</td>\n",
       "      <td>12.589</td>\n",
       "      <td>3.72</td>\n",
       "      <td>11.650</td>\n",
       "    </tr>\n",
       "    <tr>\n",
       "      <th>3</th>\n",
       "      <td>2009 - Apr</td>\n",
       "      <td>14326.815525</td>\n",
       "      <td>14351.601731</td>\n",
       "      <td>235.582</td>\n",
       "      <td>Democrats</td>\n",
       "      <td>9.0</td>\n",
       "      <td>12.97</td>\n",
       "      <td>11.05</td>\n",
       "      <td>22.13</td>\n",
       "      <td>214</td>\n",
       "      <td>56.78</td>\n",
       "      <td>10.25</td>\n",
       "      <td>9.296</td>\n",
       "      <td>7.559</td>\n",
       "      <td>787</td>\n",
       "      <td>12.400</td>\n",
       "      <td>3.62</td>\n",
       "      <td>12.225</td>\n",
       "    </tr>\n",
       "    <tr>\n",
       "      <th>4</th>\n",
       "      <td>2009 - May</td>\n",
       "      <td>14345.904809</td>\n",
       "      <td>14368.123959</td>\n",
       "      <td>235.975</td>\n",
       "      <td>Democrats</td>\n",
       "      <td>9.4</td>\n",
       "      <td>13.32</td>\n",
       "      <td>11.25</td>\n",
       "      <td>22.04</td>\n",
       "      <td>?</td>\n",
       "      <td>61.95</td>\n",
       "      <td>9.11</td>\n",
       "      <td>9.297</td>\n",
       "      <td>7.400</td>\n",
       "      <td>803</td>\n",
       "      <td>12.384</td>\n",
       "      <td>3.52</td>\n",
       "      <td>12.300</td>\n",
       "    </tr>\n",
       "  </tbody>\n",
       "</table>\n",
       "</div>"
      ],
      "text/plain": [
       "   Year-Month  Monthly Nominal GDP Index (inMillion$)  \\\n",
       "0  2009 - Jan                            14421.752895   \n",
       "1  2009 - Feb                            14389.200466   \n",
       "2  2009 - Mar                            14340.701639   \n",
       "3  2009 - Apr                            14326.815525   \n",
       "4  2009 - May                            14345.904809   \n",
       "\n",
       "   Monthly Real GDP Index (inMillion$)      CPI PartyInPower  \\\n",
       "0                         14407.053343  233.402    Democrats   \n",
       "1                         14366.176571  234.663    Democrats   \n",
       "2                         14351.786822  235.067    Democrats   \n",
       "3                         14351.601731  235.582    Democrats   \n",
       "4                         14368.123959  235.975    Democrats   \n",
       "\n",
       "   unemployment rate  CommercialBankInterestRateonCreditCardPlans  \\\n",
       "0                7.8                                        12.03   \n",
       "1                8.3                                        12.97   \n",
       "2                8.7                                        12.97   \n",
       "3                9.0                                        12.97   \n",
       "4                9.4                                        13.32   \n",
       "\n",
       "   Finance Rate on Personal Loans at Commercial Banks, 24 Month Loan  \\\n",
       "0                                              11.44                   \n",
       "1                                              11.05                   \n",
       "2                                              11.05                   \n",
       "3                                              11.05                   \n",
       "4                                              11.25                   \n",
       "\n",
       "   Earnings or wages  in dollars per hour  \\\n",
       "0                                   22.05   \n",
       "1                                   22.22   \n",
       "2                                   22.22   \n",
       "3                                   22.13   \n",
       "4                                   22.04   \n",
       "\n",
       "  AdvertisingExpenses (in Thousand Dollars)  \\\n",
       "0                                       137   \n",
       "1                                       200   \n",
       "2                                         ?   \n",
       "3                                       214   \n",
       "4                                         ?   \n",
       "\n",
       "   Cotton Monthly Price - US cents per Pound(lbs)  Change(in%)  \\\n",
       "0                                           57.70         4.02   \n",
       "1                                           55.21        -4.32   \n",
       "2                                           51.50        -6.72   \n",
       "3                                           56.78        10.25   \n",
       "4                                           61.95         9.11   \n",
       "\n",
       "   Average upland planted(million acres)  \\\n",
       "0                                  9.296   \n",
       "1                                  9.296   \n",
       "2                                  9.296   \n",
       "3                                  9.296   \n",
       "4                                  9.297   \n",
       "\n",
       "   Average upland harvested(million acres)  yieldperharvested acre  \\\n",
       "0                                    7.559                     799   \n",
       "1                                    7.559                     799   \n",
       "2                                    7.559                     799   \n",
       "3                                    7.559                     787   \n",
       "4                                    7.400                     803   \n",
       "\n",
       "   Production (in  480-lb netweright in million bales)  \\\n",
       "0                                             12.589     \n",
       "1                                             12.589     \n",
       "2                                             12.589     \n",
       "3                                             12.400     \n",
       "4                                             12.384     \n",
       "\n",
       "   Mill use  (in  480-lb netweright in million bales)  Exports  \n",
       "0                                               4.17    11.550  \n",
       "1                                               3.87    11.100  \n",
       "2                                               3.72    11.650  \n",
       "3                                               3.62    12.225  \n",
       "4                                               3.52    12.300  "
      ]
     },
     "execution_count": 19,
     "metadata": {},
     "output_type": "execute_result"
    }
   ],
   "source": [
    "Macroeconomic_Data.head()"
   ]
  },
  {
   "cell_type": "code",
   "execution_count": 20,
   "id": "81b54f2b",
   "metadata": {},
   "outputs": [
    {
     "data": {
      "text/html": [
       "<div>\n",
       "<style scoped>\n",
       "    .dataframe tbody tr th:only-of-type {\n",
       "        vertical-align: middle;\n",
       "    }\n",
       "\n",
       "    .dataframe tbody tr th {\n",
       "        vertical-align: top;\n",
       "    }\n",
       "\n",
       "    .dataframe thead th {\n",
       "        text-align: right;\n",
       "    }\n",
       "</style>\n",
       "<table border=\"1\" class=\"dataframe\">\n",
       "  <thead>\n",
       "    <tr style=\"text-align: right;\">\n",
       "      <th></th>\n",
       "      <th>Year-Month</th>\n",
       "      <th>Monthly Nominal GDP Index (inMillion$)</th>\n",
       "      <th>Monthly Real GDP Index (inMillion$)</th>\n",
       "      <th>CPI</th>\n",
       "      <th>PartyInPower</th>\n",
       "      <th>unemployment rate</th>\n",
       "      <th>CommercialBankInterestRateonCreditCardPlans</th>\n",
       "      <th>Finance Rate on Personal Loans at Commercial Banks, 24 Month Loan</th>\n",
       "      <th>Earnings or wages  in dollars per hour</th>\n",
       "      <th>AdvertisingExpenses (in Thousand Dollars)</th>\n",
       "      <th>Cotton Monthly Price - US cents per Pound(lbs)</th>\n",
       "      <th>Change(in%)</th>\n",
       "      <th>Average upland planted(million acres)</th>\n",
       "      <th>Average upland harvested(million acres)</th>\n",
       "      <th>yieldperharvested acre</th>\n",
       "      <th>Production (in  480-lb netweright in million bales)</th>\n",
       "      <th>Mill use  (in  480-lb netweright in million bales)</th>\n",
       "      <th>Exports</th>\n",
       "    </tr>\n",
       "  </thead>\n",
       "  <tbody>\n",
       "    <tr>\n",
       "      <th>79</th>\n",
       "      <td>2015 - Aug</td>\n",
       "      <td>18201.392888</td>\n",
       "      <td>16505.537615</td>\n",
       "      <td>261.347</td>\n",
       "      <td>Democrats</td>\n",
       "      <td>5.1</td>\n",
       "      <td>12.10</td>\n",
       "      <td>9.80</td>\n",
       "      <td>25.04</td>\n",
       "      <td>?</td>\n",
       "      <td>71.82</td>\n",
       "      <td>-0.73</td>\n",
       "      <td>8.750</td>\n",
       "      <td>7.749</td>\n",
       "      <td>784</td>\n",
       "      <td>12.650</td>\n",
       "      <td>3.675</td>\n",
       "      <td>9.475</td>\n",
       "    </tr>\n",
       "    <tr>\n",
       "      <th>80</th>\n",
       "      <td>2015 - Sep</td>\n",
       "      <td>18317.816120</td>\n",
       "      <td>16601.489879</td>\n",
       "      <td>261.887</td>\n",
       "      <td>Democrats</td>\n",
       "      <td>5.0</td>\n",
       "      <td>12.10</td>\n",
       "      <td>9.80</td>\n",
       "      <td>25.05</td>\n",
       "      <td>?</td>\n",
       "      <td>68.74</td>\n",
       "      <td>-4.29</td>\n",
       "      <td>8.398</td>\n",
       "      <td>8.012</td>\n",
       "      <td>777</td>\n",
       "      <td>12.977</td>\n",
       "      <td>3.675</td>\n",
       "      <td>9.700</td>\n",
       "    </tr>\n",
       "    <tr>\n",
       "      <th>81</th>\n",
       "      <td>2015 - Oct</td>\n",
       "      <td>18278.304270</td>\n",
       "      <td>16540.859723</td>\n",
       "      <td>261.515</td>\n",
       "      <td>Democrats</td>\n",
       "      <td>5.0</td>\n",
       "      <td>12.10</td>\n",
       "      <td>9.80</td>\n",
       "      <td>25.14</td>\n",
       "      <td>183</td>\n",
       "      <td>69.03</td>\n",
       "      <td>0.42</td>\n",
       "      <td>8.398</td>\n",
       "      <td>8.012</td>\n",
       "      <td>772</td>\n",
       "      <td>12.887</td>\n",
       "      <td>3.675</td>\n",
       "      <td>9.700</td>\n",
       "    </tr>\n",
       "    <tr>\n",
       "      <th>82</th>\n",
       "      <td>2015 - Nov</td>\n",
       "      <td>18266.244605</td>\n",
       "      <td>16524.199494</td>\n",
       "      <td>261.009</td>\n",
       "      <td>Democrats</td>\n",
       "      <td>5.0</td>\n",
       "      <td>12.22</td>\n",
       "      <td>9.66</td>\n",
       "      <td>25.38</td>\n",
       "      <td>?</td>\n",
       "      <td>69.22</td>\n",
       "      <td>0.28</td>\n",
       "      <td>8.398</td>\n",
       "      <td>7.995</td>\n",
       "      <td>770</td>\n",
       "      <td>12.830</td>\n",
       "      <td>3.675</td>\n",
       "      <td>9.700</td>\n",
       "    </tr>\n",
       "    <tr>\n",
       "      <th>83</th>\n",
       "      <td>2015 - Dec</td>\n",
       "      <td>18317.129125</td>\n",
       "      <td>16578.004544</td>\n",
       "      <td>259.941</td>\n",
       "      <td>Democrats</td>\n",
       "      <td>5.0</td>\n",
       "      <td>12.22</td>\n",
       "      <td>9.66</td>\n",
       "      <td>25.21</td>\n",
       "      <td>?</td>\n",
       "      <td>70.39</td>\n",
       "      <td>1.69</td>\n",
       "      <td>8.398</td>\n",
       "      <td>7.995</td>\n",
       "      <td>755</td>\n",
       "      <td>12.580</td>\n",
       "      <td>3.675</td>\n",
       "      <td>9.500</td>\n",
       "    </tr>\n",
       "  </tbody>\n",
       "</table>\n",
       "</div>"
      ],
      "text/plain": [
       "    Year-Month  Monthly Nominal GDP Index (inMillion$)  \\\n",
       "79  2015 - Aug                            18201.392888   \n",
       "80  2015 - Sep                            18317.816120   \n",
       "81  2015 - Oct                            18278.304270   \n",
       "82  2015 - Nov                            18266.244605   \n",
       "83  2015 - Dec                            18317.129125   \n",
       "\n",
       "    Monthly Real GDP Index (inMillion$)      CPI PartyInPower  \\\n",
       "79                         16505.537615  261.347    Democrats   \n",
       "80                         16601.489879  261.887    Democrats   \n",
       "81                         16540.859723  261.515    Democrats   \n",
       "82                         16524.199494  261.009    Democrats   \n",
       "83                         16578.004544  259.941    Democrats   \n",
       "\n",
       "    unemployment rate  CommercialBankInterestRateonCreditCardPlans  \\\n",
       "79                5.1                                        12.10   \n",
       "80                5.0                                        12.10   \n",
       "81                5.0                                        12.10   \n",
       "82                5.0                                        12.22   \n",
       "83                5.0                                        12.22   \n",
       "\n",
       "    Finance Rate on Personal Loans at Commercial Banks, 24 Month Loan  \\\n",
       "79                                               9.80                   \n",
       "80                                               9.80                   \n",
       "81                                               9.80                   \n",
       "82                                               9.66                   \n",
       "83                                               9.66                   \n",
       "\n",
       "    Earnings or wages  in dollars per hour  \\\n",
       "79                                   25.04   \n",
       "80                                   25.05   \n",
       "81                                   25.14   \n",
       "82                                   25.38   \n",
       "83                                   25.21   \n",
       "\n",
       "   AdvertisingExpenses (in Thousand Dollars)  \\\n",
       "79                                         ?   \n",
       "80                                         ?   \n",
       "81                                       183   \n",
       "82                                         ?   \n",
       "83                                         ?   \n",
       "\n",
       "    Cotton Monthly Price - US cents per Pound(lbs)  Change(in%)  \\\n",
       "79                                           71.82        -0.73   \n",
       "80                                           68.74        -4.29   \n",
       "81                                           69.03         0.42   \n",
       "82                                           69.22         0.28   \n",
       "83                                           70.39         1.69   \n",
       "\n",
       "    Average upland planted(million acres)  \\\n",
       "79                                  8.750   \n",
       "80                                  8.398   \n",
       "81                                  8.398   \n",
       "82                                  8.398   \n",
       "83                                  8.398   \n",
       "\n",
       "    Average upland harvested(million acres)  yieldperharvested acre  \\\n",
       "79                                    7.749                     784   \n",
       "80                                    8.012                     777   \n",
       "81                                    8.012                     772   \n",
       "82                                    7.995                     770   \n",
       "83                                    7.995                     755   \n",
       "\n",
       "    Production (in  480-lb netweright in million bales)  \\\n",
       "79                                             12.650     \n",
       "80                                             12.977     \n",
       "81                                             12.887     \n",
       "82                                             12.830     \n",
       "83                                             12.580     \n",
       "\n",
       "    Mill use  (in  480-lb netweright in million bales)  Exports  \n",
       "79                                              3.675     9.475  \n",
       "80                                              3.675     9.700  \n",
       "81                                              3.675     9.700  \n",
       "82                                              3.675     9.700  \n",
       "83                                              3.675     9.500  "
      ]
     },
     "execution_count": 20,
     "metadata": {},
     "output_type": "execute_result"
    }
   ],
   "source": [
    "Macroeconomic_Data.tail()"
   ]
  },
  {
   "cell_type": "code",
   "execution_count": 21,
   "id": "afdf4167",
   "metadata": {},
   "outputs": [
    {
     "name": "stdout",
     "output_type": "stream",
     "text": [
      "Datatypes of each columns :\n",
      "Year-Month                                                            object\n",
      "Monthly Nominal GDP Index (inMillion$)                               float64\n",
      "Monthly Real GDP Index (inMillion$)                                  float64\n",
      "CPI                                                                  float64\n",
      "PartyInPower                                                          object\n",
      "unemployment rate                                                    float64\n",
      "CommercialBankInterestRateonCreditCardPlans                          float64\n",
      "Finance Rate on Personal Loans at Commercial Banks, 24 Month Loan    float64\n",
      "Earnings or wages  in dollars per hour                               float64\n",
      "AdvertisingExpenses (in Thousand Dollars)                             object\n",
      "Cotton Monthly Price - US cents per Pound(lbs)                       float64\n",
      "Change(in%)                                                          float64\n",
      "Average upland planted(million acres)                                float64\n",
      "Average upland harvested(million acres)                              float64\n",
      "yieldperharvested acre                                                 int64\n",
      "Production (in  480-lb netweright in million bales)                  float64\n",
      "Mill use  (in  480-lb netweright in million bales)                   float64\n",
      "Exports                                                              float64\n",
      "dtype: object\n"
     ]
    }
   ],
   "source": [
    "#Checking the datatypes of all the coulmns in data\n",
    "print(\"Datatypes of each columns :\")\n",
    "print(Macroeconomic_Data.dtypes)"
   ]
  },
  {
   "cell_type": "code",
   "execution_count": 22,
   "id": "8a7b7e84",
   "metadata": {},
   "outputs": [
    {
     "data": {
      "text/html": [
       "<div>\n",
       "<style scoped>\n",
       "    .dataframe tbody tr th:only-of-type {\n",
       "        vertical-align: middle;\n",
       "    }\n",
       "\n",
       "    .dataframe tbody tr th {\n",
       "        vertical-align: top;\n",
       "    }\n",
       "\n",
       "    .dataframe thead th {\n",
       "        text-align: right;\n",
       "    }\n",
       "</style>\n",
       "<table border=\"1\" class=\"dataframe\">\n",
       "  <thead>\n",
       "    <tr style=\"text-align: right;\">\n",
       "      <th></th>\n",
       "      <th>Year-Month</th>\n",
       "      <th>Monthly Nominal GDP Index (inMillion$)</th>\n",
       "      <th>Monthly Real GDP Index (inMillion$)</th>\n",
       "      <th>CPI</th>\n",
       "      <th>PartyInPower</th>\n",
       "      <th>unemployment rate</th>\n",
       "      <th>CommercialBankInterestRateonCreditCardPlans</th>\n",
       "      <th>Finance Rate on Personal Loans at Commercial Banks, 24 Month Loan</th>\n",
       "      <th>Earnings or wages  in dollars per hour</th>\n",
       "      <th>AdvertisingExpenses (in Thousand Dollars)</th>\n",
       "      <th>Cotton Monthly Price - US cents per Pound(lbs)</th>\n",
       "      <th>Change(in%)</th>\n",
       "      <th>Average upland planted(million acres)</th>\n",
       "      <th>Average upland harvested(million acres)</th>\n",
       "      <th>yieldperharvested acre</th>\n",
       "      <th>Production (in  480-lb netweright in million bales)</th>\n",
       "      <th>Mill use  (in  480-lb netweright in million bales)</th>\n",
       "      <th>Exports</th>\n",
       "    </tr>\n",
       "  </thead>\n",
       "  <tbody>\n",
       "    <tr>\n",
       "      <th>count</th>\n",
       "      <td>84</td>\n",
       "      <td>84.000000</td>\n",
       "      <td>84.000000</td>\n",
       "      <td>84.000000</td>\n",
       "      <td>84</td>\n",
       "      <td>84.000000</td>\n",
       "      <td>84.000000</td>\n",
       "      <td>84.000000</td>\n",
       "      <td>84.000000</td>\n",
       "      <td>84</td>\n",
       "      <td>84.00000</td>\n",
       "      <td>84.000000</td>\n",
       "      <td>84.000000</td>\n",
       "      <td>84.000000</td>\n",
       "      <td>84.000000</td>\n",
       "      <td>84.000000</td>\n",
       "      <td>84.000000</td>\n",
       "      <td>84.000000</td>\n",
       "    </tr>\n",
       "    <tr>\n",
       "      <th>unique</th>\n",
       "      <td>84</td>\n",
       "      <td>NaN</td>\n",
       "      <td>NaN</td>\n",
       "      <td>NaN</td>\n",
       "      <td>1</td>\n",
       "      <td>NaN</td>\n",
       "      <td>NaN</td>\n",
       "      <td>NaN</td>\n",
       "      <td>NaN</td>\n",
       "      <td>12</td>\n",
       "      <td>NaN</td>\n",
       "      <td>NaN</td>\n",
       "      <td>NaN</td>\n",
       "      <td>NaN</td>\n",
       "      <td>NaN</td>\n",
       "      <td>NaN</td>\n",
       "      <td>NaN</td>\n",
       "      <td>NaN</td>\n",
       "    </tr>\n",
       "    <tr>\n",
       "      <th>top</th>\n",
       "      <td>2009 - Jan</td>\n",
       "      <td>NaN</td>\n",
       "      <td>NaN</td>\n",
       "      <td>NaN</td>\n",
       "      <td>Democrats</td>\n",
       "      <td>NaN</td>\n",
       "      <td>NaN</td>\n",
       "      <td>NaN</td>\n",
       "      <td>NaN</td>\n",
       "      <td>?</td>\n",
       "      <td>NaN</td>\n",
       "      <td>NaN</td>\n",
       "      <td>NaN</td>\n",
       "      <td>NaN</td>\n",
       "      <td>NaN</td>\n",
       "      <td>NaN</td>\n",
       "      <td>NaN</td>\n",
       "      <td>NaN</td>\n",
       "    </tr>\n",
       "    <tr>\n",
       "      <th>freq</th>\n",
       "      <td>1</td>\n",
       "      <td>NaN</td>\n",
       "      <td>NaN</td>\n",
       "      <td>NaN</td>\n",
       "      <td>84</td>\n",
       "      <td>NaN</td>\n",
       "      <td>NaN</td>\n",
       "      <td>NaN</td>\n",
       "      <td>NaN</td>\n",
       "      <td>73</td>\n",
       "      <td>NaN</td>\n",
       "      <td>NaN</td>\n",
       "      <td>NaN</td>\n",
       "      <td>NaN</td>\n",
       "      <td>NaN</td>\n",
       "      <td>NaN</td>\n",
       "      <td>NaN</td>\n",
       "      <td>NaN</td>\n",
       "    </tr>\n",
       "    <tr>\n",
       "      <th>mean</th>\n",
       "      <td>NaN</td>\n",
       "      <td>16185.164250</td>\n",
       "      <td>15382.177925</td>\n",
       "      <td>250.802214</td>\n",
       "      <td>NaN</td>\n",
       "      <td>7.813095</td>\n",
       "      <td>12.546310</td>\n",
       "      <td>10.552976</td>\n",
       "      <td>23.528214</td>\n",
       "      <td>NaN</td>\n",
       "      <td>93.43750</td>\n",
       "      <td>0.548095</td>\n",
       "      <td>10.848500</td>\n",
       "      <td>8.872893</td>\n",
       "      <td>793.726190</td>\n",
       "      <td>14.707262</td>\n",
       "      <td>3.560548</td>\n",
       "      <td>11.184702</td>\n",
       "    </tr>\n",
       "    <tr>\n",
       "      <th>std</th>\n",
       "      <td>NaN</td>\n",
       "      <td>1253.746581</td>\n",
       "      <td>675.723245</td>\n",
       "      <td>8.857567</td>\n",
       "      <td>NaN</td>\n",
       "      <td>1.567961</td>\n",
       "      <td>0.767406</td>\n",
       "      <td>0.514015</td>\n",
       "      <td>0.965616</td>\n",
       "      <td>NaN</td>\n",
       "      <td>35.24268</td>\n",
       "      <td>7.260963</td>\n",
       "      <td>1.737794</td>\n",
       "      <td>1.147233</td>\n",
       "      <td>26.034431</td>\n",
       "      <td>2.048080</td>\n",
       "      <td>0.165603</td>\n",
       "      <td>1.748363</td>\n",
       "    </tr>\n",
       "    <tr>\n",
       "      <th>min</th>\n",
       "      <td>NaN</td>\n",
       "      <td>14317.372922</td>\n",
       "      <td>14345.676097</td>\n",
       "      <td>233.402000</td>\n",
       "      <td>NaN</td>\n",
       "      <td>5.000000</td>\n",
       "      <td>11.820000</td>\n",
       "      <td>9.570000</td>\n",
       "      <td>21.960000</td>\n",
       "      <td>NaN</td>\n",
       "      <td>51.50000</td>\n",
       "      <td>-23.590000</td>\n",
       "      <td>8.398000</td>\n",
       "      <td>7.345000</td>\n",
       "      <td>747.000000</td>\n",
       "      <td>11.751000</td>\n",
       "      <td>3.275000</td>\n",
       "      <td>9.220000</td>\n",
       "    </tr>\n",
       "    <tr>\n",
       "      <th>25%</th>\n",
       "      <td>NaN</td>\n",
       "      <td>15141.218900</td>\n",
       "      <td>14837.054004</td>\n",
       "      <td>241.797750</td>\n",
       "      <td>NaN</td>\n",
       "      <td>6.525000</td>\n",
       "      <td>11.947500</td>\n",
       "      <td>10.130000</td>\n",
       "      <td>22.667500</td>\n",
       "      <td>NaN</td>\n",
       "      <td>71.76000</td>\n",
       "      <td>-2.665000</td>\n",
       "      <td>9.296000</td>\n",
       "      <td>7.582000</td>\n",
       "      <td>774.000000</td>\n",
       "      <td>12.589000</td>\n",
       "      <td>3.380000</td>\n",
       "      <td>9.900000</td>\n",
       "    </tr>\n",
       "    <tr>\n",
       "      <th>50%</th>\n",
       "      <td>NaN</td>\n",
       "      <td>16156.742054</td>\n",
       "      <td>15358.374219</td>\n",
       "      <td>252.529000</td>\n",
       "      <td>NaN</td>\n",
       "      <td>8.150000</td>\n",
       "      <td>12.100000</td>\n",
       "      <td>10.710000</td>\n",
       "      <td>23.500000</td>\n",
       "      <td>NaN</td>\n",
       "      <td>85.65000</td>\n",
       "      <td>0.190000</td>\n",
       "      <td>10.769000</td>\n",
       "      <td>9.173500</td>\n",
       "      <td>792.000000</td>\n",
       "      <td>14.959000</td>\n",
       "      <td>3.567500</td>\n",
       "      <td>10.637500</td>\n",
       "    </tr>\n",
       "    <tr>\n",
       "      <th>75%</th>\n",
       "      <td>NaN</td>\n",
       "      <td>17134.548940</td>\n",
       "      <td>15848.863585</td>\n",
       "      <td>259.074250</td>\n",
       "      <td>NaN</td>\n",
       "      <td>9.100000</td>\n",
       "      <td>13.350000</td>\n",
       "      <td>10.940000</td>\n",
       "      <td>24.327500</td>\n",
       "      <td>NaN</td>\n",
       "      <td>94.70000</td>\n",
       "      <td>3.482500</td>\n",
       "      <td>12.077000</td>\n",
       "      <td>9.692000</td>\n",
       "      <td>807.000000</td>\n",
       "      <td>16.290750</td>\n",
       "      <td>3.675000</td>\n",
       "      <td>11.650000</td>\n",
       "    </tr>\n",
       "    <tr>\n",
       "      <th>max</th>\n",
       "      <td>NaN</td>\n",
       "      <td>18317.816120</td>\n",
       "      <td>16601.489879</td>\n",
       "      <td>261.887000</td>\n",
       "      <td>NaN</td>\n",
       "      <td>10.000000</td>\n",
       "      <td>14.260000</td>\n",
       "      <td>11.440000</td>\n",
       "      <td>25.380000</td>\n",
       "      <td>NaN</td>\n",
       "      <td>229.67000</td>\n",
       "      <td>22.850000</td>\n",
       "      <td>14.431000</td>\n",
       "      <td>10.577000</td>\n",
       "      <td>869.000000</td>\n",
       "      <td>18.375000</td>\n",
       "      <td>4.170000</td>\n",
       "      <td>15.280000</td>\n",
       "    </tr>\n",
       "  </tbody>\n",
       "</table>\n",
       "</div>"
      ],
      "text/plain": [
       "        Year-Month  Monthly Nominal GDP Index (inMillion$)  \\\n",
       "count           84                               84.000000   \n",
       "unique          84                                     NaN   \n",
       "top     2009 - Jan                                     NaN   \n",
       "freq             1                                     NaN   \n",
       "mean           NaN                            16185.164250   \n",
       "std            NaN                             1253.746581   \n",
       "min            NaN                            14317.372922   \n",
       "25%            NaN                            15141.218900   \n",
       "50%            NaN                            16156.742054   \n",
       "75%            NaN                            17134.548940   \n",
       "max            NaN                            18317.816120   \n",
       "\n",
       "        Monthly Real GDP Index (inMillion$)         CPI PartyInPower  \\\n",
       "count                             84.000000   84.000000           84   \n",
       "unique                                  NaN         NaN            1   \n",
       "top                                     NaN         NaN    Democrats   \n",
       "freq                                    NaN         NaN           84   \n",
       "mean                           15382.177925  250.802214          NaN   \n",
       "std                              675.723245    8.857567          NaN   \n",
       "min                            14345.676097  233.402000          NaN   \n",
       "25%                            14837.054004  241.797750          NaN   \n",
       "50%                            15358.374219  252.529000          NaN   \n",
       "75%                            15848.863585  259.074250          NaN   \n",
       "max                            16601.489879  261.887000          NaN   \n",
       "\n",
       "        unemployment rate  CommercialBankInterestRateonCreditCardPlans  \\\n",
       "count           84.000000                                    84.000000   \n",
       "unique                NaN                                          NaN   \n",
       "top                   NaN                                          NaN   \n",
       "freq                  NaN                                          NaN   \n",
       "mean             7.813095                                    12.546310   \n",
       "std              1.567961                                     0.767406   \n",
       "min              5.000000                                    11.820000   \n",
       "25%              6.525000                                    11.947500   \n",
       "50%              8.150000                                    12.100000   \n",
       "75%              9.100000                                    13.350000   \n",
       "max             10.000000                                    14.260000   \n",
       "\n",
       "        Finance Rate on Personal Loans at Commercial Banks, 24 Month Loan  \\\n",
       "count                                           84.000000                   \n",
       "unique                                                NaN                   \n",
       "top                                                   NaN                   \n",
       "freq                                                  NaN                   \n",
       "mean                                            10.552976                   \n",
       "std                                              0.514015                   \n",
       "min                                              9.570000                   \n",
       "25%                                             10.130000                   \n",
       "50%                                             10.710000                   \n",
       "75%                                             10.940000                   \n",
       "max                                             11.440000                   \n",
       "\n",
       "        Earnings or wages  in dollars per hour  \\\n",
       "count                                84.000000   \n",
       "unique                                     NaN   \n",
       "top                                        NaN   \n",
       "freq                                       NaN   \n",
       "mean                                 23.528214   \n",
       "std                                   0.965616   \n",
       "min                                  21.960000   \n",
       "25%                                  22.667500   \n",
       "50%                                  23.500000   \n",
       "75%                                  24.327500   \n",
       "max                                  25.380000   \n",
       "\n",
       "       AdvertisingExpenses (in Thousand Dollars)  \\\n",
       "count                                         84   \n",
       "unique                                        12   \n",
       "top                                            ?   \n",
       "freq                                          73   \n",
       "mean                                         NaN   \n",
       "std                                          NaN   \n",
       "min                                          NaN   \n",
       "25%                                          NaN   \n",
       "50%                                          NaN   \n",
       "75%                                          NaN   \n",
       "max                                          NaN   \n",
       "\n",
       "        Cotton Monthly Price - US cents per Pound(lbs)  Change(in%)  \\\n",
       "count                                         84.00000    84.000000   \n",
       "unique                                             NaN          NaN   \n",
       "top                                                NaN          NaN   \n",
       "freq                                               NaN          NaN   \n",
       "mean                                          93.43750     0.548095   \n",
       "std                                           35.24268     7.260963   \n",
       "min                                           51.50000   -23.590000   \n",
       "25%                                           71.76000    -2.665000   \n",
       "50%                                           85.65000     0.190000   \n",
       "75%                                           94.70000     3.482500   \n",
       "max                                          229.67000    22.850000   \n",
       "\n",
       "        Average upland planted(million acres)  \\\n",
       "count                               84.000000   \n",
       "unique                                    NaN   \n",
       "top                                       NaN   \n",
       "freq                                      NaN   \n",
       "mean                                10.848500   \n",
       "std                                  1.737794   \n",
       "min                                  8.398000   \n",
       "25%                                  9.296000   \n",
       "50%                                 10.769000   \n",
       "75%                                 12.077000   \n",
       "max                                 14.431000   \n",
       "\n",
       "        Average upland harvested(million acres)  yieldperharvested acre  \\\n",
       "count                                 84.000000               84.000000   \n",
       "unique                                      NaN                     NaN   \n",
       "top                                         NaN                     NaN   \n",
       "freq                                        NaN                     NaN   \n",
       "mean                                   8.872893              793.726190   \n",
       "std                                    1.147233               26.034431   \n",
       "min                                    7.345000              747.000000   \n",
       "25%                                    7.582000              774.000000   \n",
       "50%                                    9.173500              792.000000   \n",
       "75%                                    9.692000              807.000000   \n",
       "max                                   10.577000              869.000000   \n",
       "\n",
       "        Production (in  480-lb netweright in million bales)  \\\n",
       "count                                           84.000000     \n",
       "unique                                                NaN     \n",
       "top                                                   NaN     \n",
       "freq                                                  NaN     \n",
       "mean                                            14.707262     \n",
       "std                                              2.048080     \n",
       "min                                             11.751000     \n",
       "25%                                             12.589000     \n",
       "50%                                             14.959000     \n",
       "75%                                             16.290750     \n",
       "max                                             18.375000     \n",
       "\n",
       "        Mill use  (in  480-lb netweright in million bales)    Exports  \n",
       "count                                           84.000000   84.000000  \n",
       "unique                                                NaN         NaN  \n",
       "top                                                   NaN         NaN  \n",
       "freq                                                  NaN         NaN  \n",
       "mean                                             3.560548   11.184702  \n",
       "std                                              0.165603    1.748363  \n",
       "min                                              3.275000    9.220000  \n",
       "25%                                              3.380000    9.900000  \n",
       "50%                                              3.567500   10.637500  \n",
       "75%                                              3.675000   11.650000  \n",
       "max                                              4.170000   15.280000  "
      ]
     },
     "execution_count": 22,
     "metadata": {},
     "output_type": "execute_result"
    }
   ],
   "source": [
    "# Printing the statistics of the macro economic table\n",
    "Macroeconomic_Data.describe(include = 'all')"
   ]
  },
  {
   "cell_type": "markdown",
   "id": "803593db",
   "metadata": {},
   "source": [
    "#### 4) Weather Data"
   ]
  },
  {
   "cell_type": "markdown",
   "id": "11ef2eab",
   "metadata": {},
   "source": [
    "As we see that weather dataset has different sheets with specific years data so Creating a single dataframe from the given tables"
   ]
  },
  {
   "cell_type": "code",
   "execution_count": null,
   "id": "72dd2d73",
   "metadata": {},
   "outputs": [],
   "source": [
    "## Adding each sheet from the excel file to a list of dataframes.\n",
    "Weather_Data_list = []\n",
    "for i in range(0,len(Weather_Data_xlsx.sheet_names)):\n",
    "    Weather_Data_list.append(Weather_Data_xlsx.parse(Weather_Data_xlsx.sheet_names[i])) \n",
    "    \n",
    "    # Setting the Year column with proper values\n",
    "    Weather_Data_list[i].Year = Weather_Data_xlsx.sheet_names[i]\n",
    "\n",
    "# Shifting each row one step upwards in the dataframe.\n",
    "Weather_Data_list[5].loc[:,\"Temp high (°C)\":\"WeatherEvent\"] = Weather_Data_list[5].loc[:,\"Temp high (°C)\":\"WeatherEvent\"]\\\n",
    ".shift(-1)\n",
    "Weather_Data_list[5] = Weather_Data_list[5][:-1].copy()\n",
    "\n",
    "# Combining list of weather datas into a single dataframe\n",
    "Weather_Data = pd.DataFrame()\n",
    "for df in Weather_Data_list:\n",
    "    Weather_Data = pd.concat([Weather_Data,df])"
   ]
  },
  {
   "cell_type": "code",
   "execution_count": null,
   "id": "391dcc4a",
   "metadata": {},
   "outputs": [],
   "source": [
    "#checking the top 5 rows\n",
    "Weather_Data.head()"
   ]
  },
  {
   "cell_type": "code",
   "execution_count": null,
   "id": "6ce0a154",
   "metadata": {},
   "outputs": [],
   "source": [
    "#checking the  bottom 5 rows\n",
    "Weather_Data.tail()"
   ]
  },
  {
   "cell_type": "code",
   "execution_count": null,
   "id": "6a61a526",
   "metadata": {},
   "outputs": [],
   "source": [
    "#checking the datatypes\n",
    "Weather_Data.dtypes"
   ]
  },
  {
   "cell_type": "markdown",
   "id": "7b865f07",
   "metadata": {},
   "source": [
    "##### Indexing all the dataframes with Date as index"
   ]
  },
  {
   "cell_type": "markdown",
   "id": "59ffeecc",
   "metadata": {},
   "source": [
    "Pandas set_index() is a method to set a List or Series as index of a Data Frame. So as observed month date and year column in every data so here in all the four DataFrames we made new column 'Date' and set it as index."
   ]
  },
  {
   "cell_type": "markdown",
   "id": "7898827c",
   "metadata": {},
   "source": [
    "#### 1) Train Sales Data"
   ]
  },
  {
   "cell_type": "code",
   "execution_count": null,
   "id": "8a69f915",
   "metadata": {},
   "outputs": [],
   "source": [
    "Train_Data['Date'] = Train_Data.Year.astype(str).str.cat(Train_Data.Month.astype(str), sep='-')\n",
    "Train_Data['Date'] = pd.to_datetime(Train_Data.Date.astype(str) + \"-1\")\n",
    "Train_Data.set_index('Date', inplace = True)\n",
    "Train_Data.drop([\"Year\",\"Month\"],axis =1, inplace=True)"
   ]
  },
  {
   "cell_type": "code",
   "execution_count": null,
   "id": "d519b179",
   "metadata": {},
   "outputs": [],
   "source": [
    "Train_Data.head(5)"
   ]
  },
  {
   "cell_type": "code",
   "execution_count": null,
   "id": "b8e9047e",
   "metadata": {},
   "outputs": [],
   "source": [
    "Train_Data.to_csv(\"C:\\\\Users\\\\Riyaz Mehendi\\\\OneDrive - CriticalRiver Technologies Pvt. Ltd\\\\Desktop\\\\Retail_Sales_Forecast\\\\data\\\\processed\\\\Indexed_Train_Data.csv\")"
   ]
  },
  {
   "cell_type": "markdown",
   "id": "76d8db6b",
   "metadata": {},
   "source": [
    "#### 2) Holidays Data"
   ]
  },
  {
   "cell_type": "code",
   "execution_count": null,
   "id": "2b390945",
   "metadata": {},
   "outputs": [],
   "source": [
    "# Extracting the date and month from the 'MonthDate' column.\n",
    "EventHolidays_Data.MonthDate = EventHolidays_Data.MonthDate.astype(str).str[2:7]"
   ]
  },
  {
   "cell_type": "code",
   "execution_count": null,
   "id": "154d0b8b",
   "metadata": {},
   "outputs": [],
   "source": [
    "## Joining two columns year and  monthdate as new single column 'Date'.\n",
    "EventHolidays_Data['Date'] = pd.to_datetime(EventHolidays_Data.Year.astype(str).str.cat(EventHolidays_Data.MonthDate.astype(str), sep='-'), format='%Y-%d-%m')\n",
    "EventHolidays_Data.drop([\"Year\",\"MonthDate\"],axis =1, inplace=True)\n",
    "EventHolidays_Data.set_index('Date', inplace = True)"
   ]
  },
  {
   "cell_type": "code",
   "execution_count": null,
   "id": "9369fcd2",
   "metadata": {},
   "outputs": [],
   "source": [
    "EventHolidays_Data.head(5)"
   ]
  },
  {
   "cell_type": "code",
   "execution_count": null,
   "id": "955bd01d",
   "metadata": {},
   "outputs": [],
   "source": [
    "EventHolidays_Data.tail(5)"
   ]
  },
  {
   "cell_type": "markdown",
   "id": "cc5fcb57",
   "metadata": {},
   "source": [
    "#### 3) MacroEconomic Data"
   ]
  },
  {
   "cell_type": "code",
   "execution_count": null,
   "id": "25fb302e",
   "metadata": {},
   "outputs": [],
   "source": [
    "### Making column year-month as new single column 'Date'.\n",
    "Macroeconomic_Data.rename(columns = {'Year-Month':'Date'}, inplace = True)\n",
    "Macroeconomic_Data['Date'] = pd.to_datetime(Macroeconomic_Data.Date.astype(str) + \"-1\")\n",
    "Macroeconomic_Data.set_index('Date', inplace = True)"
   ]
  },
  {
   "cell_type": "code",
   "execution_count": null,
   "id": "5694bbcc",
   "metadata": {},
   "outputs": [],
   "source": [
    "Macroeconomic_Data.head(5)"
   ]
  },
  {
   "cell_type": "code",
   "execution_count": null,
   "id": "f91f68be",
   "metadata": {},
   "outputs": [],
   "source": [
    "Macroeconomic_Data.tail(5)"
   ]
  },
  {
   "cell_type": "markdown",
   "id": "45ecdaef",
   "metadata": {},
   "source": [
    "#### 4) Weather Data"
   ]
  },
  {
   "cell_type": "code",
   "execution_count": null,
   "id": "9e86cf24",
   "metadata": {},
   "outputs": [],
   "source": [
    "### Making column year-month as new single column 'Date'.\n",
    "Weather_Data['Date'] = pd.to_datetime(Weather_Data.Year.astype(str).str.cat(Weather_Data.Month.astype(str), sep='-')\\\n",
    "                                      .str.cat(Weather_Data.Day.astype(str), sep='/'))\n",
    "Weather_Data.drop([\"Year\",\"Month\",\"Day\"],axis =1, inplace=True)\n",
    "Weather_Data.set_index('Date', inplace = True)"
   ]
  },
  {
   "cell_type": "code",
   "execution_count": null,
   "id": "20ae55b7",
   "metadata": {},
   "outputs": [],
   "source": [
    "Weather_Data.head(5)"
   ]
  },
  {
   "cell_type": "code",
   "execution_count": null,
   "id": "086fb27c",
   "metadata": {},
   "outputs": [],
   "source": [
    "Weather_Data.tail(5)"
   ]
  },
  {
   "cell_type": "markdown",
   "id": "22fc6b76",
   "metadata": {},
   "source": [
    "### Exploratory Data Analysis (EDA)  and Data Preprocessing "
   ]
  },
  {
   "cell_type": "markdown",
   "id": "5f6ba215",
   "metadata": {},
   "source": [
    "#### 1. Train Sales Data"
   ]
  },
  {
   "cell_type": "markdown",
   "id": "47f6cfa7",
   "metadata": {},
   "source": [
    "Checking for Null values"
   ]
  },
  {
   "cell_type": "code",
   "execution_count": null,
   "id": "af6b5962",
   "metadata": {},
   "outputs": [],
   "source": [
    "Train_Data.isnull().sum()"
   ]
  },
  {
   "cell_type": "markdown",
   "id": "b2bf8fba",
   "metadata": {},
   "source": [
    "As it is numeric data so we will impute them using Mean value"
   ]
  },
  {
   "cell_type": "code",
   "execution_count": null,
   "id": "bb5ba0a5",
   "metadata": {},
   "outputs": [],
   "source": [
    "Train_Data.isnull().mean()"
   ]
  },
  {
   "cell_type": "code",
   "execution_count": null,
   "id": "baad5883",
   "metadata": {},
   "outputs": [],
   "source": [
    "trainmean=Train_Data[\"Sales(In ThousandDollars)\"].mean()\n",
    "trainmean"
   ]
  },
  {
   "cell_type": "code",
   "execution_count": null,
   "id": "4fbc06c5",
   "metadata": {},
   "outputs": [],
   "source": [
    "Train_Data[\"Sales(In ThousandDollars)\"]=Train_Data[\"Sales(In ThousandDollars)\"].fillna(trainmean)"
   ]
  },
  {
   "cell_type": "code",
   "execution_count": null,
   "id": "9d534a22",
   "metadata": {},
   "outputs": [],
   "source": [
    "Train_Data.isnull().sum()"
   ]
  },
  {
   "cell_type": "markdown",
   "id": "6d959c32",
   "metadata": {},
   "source": [
    "Our missing values got imputed with mean value"
   ]
  },
  {
   "cell_type": "markdown",
   "id": "d8142d42",
   "metadata": {},
   "source": [
    "Now Lets visualize Countplot on three categories "
   ]
  },
  {
   "cell_type": "code",
   "execution_count": null,
   "id": "0c18c656",
   "metadata": {},
   "outputs": [],
   "source": [
    "plt.title('Count value across all product category')\n",
    "plt.xlabel('values')\n",
    "plt.ylabel(' Product categories')\n",
    "Train_Data[\"ProductCategory\"].value_counts().plot(kind='barh')"
   ]
  },
  {
   "cell_type": "markdown",
   "id": "3311a37e",
   "metadata": {},
   "source": [
    "From above plot we observed that all the 3 categories of 'ProductCategory' has same count value of 84."
   ]
  },
  {
   "cell_type": "code",
   "execution_count": null,
   "id": "103c4c37",
   "metadata": {},
   "outputs": [],
   "source": [
    "g = sns.FacetGrid(data=Train_Data,col='ProductCategory')\n",
    "g.map(plt.hist,'Sales(In ThousandDollars)')\n",
    "g.fig.subplots_adjust(top=0.8)\n",
    "g.fig.suptitle('Count of sales value in each category', fontsize=14)"
   ]
  },
  {
   "cell_type": "markdown",
   "id": "9177aa18",
   "metadata": {},
   "source": [
    "From above plot we observed that Sales values are more for women clothing compared to other product category."
   ]
  },
  {
   "cell_type": "code",
   "execution_count": null,
   "id": "8366a260",
   "metadata": {},
   "outputs": [],
   "source": [
    "# boxplot of a variable across various product categories\n",
    "sns.boxplot(x='ProductCategory', y='Sales(In ThousandDollars)', data=Train_Data)\n",
    "plt.yscale('log')\n",
    "plt.title('Boxplot of variable across various product categories')\n",
    "plt.xlabel('Product Categories')\n",
    "plt.ylabel('Values')\n",
    "plt.show()"
   ]
  },
  {
   "cell_type": "markdown",
   "id": "bd1f43a6",
   "metadata": {},
   "source": [
    "So above plot dipicts that the sales of MenClothing are on an average, lower than the other two categories, whereas the sales of other clothing looks much better.Overall, sales of WomenClothing is very much consistent and very high compared to other two product categories."
   ]
  },
  {
   "cell_type": "code",
   "execution_count": null,
   "id": "340c6fe9",
   "metadata": {},
   "outputs": [],
   "source": [
    "Train_Data"
   ]
  },
  {
   "cell_type": "markdown",
   "id": "aed16b7f",
   "metadata": {},
   "source": [
    "Checking the plot for growth of all 3 Category sales on yearwise."
   ]
  },
  {
   "cell_type": "code",
   "execution_count": null,
   "id": "cbefc02f",
   "metadata": {},
   "outputs": [],
   "source": [
    "Women_Sales_Data = Train_Data.loc[Train_Data.ProductCategory == \"WomenClothing\" ,:]"
   ]
  },
  {
   "cell_type": "code",
   "execution_count": null,
   "id": "f92d06eb",
   "metadata": {},
   "outputs": [],
   "source": [
    "Women_Sales_Data"
   ]
  },
  {
   "cell_type": "code",
   "execution_count": null,
   "id": "06b161bd",
   "metadata": {},
   "outputs": [],
   "source": [
    "Women_Sales_Data.plot()\n",
    "plt.title(\"Sales for WomenClothing\")\n",
    "plt.legend().remove()\n",
    "plt.show()"
   ]
  },
  {
   "cell_type": "code",
   "execution_count": null,
   "id": "b6f763fa",
   "metadata": {},
   "outputs": [],
   "source": [
    "Men_Sales_Data = Train_Data.loc[Train_Data.ProductCategory == \"MenClothing\" ,:]"
   ]
  },
  {
   "cell_type": "code",
   "execution_count": null,
   "id": "493d93eb",
   "metadata": {},
   "outputs": [],
   "source": [
    "Men_Sales_Data"
   ]
  },
  {
   "cell_type": "code",
   "execution_count": null,
   "id": "c36b77fc",
   "metadata": {},
   "outputs": [],
   "source": [
    "Men_Sales_Data.plot()\n",
    "plt.title(\"Sales for Men Clothing\")\n",
    "plt.legend().remove()\n",
    "plt.show()"
   ]
  },
  {
   "cell_type": "code",
   "execution_count": null,
   "id": "4b47574c",
   "metadata": {},
   "outputs": [],
   "source": [
    "Other_Sales_Data = Train_Data.loc[Train_Data.ProductCategory == \"OtherClothing\" ,:]"
   ]
  },
  {
   "cell_type": "code",
   "execution_count": null,
   "id": "47abce4f",
   "metadata": {},
   "outputs": [],
   "source": [
    "Other_Sales_Data"
   ]
  },
  {
   "cell_type": "code",
   "execution_count": null,
   "id": "894564c5",
   "metadata": {},
   "outputs": [],
   "source": [
    "Other_Sales_Data.plot()\n",
    "plt.title(\"Sales for Other Clothing\")\n",
    "plt.legend().remove()\n",
    "plt.show()"
   ]
  },
  {
   "cell_type": "markdown",
   "id": "0c2a4c01",
   "metadata": {},
   "source": [
    "#### 2) Event_Holidays Data"
   ]
  },
  {
   "cell_type": "code",
   "execution_count": null,
   "id": "b72d0ab7",
   "metadata": {},
   "outputs": [],
   "source": [
    "EventHolidays_Data"
   ]
  },
  {
   "cell_type": "markdown",
   "id": "9b998b7c",
   "metadata": {},
   "source": [
    "Checking the Null values"
   ]
  },
  {
   "cell_type": "code",
   "execution_count": null,
   "id": "2e6c8666",
   "metadata": {},
   "outputs": [],
   "source": [
    "EventHolidays_Data.isnull().sum()"
   ]
  },
  {
   "cell_type": "code",
   "execution_count": null,
   "id": "a335e560",
   "metadata": {},
   "outputs": [],
   "source": [
    "plt.title('Count Values of Event and Federal Holiday Category')\n",
    "plt.xlabel('values')\n",
    "plt.ylabel('Categroy')\n",
    "EventHolidays_Data[\"DayCategory\"].value_counts().plot(kind='barh')"
   ]
  },
  {
   "cell_type": "markdown",
   "id": "65565146",
   "metadata": {},
   "source": [
    "From above plot we visualize that Federal Holiday having count value more than 85 is Higher than count value of Event presiding at 62."
   ]
  },
  {
   "cell_type": "code",
   "execution_count": null,
   "id": "6cf06154",
   "metadata": {},
   "outputs": [],
   "source": [
    "plt.title('Count Values of different categories in Event column')\n",
    "plt.xlabel(' Count values')\n",
    "plt.ylabel('Categroy')\n",
    "EventHolidays_Data[\"Event\"].value_counts().plot(kind='barh')"
   ]
  },
  {
   "cell_type": "markdown",
   "id": "fbb49159",
   "metadata": {},
   "source": [
    "From above plot we observed that 17 out of 23 categories of event columns has same count value 8."
   ]
  },
  {
   "cell_type": "markdown",
   "id": "d1f17bef",
   "metadata": {},
   "source": [
    "**Resampling the data**\n",
    "\n",
    "Resampling involves changing the frequency of your Data observations. Two types of resampling are: Upsampling and Downsampling. There are perhaps two main reasons why I am interested in resampling the data: \n",
    "\n",
    "    1.Problem Framing: Resampling may be required if data is available at the same frequency that we want to make predictions.\n",
    "    2.Feature Engineering: Resampling can also be used to provide additional structure or insight into the learning problem for supervised learning models. So, Here we Resampled Data with 'M' which point outs to be Month End Frequency."
   ]
  },
  {
   "cell_type": "code",
   "execution_count": null,
   "id": "93f93d59",
   "metadata": {},
   "outputs": [],
   "source": [
    "# Converting 'Events' as 1 and 'Federal Holiday' as 4\n",
    "#EventHolidays_Data['DayCategory'] = EventHolidays_Data['DayCategory'].map({'Event':1, 'Federal Holiday':4})\n",
    "dummy_Data=pd.get_dummies(EventHolidays_Data['DayCategory'])"
   ]
  },
  {
   "cell_type": "code",
   "execution_count": null,
   "id": "7b9b940b",
   "metadata": {},
   "outputs": [],
   "source": [
    "dummy_Data"
   ]
  },
  {
   "cell_type": "code",
   "execution_count": null,
   "id": "df797cca",
   "metadata": {},
   "outputs": [],
   "source": [
    "EventHolidays_Data=dummy_Data"
   ]
  },
  {
   "cell_type": "code",
   "execution_count": null,
   "id": "cbf5e787",
   "metadata": {},
   "outputs": [],
   "source": [
    "EventHolidays_Data = EventHolidays_Data.resample('M').sum()"
   ]
  },
  {
   "cell_type": "code",
   "execution_count": null,
   "id": "19dff32a",
   "metadata": {
    "scrolled": true
   },
   "outputs": [],
   "source": [
    "EventHolidays_Data.head(10)"
   ]
  },
  {
   "cell_type": "code",
   "execution_count": null,
   "id": "3d18d25e",
   "metadata": {},
   "outputs": [],
   "source": [
    "EventHolidays_Data.tail(10)"
   ]
  },
  {
   "cell_type": "markdown",
   "id": "a836b003",
   "metadata": {},
   "source": [
    "#### 3) Macroeconomic Data"
   ]
  },
  {
   "cell_type": "markdown",
   "id": "c5e15755",
   "metadata": {},
   "source": [
    "Checking for null values using Heatmap"
   ]
  },
  {
   "cell_type": "code",
   "execution_count": null,
   "id": "5f171ea1",
   "metadata": {},
   "outputs": [],
   "source": [
    "ax = plt.axes()\n",
    "ax.set_title('Checking null values using HeatMap')\n",
    "sns.heatmap(Macroeconomic_Data.isnull(), cbar=False, ax=ax)"
   ]
  },
  {
   "cell_type": "markdown",
   "id": "4a4c8a80",
   "metadata": {},
   "source": [
    "Now We have to look for categorical and numerical variables in the data"
   ]
  },
  {
   "cell_type": "code",
   "execution_count": null,
   "id": "3601f91a",
   "metadata": {},
   "outputs": [],
   "source": [
    "Macroeconomic_Data.dtypes"
   ]
  },
  {
   "cell_type": "markdown",
   "id": "7151c41c",
   "metadata": {},
   "source": [
    "**Categorical variables:**"
   ]
  },
  {
   "cell_type": "code",
   "execution_count": null,
   "id": "4f298a5c",
   "metadata": {},
   "outputs": [],
   "source": [
    "print(Macroeconomic_Data[\"PartyInPower\"].value_counts(), \"\\n\")"
   ]
  },
  {
   "cell_type": "markdown",
   "id": "2febe035",
   "metadata": {},
   "source": [
    "The attribute 'PartyInPower' has only one category for all the instances and hence is not useful for the analysis."
   ]
  },
  {
   "cell_type": "code",
   "execution_count": null,
   "id": "ab943736",
   "metadata": {},
   "outputs": [],
   "source": [
    "# Droping the column 'PartyInPower'\n",
    "Macroeconomic_Data.drop('PartyInPower', axis=1,inplace=True)"
   ]
  },
  {
   "cell_type": "code",
   "execution_count": null,
   "id": "e937f905",
   "metadata": {},
   "outputs": [],
   "source": [
    "print(Macroeconomic_Data[\"AdvertisingExpenses (in Thousand Dollars)\"].value_counts(), \"\\n\")"
   ]
  },
  {
   "cell_type": "markdown",
   "id": "c5695f7d",
   "metadata": {},
   "source": [
    "The attribute 'AdvertisingExpenses (in Thousand Dollars)' has 88% of missing values which are denoted as '?'so will drop from our data."
   ]
  },
  {
   "cell_type": "code",
   "execution_count": null,
   "id": "0b8e3939",
   "metadata": {},
   "outputs": [],
   "source": [
    "# Droping the column 'AdvertisingExpenses (in Thousand Dollars)'\n",
    "Macroeconomic_Data.drop('AdvertisingExpenses (in Thousand Dollars)', axis=1,inplace=True)"
   ]
  },
  {
   "cell_type": "code",
   "execution_count": null,
   "id": "bc380082",
   "metadata": {},
   "outputs": [],
   "source": [
    "#Checking whether columns are dropped or not \n",
    "Macroeconomic_Data.info()"
   ]
  },
  {
   "cell_type": "markdown",
   "id": "857acc39",
   "metadata": {},
   "source": [
    "**Numerical Variables**:"
   ]
  },
  {
   "cell_type": "code",
   "execution_count": null,
   "id": "af06a429",
   "metadata": {},
   "outputs": [],
   "source": [
    "# Calculating the correlation of each variables\n",
    "correlation = Macroeconomic_Data.corr()\n",
    "\n",
    "### Ploting the correlation \n",
    "%matplotlib inline\n",
    "plt.figure(figsize =(13,13))\n",
    "sns.heatmap(data= correlation,cmap=\"YlGnBu\", annot =True, square= True)\n",
    "plt.title('The Correlation of each features in Macroeconomic dataset', fontsize= '20')\n",
    "plt.show()"
   ]
  },
  {
   "cell_type": "markdown",
   "id": "5ca982e9",
   "metadata": {},
   "source": [
    "From above correlation graph we see that the dark blue boxes are the most correlated, we observed that most correlated pairs\n",
    "\n",
    "    1.Exports-Cotton Monthly Price - US cents per Pound(lbs) (0.72) \n",
    "    2.Exports-Production (in 480-lb netweright in million bales)(0.64) \n",
    "    3.Also, Exports-Average upland harvested(million acres) (0.57) are quite correlated. \n",
    "\n",
    "We also note that this data is from a specific time period only. Thus, from a risk-minimisation point of view,we should not invest in these pairs , since if one goes down, the other is likely to go down as well (if one goes up, it will be benefited)."
   ]
  },
  {
   "cell_type": "markdown",
   "id": "53f7678a",
   "metadata": {},
   "source": [
    "#### 4) Weather Data"
   ]
  },
  {
   "cell_type": "markdown",
   "id": "8466e09a",
   "metadata": {},
   "source": [
    "Checking Null values and specific datatypes"
   ]
  },
  {
   "cell_type": "code",
   "execution_count": null,
   "id": "47b4b0de",
   "metadata": {},
   "outputs": [],
   "source": [
    "Weather_Data"
   ]
  },
  {
   "cell_type": "code",
   "execution_count": null,
   "id": "d04e9098",
   "metadata": {},
   "outputs": [],
   "source": [
    "Weather_Data.dtypes"
   ]
  },
  {
   "cell_type": "code",
   "execution_count": null,
   "id": "e1684af7",
   "metadata": {},
   "outputs": [],
   "source": [
    "Weather_Data.describe()"
   ]
  },
  {
   "cell_type": "code",
   "execution_count": null,
   "id": "e4a4422d",
   "metadata": {},
   "outputs": [],
   "source": [
    "#Counting WeatherEvent columns count value\n",
    "Weather_Data['WeatherEvent'].value_counts()"
   ]
  },
  {
   "cell_type": "code",
   "execution_count": null,
   "id": "30f6bbec",
   "metadata": {},
   "outputs": [],
   "source": [
    "plt.title('Count Values of different categories in WeatherEvent column')\n",
    "plt.xlabel(' Count values')\n",
    "plt.ylabel('WeatherEvent')\n",
    "Weather_Data['WeatherEvent'].value_counts().plot(kind='barh')"
   ]
  },
  {
   "cell_type": "markdown",
   "id": "8338ab62",
   "metadata": {},
   "source": [
    "From above plot we observed that Rain has more count values and so it has most significant role in WeatherEvent"
   ]
  },
  {
   "cell_type": "markdown",
   "id": "895ad567",
   "metadata": {},
   "source": [
    "Checking for non-numeric characters in numeric variables"
   ]
  },
  {
   "cell_type": "markdown",
   "id": "5f455c96",
   "metadata": {},
   "source": [
    "NOTE:- We find value T in 'Precip. (mm) sum' column so \"T\" stands for Trace. This is a small amount of precipitation that will wet a raingage but is less than the 0.01 inch measuring limit. Hence converting all the \"T\" values to 0.01"
   ]
  },
  {
   "cell_type": "code",
   "execution_count": null,
   "id": "8fdb9626",
   "metadata": {},
   "outputs": [],
   "source": [
    "# Converting the cells that have the value \"T\" to O.01\n",
    "Weather_Data[Weather_Data.columns[18]] = Weather_Data[Weather_Data.columns[18]].apply(lambda x: 0.01 if x == 'T' else x)"
   ]
  },
  {
   "cell_type": "code",
   "execution_count": null,
   "id": "b3bc7857",
   "metadata": {},
   "outputs": [],
   "source": [
    "#Checking data having values '-'.\n",
    "print((Weather_Data.iloc[:,:] =='-').sum())"
   ]
  },
  {
   "cell_type": "code",
   "execution_count": null,
   "id": "0245517b",
   "metadata": {},
   "outputs": [],
   "source": [
    "# Converting all cells that have the value \"-\" to NaN\n",
    "Weather_Data = Weather_Data.applymap(lambda x: np.nan if x == '-' else x)"
   ]
  },
  {
   "cell_type": "code",
   "execution_count": null,
   "id": "d55228e3",
   "metadata": {},
   "outputs": [],
   "source": [
    "Weather_Data.head(5)"
   ]
  },
  {
   "cell_type": "code",
   "execution_count": null,
   "id": "1eb8b48b",
   "metadata": {},
   "outputs": [],
   "source": [
    "Weather_Data.tail(5)"
   ]
  },
  {
   "cell_type": "code",
   "execution_count": null,
   "id": "2db1665a",
   "metadata": {},
   "outputs": [],
   "source": [
    "# Replacing the missing values in 'WeatherEvent' column to \"NA\"\n",
    "Weather_Data.WeatherEvent.fillna(value=\"NotApplicable\", inplace=True)\n",
    "\n",
    "# Droping the rows having all columns as NaN\n",
    "Weather_Data = Weather_Data[~Weather_Data[\"Temp high (°C)\"].isnull()]"
   ]
  },
  {
   "cell_type": "code",
   "execution_count": null,
   "id": "92883f77",
   "metadata": {},
   "outputs": [],
   "source": [
    "Weather_Data.describe(include='all')"
   ]
  },
  {
   "cell_type": "code",
   "execution_count": null,
   "id": "f74fe1b1",
   "metadata": {},
   "outputs": [],
   "source": [
    "Weather_Data.dtypes"
   ]
  },
  {
   "cell_type": "code",
   "execution_count": null,
   "id": "3cf29261",
   "metadata": {},
   "outputs": [],
   "source": [
    "print(\"Size before dropping NaN rows\",Weather_Data.shape,\"\\n\")\n",
    "Weather_Data = Weather_Data.dropna()\n",
    "print(\"\\nSize after dropping NaN rows\",Weather_Data.shape)"
   ]
  },
  {
   "cell_type": "code",
   "execution_count": null,
   "id": "8e62649d",
   "metadata": {},
   "outputs": [],
   "source": [
    "Weather_Data.isnull().sum()"
   ]
  },
  {
   "cell_type": "code",
   "execution_count": null,
   "id": "358d76c9",
   "metadata": {},
   "outputs": [],
   "source": [
    "Weather_Data['WeatherEvent'].value_counts().plot(kind='barh')"
   ]
  },
  {
   "cell_type": "code",
   "execution_count": null,
   "id": "0365edfe",
   "metadata": {},
   "outputs": [],
   "source": [
    "#count value  of WeatherEvent column\n",
    "Weather_Data['WeatherEvent'].value_counts()"
   ]
  },
  {
   "cell_type": "markdown",
   "id": "b786ba75",
   "metadata": {},
   "source": [
    "Around 95% are Not Applicable values in WeatherEvent so drop Column 'WeatherEvent\""
   ]
  },
  {
   "cell_type": "code",
   "execution_count": null,
   "id": "fb040020",
   "metadata": {},
   "outputs": [],
   "source": [
    "Weather_Data.drop(['WeatherEvent'],axis=1,inplace=True)"
   ]
  },
  {
   "cell_type": "code",
   "execution_count": null,
   "id": "fa7b3856",
   "metadata": {},
   "outputs": [],
   "source": [
    "#checking whether all datatypes are correct\n",
    "Weather_Data.dtypes"
   ]
  },
  {
   "cell_type": "markdown",
   "id": "e234edd3",
   "metadata": {},
   "source": [
    "Plotting correlation plot for Weather Data"
   ]
  },
  {
   "cell_type": "code",
   "execution_count": null,
   "id": "d3a82315",
   "metadata": {},
   "outputs": [],
   "source": [
    "correlation_weather = Weather_Data.corr()\n",
    "\n",
    "### Ploting the correlation \n",
    "%matplotlib inline\n",
    "plt.figure(figsize =(12,12))\n",
    "sns.heatmap(data= correlation_weather, annot =True, square= True)\n",
    "plt.title('The Correlation of each features in Weather dataset', fontsize= '20')\n",
    "plt.show()"
   ]
  },
  {
   "cell_type": "markdown",
   "id": "cd5610b7",
   "metadata": {},
   "source": [
    "Checking for Outliers in the data"
   ]
  },
  {
   "cell_type": "code",
   "execution_count": null,
   "id": "6d05d55c",
   "metadata": {},
   "outputs": [],
   "source": [
    "plt.figure(figsize=(40,50))\n",
    "sns.boxplot(data=Weather_Data,orient='h',palette=\"Set2\")\n",
    "plt.show()"
   ]
  },
  {
   "cell_type": "markdown",
   "id": "1bceea6b",
   "metadata": {},
   "source": [
    "From above plot we observed that 10 columns has outliers in the data."
   ]
  },
  {
   "cell_type": "code",
   "execution_count": null,
   "id": "dd210a26",
   "metadata": {},
   "outputs": [],
   "source": [
    "Weather_Data.info()"
   ]
  },
  {
   "cell_type": "code",
   "execution_count": null,
   "id": "79899694",
   "metadata": {},
   "outputs": [],
   "source": [
    "##Resampling the weather data with the mean of each month\n",
    "Weather_Data_mean = Weather_Data.resample('M').mean()"
   ]
  },
  {
   "cell_type": "code",
   "execution_count": null,
   "id": "49a1f981",
   "metadata": {},
   "outputs": [],
   "source": [
    "#Rename columns so that they have no spaces\n",
    "Weather_Data_mean.columns = ['Temphigh', 'Tempavg', 'Templow', 'DewPointhigh','DewPointavg','DewPointlow','Humidityhigh',\n",
    "                        'Humidityavg','Humiditylow','SeaLevelPresshigh','SeaLevelPressavg','SeaLevelPresslow','Visibilityhigh',\n",
    "                         'Visibilityavg', 'Visibilitylow','Windlow','Windavg','Windhigh','Precipsum']\n",
    "Weather_Data_mean.head()"
   ]
  },
  {
   "cell_type": "code",
   "execution_count": null,
   "id": "a2f31b31",
   "metadata": {},
   "outputs": [],
   "source": [
    "Weather_Data_mean.tail()"
   ]
  },
  {
   "cell_type": "markdown",
   "id": "3a7116d6",
   "metadata": {},
   "source": [
    "Removing Columns with High and Low Values as we have Average values which will make more weightage in prediction and No. of features get reduce. "
   ]
  },
  {
   "cell_type": "code",
   "execution_count": null,
   "id": "b72cb51e",
   "metadata": {},
   "outputs": [],
   "source": [
    "Weather_Data_mean.columns"
   ]
  },
  {
   "cell_type": "code",
   "execution_count": null,
   "id": "6e6e937a",
   "metadata": {},
   "outputs": [],
   "source": [
    "Weather_Data_mean=Weather_Data_mean.drop( ['Temphigh','Templow','DewPointhigh','DewPointlow', 'Humidityhigh','Humiditylow', 'SeaLevelPresshigh', 'SeaLevelPresslow','Visibilityhigh','Visibilitylow', 'Windlow','Windhigh'],axis = 1)"
   ]
  },
  {
   "cell_type": "code",
   "execution_count": null,
   "id": "410f7c13",
   "metadata": {},
   "outputs": [],
   "source": [
    "Weather_Data_mean.info()"
   ]
  },
  {
   "cell_type": "code",
   "execution_count": null,
   "id": "c972f6ec",
   "metadata": {},
   "outputs": [],
   "source": [
    "Weather_Data_mean.shape"
   ]
  },
  {
   "cell_type": "code",
   "execution_count": null,
   "id": "761dfdf5",
   "metadata": {},
   "outputs": [],
   "source": [
    "EventHolidays_Data.shape"
   ]
  },
  {
   "cell_type": "code",
   "execution_count": null,
   "id": "c387ec9f",
   "metadata": {},
   "outputs": [],
   "source": [
    "Macroeconomic_Data.shape"
   ]
  },
  {
   "cell_type": "markdown",
   "id": "7e59d612",
   "metadata": {},
   "source": [
    "#### Merging the DataFrames"
   ]
  },
  {
   "cell_type": "markdown",
   "id": "c80a0945",
   "metadata": {},
   "source": [
    "Now,we had same shape(Number of rows) in all 3 Dataframes except Train Data. We will merge them before that we have to synchronise the Indexes of the dataframes\n",
    "\n"
   ]
  },
  {
   "cell_type": "code",
   "execution_count": null,
   "id": "3e3c1f03",
   "metadata": {},
   "outputs": [],
   "source": [
    "# Synchronising the index before merging\n",
    "EventHolidays_Data.index = Macroeconomic_Data.index\n",
    "Weather_Data_mean.index = Macroeconomic_Data.index"
   ]
  },
  {
   "cell_type": "code",
   "execution_count": null,
   "id": "0068d644",
   "metadata": {},
   "outputs": [],
   "source": [
    "#Merging the data\n",
    "Merged_Data = Macroeconomic_Data.join(Weather_Data_mean)\n",
    "Merged_Data = Merged_Data.join(EventHolidays_Data)"
   ]
  },
  {
   "cell_type": "code",
   "execution_count": null,
   "id": "35ed4740",
   "metadata": {},
   "outputs": [],
   "source": [
    "Merged_Data.shape"
   ]
  },
  {
   "cell_type": "code",
   "execution_count": null,
   "id": "bf0ffaa9",
   "metadata": {},
   "outputs": [],
   "source": [
    "Merged_Data.head(5)"
   ]
  },
  {
   "cell_type": "markdown",
   "id": "9d973711",
   "metadata": {},
   "source": [
    "Correlation plot of Merged_Data"
   ]
  },
  {
   "cell_type": "code",
   "execution_count": null,
   "id": "dc1d028e",
   "metadata": {},
   "outputs": [],
   "source": [
    "correlation_merge = Merged_Data.corr()\n",
    "\n",
    "### Ploting the correlation \n",
    "%matplotlib inline\n",
    "plt.figure(figsize =(25,25))\n",
    "sns.heatmap(data= correlation_merge, annot =True, square= True)\n",
    "plt.title('The Correlation of each features in Merged dataset', fontsize= '25')\n",
    "plt.show()"
   ]
  },
  {
   "cell_type": "markdown",
   "id": "391cc8c5",
   "metadata": {},
   "source": [
    "Checking the top coorelated features having highest values"
   ]
  },
  {
   "cell_type": "code",
   "execution_count": null,
   "id": "0343eac2",
   "metadata": {},
   "outputs": [],
   "source": [
    "def get_redundant_pairs(Merged_Data):\n",
    "    '''Get diagonal and lower triangular pairs of correlation matrix'''\n",
    "    pairs_to_drop = set()\n",
    "    cols = Merged_Data.columns\n",
    "    for i in range(0, Merged_Data.shape[1]):\n",
    "        for j in range(0, i+1):\n",
    "            pairs_to_drop.add((cols[i], cols[j]))\n",
    "    return pairs_to_drop\n",
    "\n",
    "def get_top_abs_correlations(Merged_Data, n=43):\n",
    "    au_corr = Merged_Data.corr().abs().unstack()\n",
    "    labels_to_drop = get_redundant_pairs(Merged_Data)\n",
    "    au_corr = au_corr.drop(labels=labels_to_drop).sort_values(ascending=False)\n",
    "    return au_corr[0:n]\n",
    "\n",
    "print(\"Top Absolute Correlations\")\n",
    "print(get_top_abs_correlations(Merged_Data, 30))"
   ]
  },
  {
   "cell_type": "code",
   "execution_count": null,
   "id": "801801b1",
   "metadata": {},
   "outputs": [],
   "source": [
    "Merged_Data.to_csv(\"C:\\\\Users\\\\Riyaz Mehendi\\\\OneDrive - CriticalRiver Technologies Pvt. Ltd\\\\Desktop\\\\Retail_Sales_Forecast\\\\data\\\\processed\\\\Preprocessed_Merged_Data.csv\")"
   ]
  },
  {
   "cell_type": "code",
   "execution_count": null,
   "id": "95f85c9e",
   "metadata": {},
   "outputs": [],
   "source": []
  }
 ],
 "metadata": {
  "kernelspec": {
   "display_name": "Python 3 (ipykernel)",
   "language": "python",
   "name": "python3"
  },
  "language_info": {
   "codemirror_mode": {
    "name": "ipython",
    "version": 3
   },
   "file_extension": ".py",
   "mimetype": "text/x-python",
   "name": "python",
   "nbconvert_exporter": "python",
   "pygments_lexer": "ipython3",
   "version": "3.8.0"
  }
 },
 "nbformat": 4,
 "nbformat_minor": 5
}
