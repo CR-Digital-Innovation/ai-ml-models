{
 "cells": [
  {
   "cell_type": "markdown",
   "id": "e0d1036d",
   "metadata": {},
   "source": [
    "## **Sales Forecasting of Retail Clothing Product Categories**"
   ]
  },
  {
   "cell_type": "markdown",
   "id": "a5dc33b9",
   "metadata": {},
   "source": [
    "#### Input Parameters:\n",
    "\n",
    "      ProductCategory-( Womens, Mens, Others)\n",
    "      MonthlyNominalGDPIndexinMillion \n",
    "      MonthlyRealGDPIndexinMillion\n",
    "      CPI \n",
    "      unemploymentrate\n",
    "      CommercialBankInterestRateonCreditCardPlans\n",
    "      FinanceRateonPersonalLoansatCommercialBanks24MonthLoan\n",
    "      Earningsorwagesindollarsperhour\n",
    "      CottonMonthlyPriceUScentsperPoundlbs\n",
    "      Changein\n",
    "      Averageuplandplantedmillionacres\n",
    "      yieldperharvestedacre\n",
    "      Millusein480lbnetwerightinmillionbales \n",
    "      Exports  \n",
    "      SeaLevelPressavg \n",
    "      Visibilityavg\n",
    "      Windavg \n",
    "      Precipsum\n",
    "      Event \n",
    "      FederalHoliday\n"
   ]
  },
  {
   "cell_type": "code",
   "execution_count": 1,
   "id": "4453b328",
   "metadata": {},
   "outputs": [],
   "source": [
    "import os\n",
    "import pandas as pd\n",
    "import numpy as np\n",
    "from sklearn import preprocessing\n",
    "import joblib"
   ]
  },
  {
   "cell_type": "code",
   "execution_count": 2,
   "id": "a56f7f47",
   "metadata": {},
   "outputs": [
    {
     "data": {
      "text/plain": [
       "'C:\\\\Users\\\\Riyaz Mehendi\\\\OneDrive - CriticalRiver Technologies Pvt. Ltd\\\\Desktop\\\\Retail_Sales_Forecast\\\\src\\\\demo'"
      ]
     },
     "execution_count": 2,
     "metadata": {},
     "output_type": "execute_result"
    }
   ],
   "source": [
    "os.getcwd()"
   ]
  },
  {
   "cell_type": "code",
   "execution_count": 3,
   "id": "15609eb0",
   "metadata": {},
   "outputs": [],
   "source": [
    "project_path='C:\\\\Users\\\\Riyaz Mehendi\\\\OneDrive - CriticalRiver Technologies Pvt. Ltd\\\\Desktop\\\\Retail_Sales_Forecast'\n",
    "processed_data='data\\\\processed'\n",
    "processed_file_name='Merged_Data.csv'"
   ]
  },
  {
   "cell_type": "code",
   "execution_count": 4,
   "id": "183d8e39",
   "metadata": {},
   "outputs": [],
   "source": [
    "processed_file_path=os.path.join(project_path,processed_data,processed_file_name)"
   ]
  },
  {
   "cell_type": "code",
   "execution_count": 5,
   "id": "82aed03f",
   "metadata": {},
   "outputs": [],
   "source": [
    "Data=pd.read_csv(processed_file_path)"
   ]
  },
  {
   "cell_type": "code",
   "execution_count": 6,
   "id": "7f4b859f",
   "metadata": {},
   "outputs": [],
   "source": [
    "Data=Data.sample(n =5)"
   ]
  },
  {
   "cell_type": "code",
   "execution_count": 7,
   "id": "45bdcf03",
   "metadata": {},
   "outputs": [],
   "source": [
    "Data.reset_index(drop=True, inplace=True)"
   ]
  },
  {
   "cell_type": "code",
   "execution_count": 8,
   "id": "b31c689a",
   "metadata": {
    "scrolled": true
   },
   "outputs": [
    {
     "data": {
      "text/html": [
       "<div>\n",
       "<style scoped>\n",
       "    .dataframe tbody tr th:only-of-type {\n",
       "        vertical-align: middle;\n",
       "    }\n",
       "\n",
       "    .dataframe tbody tr th {\n",
       "        vertical-align: top;\n",
       "    }\n",
       "\n",
       "    .dataframe thead th {\n",
       "        text-align: right;\n",
       "    }\n",
       "</style>\n",
       "<table border=\"1\" class=\"dataframe\">\n",
       "  <thead>\n",
       "    <tr style=\"text-align: right;\">\n",
       "      <th></th>\n",
       "      <th>ProductCategory</th>\n",
       "      <th>SalesInThousandDollars</th>\n",
       "      <th>MonthlyNominalGDPIndexinMillion</th>\n",
       "      <th>MonthlyRealGDPIndexinMillion</th>\n",
       "      <th>CPI</th>\n",
       "      <th>unemploymentrate</th>\n",
       "      <th>CommercialBankInterestRateonCreditCardPlans</th>\n",
       "      <th>FinanceRateonPersonalLoansatCommercialBanks24MonthLoan</th>\n",
       "      <th>Earningsorwagesindollarsperhour</th>\n",
       "      <th>CottonMonthlyPriceUScentsperPoundlbs</th>\n",
       "      <th>...</th>\n",
       "      <th>Exports</th>\n",
       "      <th>Tempavg</th>\n",
       "      <th>DewPointavg</th>\n",
       "      <th>Humidityavg</th>\n",
       "      <th>SeaLevelPressavg</th>\n",
       "      <th>Visibilityavg</th>\n",
       "      <th>Windavg</th>\n",
       "      <th>Precipsum</th>\n",
       "      <th>Event</th>\n",
       "      <th>FederalHoliday</th>\n",
       "    </tr>\n",
       "  </thead>\n",
       "  <tbody>\n",
       "    <tr>\n",
       "      <th>0</th>\n",
       "      <td>MenClothing</td>\n",
       "      <td>800.0</td>\n",
       "      <td>18075.281412</td>\n",
       "      <td>16434.482376</td>\n",
       "      <td>261.066</td>\n",
       "      <td>5.5</td>\n",
       "      <td>12.04</td>\n",
       "      <td>9.69</td>\n",
       "      <td>24.88</td>\n",
       "      <td>72.86</td>\n",
       "      <td>...</td>\n",
       "      <td>10.300</td>\n",
       "      <td>20.483871</td>\n",
       "      <td>9.870968</td>\n",
       "      <td>56.709677</td>\n",
       "      <td>1020.290323</td>\n",
       "      <td>14.032258</td>\n",
       "      <td>6.806452</td>\n",
       "      <td>1.524839</td>\n",
       "      <td>1</td>\n",
       "      <td>1</td>\n",
       "    </tr>\n",
       "    <tr>\n",
       "      <th>1</th>\n",
       "      <td>MenClothing</td>\n",
       "      <td>587.0</td>\n",
       "      <td>15547.854452</td>\n",
       "      <td>15011.761411</td>\n",
       "      <td>249.164</td>\n",
       "      <td>9.0</td>\n",
       "      <td>12.89</td>\n",
       "      <td>11.37</td>\n",
       "      <td>22.94</td>\n",
       "      <td>149.25</td>\n",
       "      <td>...</td>\n",
       "      <td>11.325</td>\n",
       "      <td>26.870968</td>\n",
       "      <td>18.322581</td>\n",
       "      <td>63.838710</td>\n",
       "      <td>1012.806452</td>\n",
       "      <td>13.032258</td>\n",
       "      <td>6.870968</td>\n",
       "      <td>2.483226</td>\n",
       "      <td>0</td>\n",
       "      <td>1</td>\n",
       "    </tr>\n",
       "    <tr>\n",
       "      <th>2</th>\n",
       "      <td>OtherClothing</td>\n",
       "      <td>936.0</td>\n",
       "      <td>14421.752895</td>\n",
       "      <td>14407.053343</td>\n",
       "      <td>233.402</td>\n",
       "      <td>7.8</td>\n",
       "      <td>12.03</td>\n",
       "      <td>11.44</td>\n",
       "      <td>22.05</td>\n",
       "      <td>57.70</td>\n",
       "      <td>...</td>\n",
       "      <td>11.550</td>\n",
       "      <td>-2.096774</td>\n",
       "      <td>-9.903226</td>\n",
       "      <td>57.354839</td>\n",
       "      <td>1015.967742</td>\n",
       "      <td>14.000000</td>\n",
       "      <td>12.000000</td>\n",
       "      <td>2.443226</td>\n",
       "      <td>0</td>\n",
       "      <td>2</td>\n",
       "    </tr>\n",
       "    <tr>\n",
       "      <th>3</th>\n",
       "      <td>OtherClothing</td>\n",
       "      <td>955.0</td>\n",
       "      <td>14590.432252</td>\n",
       "      <td>14559.410173</td>\n",
       "      <td>238.777</td>\n",
       "      <td>9.9</td>\n",
       "      <td>13.60</td>\n",
       "      <td>11.20</td>\n",
       "      <td>22.44</td>\n",
       "      <td>71.78</td>\n",
       "      <td>...</td>\n",
       "      <td>9.950</td>\n",
       "      <td>10.800000</td>\n",
       "      <td>4.166667</td>\n",
       "      <td>66.600000</td>\n",
       "      <td>1019.033333</td>\n",
       "      <td>14.666667</td>\n",
       "      <td>11.133333</td>\n",
       "      <td>1.364333</td>\n",
       "      <td>0</td>\n",
       "      <td>2</td>\n",
       "    </tr>\n",
       "    <tr>\n",
       "      <th>4</th>\n",
       "      <td>OtherClothing</td>\n",
       "      <td>1261.0</td>\n",
       "      <td>18317.816120</td>\n",
       "      <td>16601.489879</td>\n",
       "      <td>261.887</td>\n",
       "      <td>5.0</td>\n",
       "      <td>12.10</td>\n",
       "      <td>9.80</td>\n",
       "      <td>25.05</td>\n",
       "      <td>68.74</td>\n",
       "      <td>...</td>\n",
       "      <td>9.700</td>\n",
       "      <td>23.700000</td>\n",
       "      <td>14.400000</td>\n",
       "      <td>58.633333</td>\n",
       "      <td>1018.300000</td>\n",
       "      <td>14.766667</td>\n",
       "      <td>7.033333</td>\n",
       "      <td>2.777333</td>\n",
       "      <td>0</td>\n",
       "      <td>1</td>\n",
       "    </tr>\n",
       "  </tbody>\n",
       "</table>\n",
       "<p>5 rows × 26 columns</p>\n",
       "</div>"
      ],
      "text/plain": [
       "  ProductCategory  SalesInThousandDollars  MonthlyNominalGDPIndexinMillion  \\\n",
       "0     MenClothing                   800.0                     18075.281412   \n",
       "1     MenClothing                   587.0                     15547.854452   \n",
       "2   OtherClothing                   936.0                     14421.752895   \n",
       "3   OtherClothing                   955.0                     14590.432252   \n",
       "4   OtherClothing                  1261.0                     18317.816120   \n",
       "\n",
       "   MonthlyRealGDPIndexinMillion      CPI  unemploymentrate  \\\n",
       "0                  16434.482376  261.066               5.5   \n",
       "1                  15011.761411  249.164               9.0   \n",
       "2                  14407.053343  233.402               7.8   \n",
       "3                  14559.410173  238.777               9.9   \n",
       "4                  16601.489879  261.887               5.0   \n",
       "\n",
       "   CommercialBankInterestRateonCreditCardPlans  \\\n",
       "0                                        12.04   \n",
       "1                                        12.89   \n",
       "2                                        12.03   \n",
       "3                                        13.60   \n",
       "4                                        12.10   \n",
       "\n",
       "   FinanceRateonPersonalLoansatCommercialBanks24MonthLoan  \\\n",
       "0                                               9.69        \n",
       "1                                              11.37        \n",
       "2                                              11.44        \n",
       "3                                              11.20        \n",
       "4                                               9.80        \n",
       "\n",
       "   Earningsorwagesindollarsperhour  CottonMonthlyPriceUScentsperPoundlbs  ...  \\\n",
       "0                            24.88                                 72.86  ...   \n",
       "1                            22.94                                149.25  ...   \n",
       "2                            22.05                                 57.70  ...   \n",
       "3                            22.44                                 71.78  ...   \n",
       "4                            25.05                                 68.74  ...   \n",
       "\n",
       "   Exports    Tempavg  DewPointavg  Humidityavg  SeaLevelPressavg  \\\n",
       "0   10.300  20.483871     9.870968    56.709677       1020.290323   \n",
       "1   11.325  26.870968    18.322581    63.838710       1012.806452   \n",
       "2   11.550  -2.096774    -9.903226    57.354839       1015.967742   \n",
       "3    9.950  10.800000     4.166667    66.600000       1019.033333   \n",
       "4    9.700  23.700000    14.400000    58.633333       1018.300000   \n",
       "\n",
       "   Visibilityavg    Windavg  Precipsum  Event  FederalHoliday  \n",
       "0      14.032258   6.806452   1.524839      1               1  \n",
       "1      13.032258   6.870968   2.483226      0               1  \n",
       "2      14.000000  12.000000   2.443226      0               2  \n",
       "3      14.666667  11.133333   1.364333      0               2  \n",
       "4      14.766667   7.033333   2.777333      0               1  \n",
       "\n",
       "[5 rows x 26 columns]"
      ]
     },
     "execution_count": 8,
     "metadata": {},
     "output_type": "execute_result"
    }
   ],
   "source": [
    "Data"
   ]
  },
  {
   "cell_type": "code",
   "execution_count": 9,
   "id": "84a9e1fe",
   "metadata": {},
   "outputs": [],
   "source": [
    "Data= Data.drop(['Averageuplandharvestedmillionacres','Productionin480lbnetwerightinmillionbales',\n",
    "                                                 'Tempavg','DewPointavg','Humidityavg','SalesInThousandDollars'],axis=1)"
   ]
  },
  {
   "cell_type": "code",
   "execution_count": 10,
   "id": "ffc2debe",
   "metadata": {},
   "outputs": [
    {
     "data": {
      "text/html": [
       "<div>\n",
       "<style scoped>\n",
       "    .dataframe tbody tr th:only-of-type {\n",
       "        vertical-align: middle;\n",
       "    }\n",
       "\n",
       "    .dataframe tbody tr th {\n",
       "        vertical-align: top;\n",
       "    }\n",
       "\n",
       "    .dataframe thead th {\n",
       "        text-align: right;\n",
       "    }\n",
       "</style>\n",
       "<table border=\"1\" class=\"dataframe\">\n",
       "  <thead>\n",
       "    <tr style=\"text-align: right;\">\n",
       "      <th></th>\n",
       "      <th>ProductCategory</th>\n",
       "      <th>MonthlyNominalGDPIndexinMillion</th>\n",
       "      <th>MonthlyRealGDPIndexinMillion</th>\n",
       "      <th>CPI</th>\n",
       "      <th>unemploymentrate</th>\n",
       "      <th>CommercialBankInterestRateonCreditCardPlans</th>\n",
       "      <th>FinanceRateonPersonalLoansatCommercialBanks24MonthLoan</th>\n",
       "      <th>Earningsorwagesindollarsperhour</th>\n",
       "      <th>CottonMonthlyPriceUScentsperPoundlbs</th>\n",
       "      <th>Changein</th>\n",
       "      <th>Averageuplandplantedmillionacres</th>\n",
       "      <th>yieldperharvestedacre</th>\n",
       "      <th>Millusein480lbnetwerightinmillionbales</th>\n",
       "      <th>Exports</th>\n",
       "      <th>SeaLevelPressavg</th>\n",
       "      <th>Visibilityavg</th>\n",
       "      <th>Windavg</th>\n",
       "      <th>Precipsum</th>\n",
       "      <th>Event</th>\n",
       "      <th>FederalHoliday</th>\n",
       "    </tr>\n",
       "  </thead>\n",
       "  <tbody>\n",
       "    <tr>\n",
       "      <th>0</th>\n",
       "      <td>MenClothing</td>\n",
       "      <td>18075.281412</td>\n",
       "      <td>16434.482376</td>\n",
       "      <td>261.066</td>\n",
       "      <td>5.5</td>\n",
       "      <td>12.04</td>\n",
       "      <td>9.69</td>\n",
       "      <td>24.88</td>\n",
       "      <td>72.86</td>\n",
       "      <td>1.62</td>\n",
       "      <td>10.845</td>\n",
       "      <td>826</td>\n",
       "      <td>3.625</td>\n",
       "      <td>10.300</td>\n",
       "      <td>1020.290323</td>\n",
       "      <td>14.032258</td>\n",
       "      <td>6.806452</td>\n",
       "      <td>1.524839</td>\n",
       "      <td>1</td>\n",
       "      <td>1</td>\n",
       "    </tr>\n",
       "    <tr>\n",
       "      <th>1</th>\n",
       "      <td>MenClothing</td>\n",
       "      <td>15547.854452</td>\n",
       "      <td>15011.761411</td>\n",
       "      <td>249.164</td>\n",
       "      <td>9.0</td>\n",
       "      <td>12.89</td>\n",
       "      <td>11.37</td>\n",
       "      <td>22.94</td>\n",
       "      <td>149.25</td>\n",
       "      <td>-7.10</td>\n",
       "      <td>13.436</td>\n",
       "      <td>785</td>\n",
       "      <td>3.770</td>\n",
       "      <td>11.325</td>\n",
       "      <td>1012.806452</td>\n",
       "      <td>13.032258</td>\n",
       "      <td>6.870968</td>\n",
       "      <td>2.483226</td>\n",
       "      <td>0</td>\n",
       "      <td>1</td>\n",
       "    </tr>\n",
       "    <tr>\n",
       "      <th>2</th>\n",
       "      <td>OtherClothing</td>\n",
       "      <td>14421.752895</td>\n",
       "      <td>14407.053343</td>\n",
       "      <td>233.402</td>\n",
       "      <td>7.8</td>\n",
       "      <td>12.03</td>\n",
       "      <td>11.44</td>\n",
       "      <td>22.05</td>\n",
       "      <td>57.70</td>\n",
       "      <td>4.02</td>\n",
       "      <td>9.296</td>\n",
       "      <td>799</td>\n",
       "      <td>4.170</td>\n",
       "      <td>11.550</td>\n",
       "      <td>1015.967742</td>\n",
       "      <td>14.000000</td>\n",
       "      <td>12.000000</td>\n",
       "      <td>2.443226</td>\n",
       "      <td>0</td>\n",
       "      <td>2</td>\n",
       "    </tr>\n",
       "    <tr>\n",
       "      <th>3</th>\n",
       "      <td>OtherClothing</td>\n",
       "      <td>14590.432252</td>\n",
       "      <td>14559.410173</td>\n",
       "      <td>238.777</td>\n",
       "      <td>9.9</td>\n",
       "      <td>13.60</td>\n",
       "      <td>11.20</td>\n",
       "      <td>22.44</td>\n",
       "      <td>71.78</td>\n",
       "      <td>7.42</td>\n",
       "      <td>8.989</td>\n",
       "      <td>767</td>\n",
       "      <td>3.370</td>\n",
       "      <td>9.950</td>\n",
       "      <td>1019.033333</td>\n",
       "      <td>14.666667</td>\n",
       "      <td>11.133333</td>\n",
       "      <td>1.364333</td>\n",
       "      <td>0</td>\n",
       "      <td>2</td>\n",
       "    </tr>\n",
       "    <tr>\n",
       "      <th>4</th>\n",
       "      <td>OtherClothing</td>\n",
       "      <td>18317.816120</td>\n",
       "      <td>16601.489879</td>\n",
       "      <td>261.887</td>\n",
       "      <td>5.0</td>\n",
       "      <td>12.10</td>\n",
       "      <td>9.80</td>\n",
       "      <td>25.05</td>\n",
       "      <td>68.74</td>\n",
       "      <td>-4.29</td>\n",
       "      <td>8.398</td>\n",
       "      <td>777</td>\n",
       "      <td>3.675</td>\n",
       "      <td>9.700</td>\n",
       "      <td>1018.300000</td>\n",
       "      <td>14.766667</td>\n",
       "      <td>7.033333</td>\n",
       "      <td>2.777333</td>\n",
       "      <td>0</td>\n",
       "      <td>1</td>\n",
       "    </tr>\n",
       "  </tbody>\n",
       "</table>\n",
       "</div>"
      ],
      "text/plain": [
       "  ProductCategory  MonthlyNominalGDPIndexinMillion  \\\n",
       "0     MenClothing                     18075.281412   \n",
       "1     MenClothing                     15547.854452   \n",
       "2   OtherClothing                     14421.752895   \n",
       "3   OtherClothing                     14590.432252   \n",
       "4   OtherClothing                     18317.816120   \n",
       "\n",
       "   MonthlyRealGDPIndexinMillion      CPI  unemploymentrate  \\\n",
       "0                  16434.482376  261.066               5.5   \n",
       "1                  15011.761411  249.164               9.0   \n",
       "2                  14407.053343  233.402               7.8   \n",
       "3                  14559.410173  238.777               9.9   \n",
       "4                  16601.489879  261.887               5.0   \n",
       "\n",
       "   CommercialBankInterestRateonCreditCardPlans  \\\n",
       "0                                        12.04   \n",
       "1                                        12.89   \n",
       "2                                        12.03   \n",
       "3                                        13.60   \n",
       "4                                        12.10   \n",
       "\n",
       "   FinanceRateonPersonalLoansatCommercialBanks24MonthLoan  \\\n",
       "0                                               9.69        \n",
       "1                                              11.37        \n",
       "2                                              11.44        \n",
       "3                                              11.20        \n",
       "4                                               9.80        \n",
       "\n",
       "   Earningsorwagesindollarsperhour  CottonMonthlyPriceUScentsperPoundlbs  \\\n",
       "0                            24.88                                 72.86   \n",
       "1                            22.94                                149.25   \n",
       "2                            22.05                                 57.70   \n",
       "3                            22.44                                 71.78   \n",
       "4                            25.05                                 68.74   \n",
       "\n",
       "   Changein  Averageuplandplantedmillionacres  yieldperharvestedacre  \\\n",
       "0      1.62                            10.845                    826   \n",
       "1     -7.10                            13.436                    785   \n",
       "2      4.02                             9.296                    799   \n",
       "3      7.42                             8.989                    767   \n",
       "4     -4.29                             8.398                    777   \n",
       "\n",
       "   Millusein480lbnetwerightinmillionbales  Exports  SeaLevelPressavg  \\\n",
       "0                                   3.625   10.300       1020.290323   \n",
       "1                                   3.770   11.325       1012.806452   \n",
       "2                                   4.170   11.550       1015.967742   \n",
       "3                                   3.370    9.950       1019.033333   \n",
       "4                                   3.675    9.700       1018.300000   \n",
       "\n",
       "   Visibilityavg    Windavg  Precipsum  Event  FederalHoliday  \n",
       "0      14.032258   6.806452   1.524839      1               1  \n",
       "1      13.032258   6.870968   2.483226      0               1  \n",
       "2      14.000000  12.000000   2.443226      0               2  \n",
       "3      14.666667  11.133333   1.364333      0               2  \n",
       "4      14.766667   7.033333   2.777333      0               1  "
      ]
     },
     "execution_count": 10,
     "metadata": {},
     "output_type": "execute_result"
    }
   ],
   "source": [
    "Data"
   ]
  },
  {
   "cell_type": "code",
   "execution_count": 11,
   "id": "bd73bf43",
   "metadata": {},
   "outputs": [
    {
     "data": {
      "text/plain": [
       "(5, 20)"
      ]
     },
     "execution_count": 11,
     "metadata": {},
     "output_type": "execute_result"
    }
   ],
   "source": [
    "Data.shape"
   ]
  },
  {
   "cell_type": "code",
   "execution_count": 12,
   "id": "b2614f7b",
   "metadata": {},
   "outputs": [
    {
     "data": {
      "text/plain": [
       "ProductCategory                                            object\n",
       "MonthlyNominalGDPIndexinMillion                           float64\n",
       "MonthlyRealGDPIndexinMillion                              float64\n",
       "CPI                                                       float64\n",
       "unemploymentrate                                          float64\n",
       "CommercialBankInterestRateonCreditCardPlans               float64\n",
       "FinanceRateonPersonalLoansatCommercialBanks24MonthLoan    float64\n",
       "Earningsorwagesindollarsperhour                           float64\n",
       "CottonMonthlyPriceUScentsperPoundlbs                      float64\n",
       "Changein                                                  float64\n",
       "Averageuplandplantedmillionacres                          float64\n",
       "yieldperharvestedacre                                       int64\n",
       "Millusein480lbnetwerightinmillionbales                    float64\n",
       "Exports                                                   float64\n",
       "SeaLevelPressavg                                          float64\n",
       "Visibilityavg                                             float64\n",
       "Windavg                                                   float64\n",
       "Precipsum                                                 float64\n",
       "Event                                                       int64\n",
       "FederalHoliday                                              int64\n",
       "dtype: object"
      ]
     },
     "execution_count": 12,
     "metadata": {},
     "output_type": "execute_result"
    }
   ],
   "source": [
    "Data.dtypes"
   ]
  },
  {
   "cell_type": "markdown",
   "id": "68a5bbe6",
   "metadata": {},
   "source": [
    "#### Enter the Inputs"
   ]
  },
  {
   "cell_type": "code",
   "execution_count": 13,
   "id": "3affaf34",
   "metadata": {},
   "outputs": [
    {
     "name": "stdout",
     "output_type": "stream",
     "text": [
      "Please select a row number from 0 to 4 to choose your input: 3\n"
     ]
    }
   ],
   "source": [
    "index=int(input('Please select a row number from 0 to 4 to choose your input: ' ))"
   ]
  },
  {
   "cell_type": "code",
   "execution_count": 14,
   "id": "7ee7abb5",
   "metadata": {},
   "outputs": [],
   "source": [
    "Data=Data.loc[index]"
   ]
  },
  {
   "cell_type": "code",
   "execution_count": 15,
   "id": "c85a66ad",
   "metadata": {},
   "outputs": [
    {
     "data": {
      "text/plain": [
       "ProductCategory                                           OtherClothing\n",
       "MonthlyNominalGDPIndexinMillion                            14590.432252\n",
       "MonthlyRealGDPIndexinMillion                               14559.410173\n",
       "CPI                                                             238.777\n",
       "unemploymentrate                                                    9.9\n",
       "CommercialBankInterestRateonCreditCardPlans                        13.6\n",
       "FinanceRateonPersonalLoansatCommercialBanks24MonthLoan             11.2\n",
       "Earningsorwagesindollarsperhour                                   22.44\n",
       "CottonMonthlyPriceUScentsperPoundlbs                              71.78\n",
       "Changein                                                           7.42\n",
       "Averageuplandplantedmillionacres                                  8.989\n",
       "yieldperharvestedacre                                               767\n",
       "Millusein480lbnetwerightinmillionbales                             3.37\n",
       "Exports                                                            9.95\n",
       "SeaLevelPressavg                                            1019.033333\n",
       "Visibilityavg                                                 14.666667\n",
       "Windavg                                                       11.133333\n",
       "Precipsum                                                      1.364333\n",
       "Event                                                                 0\n",
       "FederalHoliday                                                        2\n",
       "Name: 3, dtype: object"
      ]
     },
     "execution_count": 15,
     "metadata": {},
     "output_type": "execute_result"
    }
   ],
   "source": [
    "Data"
   ]
  },
  {
   "cell_type": "code",
   "execution_count": 16,
   "id": "5a6e5ebc",
   "metadata": {},
   "outputs": [
    {
     "data": {
      "text/plain": [
       "dtype('O')"
      ]
     },
     "execution_count": 16,
     "metadata": {},
     "output_type": "execute_result"
    }
   ],
   "source": [
    "Data.dtypes"
   ]
  },
  {
   "cell_type": "markdown",
   "id": "bce74036",
   "metadata": {},
   "source": [
    "#### Processing user input"
   ]
  },
  {
   "cell_type": "code",
   "execution_count": 17,
   "id": "8a70ce56",
   "metadata": {},
   "outputs": [],
   "source": [
    "Data = pd.DataFrame(Data).transpose()"
   ]
  },
  {
   "cell_type": "code",
   "execution_count": 18,
   "id": "1b572193",
   "metadata": {},
   "outputs": [],
   "source": [
    "## converting text data into numerical\n",
    "Data.replace({'MenClothing': 0, 'WomenClothing': 1,'OtherClothing':2},inplace=True)"
   ]
  },
  {
   "cell_type": "code",
   "execution_count": 19,
   "id": "0736ea7d",
   "metadata": {},
   "outputs": [
    {
     "data": {
      "text/html": [
       "<div>\n",
       "<style scoped>\n",
       "    .dataframe tbody tr th:only-of-type {\n",
       "        vertical-align: middle;\n",
       "    }\n",
       "\n",
       "    .dataframe tbody tr th {\n",
       "        vertical-align: top;\n",
       "    }\n",
       "\n",
       "    .dataframe thead th {\n",
       "        text-align: right;\n",
       "    }\n",
       "</style>\n",
       "<table border=\"1\" class=\"dataframe\">\n",
       "  <thead>\n",
       "    <tr style=\"text-align: right;\">\n",
       "      <th></th>\n",
       "      <th>ProductCategory</th>\n",
       "      <th>MonthlyNominalGDPIndexinMillion</th>\n",
       "      <th>MonthlyRealGDPIndexinMillion</th>\n",
       "      <th>CPI</th>\n",
       "      <th>unemploymentrate</th>\n",
       "      <th>CommercialBankInterestRateonCreditCardPlans</th>\n",
       "      <th>FinanceRateonPersonalLoansatCommercialBanks24MonthLoan</th>\n",
       "      <th>Earningsorwagesindollarsperhour</th>\n",
       "      <th>CottonMonthlyPriceUScentsperPoundlbs</th>\n",
       "      <th>Changein</th>\n",
       "      <th>Averageuplandplantedmillionacres</th>\n",
       "      <th>yieldperharvestedacre</th>\n",
       "      <th>Millusein480lbnetwerightinmillionbales</th>\n",
       "      <th>Exports</th>\n",
       "      <th>SeaLevelPressavg</th>\n",
       "      <th>Visibilityavg</th>\n",
       "      <th>Windavg</th>\n",
       "      <th>Precipsum</th>\n",
       "      <th>Event</th>\n",
       "      <th>FederalHoliday</th>\n",
       "    </tr>\n",
       "  </thead>\n",
       "  <tbody>\n",
       "    <tr>\n",
       "      <th>3</th>\n",
       "      <td>2</td>\n",
       "      <td>14590.432252</td>\n",
       "      <td>14559.410173</td>\n",
       "      <td>238.777</td>\n",
       "      <td>9.9</td>\n",
       "      <td>13.6</td>\n",
       "      <td>11.2</td>\n",
       "      <td>22.44</td>\n",
       "      <td>71.78</td>\n",
       "      <td>7.42</td>\n",
       "      <td>8.989</td>\n",
       "      <td>767</td>\n",
       "      <td>3.37</td>\n",
       "      <td>9.95</td>\n",
       "      <td>1019.033333</td>\n",
       "      <td>14.666667</td>\n",
       "      <td>11.133333</td>\n",
       "      <td>1.364333</td>\n",
       "      <td>0</td>\n",
       "      <td>2</td>\n",
       "    </tr>\n",
       "  </tbody>\n",
       "</table>\n",
       "</div>"
      ],
      "text/plain": [
       "   ProductCategory  MonthlyNominalGDPIndexinMillion  \\\n",
       "3                2                     14590.432252   \n",
       "\n",
       "   MonthlyRealGDPIndexinMillion      CPI  unemploymentrate  \\\n",
       "3                  14559.410173  238.777               9.9   \n",
       "\n",
       "   CommercialBankInterestRateonCreditCardPlans  \\\n",
       "3                                         13.6   \n",
       "\n",
       "   FinanceRateonPersonalLoansatCommercialBanks24MonthLoan  \\\n",
       "3                                               11.2        \n",
       "\n",
       "   Earningsorwagesindollarsperhour  CottonMonthlyPriceUScentsperPoundlbs  \\\n",
       "3                            22.44                                 71.78   \n",
       "\n",
       "   Changein  Averageuplandplantedmillionacres  yieldperharvestedacre  \\\n",
       "3      7.42                             8.989                    767   \n",
       "\n",
       "   Millusein480lbnetwerightinmillionbales  Exports  SeaLevelPressavg  \\\n",
       "3                                    3.37     9.95       1019.033333   \n",
       "\n",
       "   Visibilityavg    Windavg  Precipsum  Event  FederalHoliday  \n",
       "3      14.666667  11.133333   1.364333      0               2  "
      ]
     },
     "execution_count": 19,
     "metadata": {},
     "output_type": "execute_result"
    }
   ],
   "source": [
    "Data"
   ]
  },
  {
   "cell_type": "code",
   "execution_count": 20,
   "id": "7263d912",
   "metadata": {},
   "outputs": [],
   "source": [
    "# label_encoder\n",
    "#label_encoder = preprocessing.LabelEncoder()"
   ]
  },
  {
   "cell_type": "code",
   "execution_count": 21,
   "id": "74f3c428",
   "metadata": {},
   "outputs": [],
   "source": [
    "#Data['ProductCategory']= label_encoder.fit_transform(Data['ProductCategory'])"
   ]
  },
  {
   "cell_type": "code",
   "execution_count": 22,
   "id": "83a3dd20",
   "metadata": {},
   "outputs": [],
   "source": [
    "os.chdir('C:\\\\Users\\\\Riyaz Mehendi\\\\OneDrive - CriticalRiver Technologies Pvt. Ltd\\\\Desktop\\\\Retail_Sales_Forecast\\\\src\\\\models')"
   ]
  },
  {
   "cell_type": "markdown",
   "id": "a57760ee",
   "metadata": {},
   "source": [
    "#### Loading the model and Predicting on user inputs"
   ]
  },
  {
   "cell_type": "code",
   "execution_count": 23,
   "id": "deed53aa",
   "metadata": {},
   "outputs": [
    {
     "name": "stderr",
     "output_type": "stream",
     "text": [
      "C:\\Users\\Riyaz Mehendi\\anaconda3\\envs\\venv1\\lib\\site-packages\\xgboost\\compat.py:36: FutureWarning: pandas.Int64Index is deprecated and will be removed from pandas in a future version. Use pandas.Index with the appropriate dtype instead.\n",
      "  from pandas import MultiIndex, Int64Index\n"
     ]
    }
   ],
   "source": [
    "# Load the model from the file\n",
    "my_Model = joblib.load('TunedXGB_Model.pkl')"
   ]
  },
  {
   "cell_type": "code",
   "execution_count": 24,
   "id": "1cc0db33",
   "metadata": {},
   "outputs": [
    {
     "name": "stderr",
     "output_type": "stream",
     "text": [
      "C:\\Users\\Riyaz Mehendi\\anaconda3\\envs\\venv1\\lib\\site-packages\\xgboost\\data.py:262: FutureWarning: pandas.Int64Index is deprecated and will be removed from pandas in a future version. Use pandas.Index with the appropriate dtype instead.\n",
      "  elif isinstance(data.columns, (pd.Int64Index, pd.RangeIndex)):\n"
     ]
    }
   ],
   "source": [
    "Result=my_Model.predict(Data)"
   ]
  },
  {
   "cell_type": "markdown",
   "id": "31901153",
   "metadata": {},
   "source": [
    "#### Output "
   ]
  },
  {
   "cell_type": "code",
   "execution_count": 25,
   "id": "5e0a5a42",
   "metadata": {},
   "outputs": [
    {
     "name": "stdout",
     "output_type": "stream",
     "text": [
      "The sales value for choosen category input is: 2526\n"
     ]
    }
   ],
   "source": [
    "print(\"The sales value for choosen category input is:\", int(Result))"
   ]
  },
  {
   "cell_type": "code",
   "execution_count": null,
   "id": "4af4b229",
   "metadata": {},
   "outputs": [],
   "source": []
  },
  {
   "cell_type": "code",
   "execution_count": null,
   "id": "d9d99691",
   "metadata": {},
   "outputs": [],
   "source": []
  },
  {
   "cell_type": "code",
   "execution_count": null,
   "id": "ecf63033",
   "metadata": {},
   "outputs": [],
   "source": []
  },
  {
   "cell_type": "code",
   "execution_count": null,
   "id": "953f5419",
   "metadata": {},
   "outputs": [],
   "source": []
  },
  {
   "cell_type": "code",
   "execution_count": null,
   "id": "5b4d10c4",
   "metadata": {},
   "outputs": [],
   "source": []
  },
  {
   "cell_type": "code",
   "execution_count": null,
   "id": "c7a09750",
   "metadata": {},
   "outputs": [],
   "source": []
  },
  {
   "cell_type": "code",
   "execution_count": null,
   "id": "8da072ac",
   "metadata": {},
   "outputs": [],
   "source": []
  },
  {
   "cell_type": "code",
   "execution_count": null,
   "id": "b8ead390",
   "metadata": {},
   "outputs": [],
   "source": []
  },
  {
   "cell_type": "code",
   "execution_count": null,
   "id": "08cd8d30",
   "metadata": {},
   "outputs": [],
   "source": []
  },
  {
   "cell_type": "code",
   "execution_count": null,
   "id": "53a6e2a1",
   "metadata": {},
   "outputs": [],
   "source": []
  },
  {
   "cell_type": "code",
   "execution_count": null,
   "id": "58a00321",
   "metadata": {},
   "outputs": [],
   "source": []
  },
  {
   "cell_type": "code",
   "execution_count": null,
   "id": "0aded8bf",
   "metadata": {},
   "outputs": [],
   "source": []
  },
  {
   "cell_type": "code",
   "execution_count": null,
   "id": "30595756",
   "metadata": {},
   "outputs": [],
   "source": []
  },
  {
   "cell_type": "code",
   "execution_count": null,
   "id": "9159b348",
   "metadata": {},
   "outputs": [],
   "source": []
  },
  {
   "cell_type": "code",
   "execution_count": null,
   "id": "213362c7",
   "metadata": {},
   "outputs": [],
   "source": []
  },
  {
   "cell_type": "code",
   "execution_count": null,
   "id": "0326e385",
   "metadata": {},
   "outputs": [],
   "source": []
  },
  {
   "cell_type": "code",
   "execution_count": null,
   "id": "a3092c0a",
   "metadata": {},
   "outputs": [],
   "source": []
  },
  {
   "cell_type": "code",
   "execution_count": null,
   "id": "1bdf0c38",
   "metadata": {},
   "outputs": [],
   "source": []
  }
 ],
 "metadata": {
  "kernelspec": {
   "display_name": "Python 3 (ipykernel)",
   "language": "python",
   "name": "python3"
  },
  "language_info": {
   "codemirror_mode": {
    "name": "ipython",
    "version": 3
   },
   "file_extension": ".py",
   "mimetype": "text/x-python",
   "name": "python",
   "nbconvert_exporter": "python",
   "pygments_lexer": "ipython3",
   "version": "3.8.0"
  }
 },
 "nbformat": 4,
 "nbformat_minor": 5
}
