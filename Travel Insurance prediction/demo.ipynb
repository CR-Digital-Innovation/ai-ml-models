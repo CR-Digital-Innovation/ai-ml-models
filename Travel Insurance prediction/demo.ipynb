{
 "cells": [
  {
   "cell_type": "markdown",
   "id": "b7390a17",
   "metadata": {},
   "source": [
    "#### Objective:\n",
    "Travel Insurance Prediction Data\n",
    "\n",
    "Predict Whether A Customer Will Be Interested In Buying Travel Insurance"
   ]
  },
  {
   "cell_type": "markdown",
   "id": "b1409b91",
   "metadata": {},
   "source": [
    "#### User Input parameters"
   ]
  },
  {
   "cell_type": "code",
   "execution_count": 14,
   "id": "6b2f15c2",
   "metadata": {},
   "outputs": [
    {
     "name": "stdout",
     "output_type": "stream",
     "text": [
      " Age ----->Integer\n",
      "\n",
      " Employment Type------>categorical\n",
      "\n",
      " GraduateOrNot------->categorical\n",
      "\n",
      " AnnualIncome--------->Integer\n",
      "\n",
      " FamilyMembers-------->Integer\n",
      "\n",
      " ChronicDiseases------->Integer\n",
      "\n",
      " FrequentFlyer------>categorical\n",
      "\n",
      " EverTravelledAbroad-------->categorical\n",
      "\n",
      "\n"
     ]
    }
   ],
   "source": [
    "print(' Age ----->Integer\\n\\n Employment Type------>categorical\\n\\n GraduateOrNot------->categorical\\n\\n AnnualIncome--------->Integer\\n\\n FamilyMembers-------->Integer\\n\\n ChronicDiseases------->Integer\\n\\n FrequentFlyer------>categorical\\n\\n EverTravelledAbroad-------->categorical\\n\\n')"
   ]
  },
  {
   "cell_type": "markdown",
   "id": "425319c7",
   "metadata": {},
   "source": [
    "### Importing Dependecies & Config"
   ]
  },
  {
   "cell_type": "code",
   "execution_count": 15,
   "id": "4119eff0",
   "metadata": {},
   "outputs": [],
   "source": [
    "## importing the dependencies library\n",
    "import pandas as pd\n",
    "import pickle\n",
    "import os"
   ]
  },
  {
   "cell_type": "markdown",
   "id": "a6232dbb",
   "metadata": {},
   "source": [
    "Load Config"
   ]
  },
  {
   "cell_type": "code",
   "execution_count": 16,
   "id": "fe734968",
   "metadata": {},
   "outputs": [],
   "source": [
    "import yaml\n",
    "\n",
    "#read yaml file\n",
    "with open('../config/config.yaml') as file:\n",
    "  config= yaml.safe_load(file)\n",
    "  #print(config)"
   ]
  },
  {
   "cell_type": "code",
   "execution_count": 17,
   "id": "cd57e89c",
   "metadata": {},
   "outputs": [],
   "source": [
    "#Get current working dir\n",
    "cwd_path=os.getcwd()\n",
    "#print(cwd_path)\n",
    "\n",
    "#  Get the path of ROOT DIR\n",
    "path_list = cwd_path.split(os.sep) #split path\n",
    "ROOT_PATH=os.path.join(path_list[0],os.sep,*path_list[1:-2]) # To move two level up, remove last two str and join to create root path\n",
    "#print(ROOT_PATH)"
   ]
  },
  {
   "cell_type": "markdown",
   "id": "2fec8072",
   "metadata": {},
   "source": [
    "### To give input with Mannually from user"
   ]
  },
  {
   "cell_type": "code",
   "execution_count": 18,
   "id": "ccb232f2",
   "metadata": {},
   "outputs": [],
   "source": [
    "\n",
    "Age = int(input('Enter the Step(Age) :'))\n",
    "\n",
    "# Take user input and get the corresponding item from the list\n",
    "Employment_Type = str(input('Enter the type of Employment Type - Private Sector/Self Employed or Government Sector :'))\n",
    "\n",
    "\n",
    "Graduate = str(input('Enter the GraduateOrNot (Yes/No):'))\n",
    "\n",
    "\n",
    "\n",
    "AnnualIncome = int(input('Enter the AnnualIncome (No):'))\n",
    "\n",
    "\n",
    "\n",
    "FamilyMembers = int(input('Enter the FamilyMembers (No):'))\n",
    "\n",
    "\n",
    "\n",
    "ChronicDiseases = int(input('Enter the ChronicDiseases (No):'))\n",
    "\n",
    "\n",
    "\n",
    "FrequentFlyer = str(input('Enter the FrequentFlyer (Yes/No):'))\n",
    "\n",
    "EverTravelledAbroad = str(input('Enter the EverTravelledAbroad (Yes/No):'))"
   ]
  },
  {
   "cell_type": "code",
   "execution_count": 19,
   "id": "897e5897",
   "metadata": {},
   "outputs": [],
   "source": [
    "import pandas as pd\n",
    "df=pd.DataFrame({'Age':Age,'Employment Type':Employment_Type,'GraduateOrNot':Graduate,'AnnualIncome':AnnualIncome,'FamilyMembers':FamilyMembers,'ChronicDiseases':ChronicDiseases,'FrequentFlyer':FrequentFlyer,'EverTravelledAbroad':EverTravelledAbroad},index=[0])"
   ]
  },
  {
   "cell_type": "code",
   "execution_count": 20,
   "id": "1b2dd267",
   "metadata": {
    "scrolled": true
   },
   "outputs": [
    {
     "data": {
      "text/html": [
       "<div>\n",
       "<style scoped>\n",
       "    .dataframe tbody tr th:only-of-type {\n",
       "        vertical-align: middle;\n",
       "    }\n",
       "\n",
       "    .dataframe tbody tr th {\n",
       "        vertical-align: top;\n",
       "    }\n",
       "\n",
       "    .dataframe thead th {\n",
       "        text-align: right;\n",
       "    }\n",
       "</style>\n",
       "<table border=\"1\" class=\"dataframe\">\n",
       "  <thead>\n",
       "    <tr style=\"text-align: right;\">\n",
       "      <th></th>\n",
       "      <th>Age</th>\n",
       "      <th>Employment Type</th>\n",
       "      <th>GraduateOrNot</th>\n",
       "      <th>AnnualIncome</th>\n",
       "      <th>FamilyMembers</th>\n",
       "      <th>ChronicDiseases</th>\n",
       "      <th>FrequentFlyer</th>\n",
       "      <th>EverTravelledAbroad</th>\n",
       "    </tr>\n",
       "  </thead>\n",
       "  <tbody>\n",
       "    <tr>\n",
       "      <th>0</th>\n",
       "      <td>30</td>\n",
       "      <td>Government Sector</td>\n",
       "      <td>Yes</td>\n",
       "      <td>123444</td>\n",
       "      <td>3</td>\n",
       "      <td>2</td>\n",
       "      <td>No</td>\n",
       "      <td>Yes</td>\n",
       "    </tr>\n",
       "  </tbody>\n",
       "</table>\n",
       "</div>"
      ],
      "text/plain": [
       "   Age    Employment Type GraduateOrNot  AnnualIncome  FamilyMembers  \\\n",
       "0   30  Government Sector           Yes        123444              3   \n",
       "\n",
       "   ChronicDiseases FrequentFlyer EverTravelledAbroad  \n",
       "0                2            No                 Yes  "
      ]
     },
     "execution_count": 20,
     "metadata": {},
     "output_type": "execute_result"
    }
   ],
   "source": [
    "df"
   ]
  },
  {
   "cell_type": "code",
   "execution_count": 21,
   "id": "e697c274",
   "metadata": {},
   "outputs": [
    {
     "data": {
      "text/plain": [
       "Age                     int64\n",
       "Employment Type        object\n",
       "GraduateOrNot          object\n",
       "AnnualIncome            int64\n",
       "FamilyMembers           int64\n",
       "ChronicDiseases         int64\n",
       "FrequentFlyer          object\n",
       "EverTravelledAbroad    object\n",
       "dtype: object"
      ]
     },
     "execution_count": 21,
     "metadata": {},
     "output_type": "execute_result"
    }
   ],
   "source": [
    "df.dtypes"
   ]
  },
  {
   "cell_type": "markdown",
   "id": "0b2876d8",
   "metadata": {},
   "source": [
    "### Process the user Input"
   ]
  },
  {
   "cell_type": "code",
   "execution_count": 22,
   "id": "d09a297b",
   "metadata": {
    "scrolled": true
   },
   "outputs": [],
   "source": [
    "df['Employment Type'] = df['Employment Type'].map({'Private Sector/Self Employed':0, 'Government Sector':1})\n",
    "df['GraduateOrNot']  =df['GraduateOrNot'].map({'Yes':0, 'No':1})\n",
    "df['FrequentFlyer'] = df['FrequentFlyer'].map({'Yes':0,'No':1})\n",
    "df['EverTravelledAbroad'] = df['EverTravelledAbroad'].map({'Yes':0,'No':1})\n",
    "df1 = df\n"
   ]
  },
  {
   "cell_type": "code",
   "execution_count": 23,
   "id": "13b145ab",
   "metadata": {},
   "outputs": [
    {
     "data": {
      "text/html": [
       "<div>\n",
       "<style scoped>\n",
       "    .dataframe tbody tr th:only-of-type {\n",
       "        vertical-align: middle;\n",
       "    }\n",
       "\n",
       "    .dataframe tbody tr th {\n",
       "        vertical-align: top;\n",
       "    }\n",
       "\n",
       "    .dataframe thead th {\n",
       "        text-align: right;\n",
       "    }\n",
       "</style>\n",
       "<table border=\"1\" class=\"dataframe\">\n",
       "  <thead>\n",
       "    <tr style=\"text-align: right;\">\n",
       "      <th></th>\n",
       "      <th>Age</th>\n",
       "      <th>Employment Type</th>\n",
       "      <th>GraduateOrNot</th>\n",
       "      <th>AnnualIncome</th>\n",
       "      <th>FamilyMembers</th>\n",
       "      <th>ChronicDiseases</th>\n",
       "      <th>FrequentFlyer</th>\n",
       "      <th>EverTravelledAbroad</th>\n",
       "    </tr>\n",
       "  </thead>\n",
       "  <tbody>\n",
       "    <tr>\n",
       "      <th>0</th>\n",
       "      <td>30</td>\n",
       "      <td>1</td>\n",
       "      <td>0</td>\n",
       "      <td>123444</td>\n",
       "      <td>3</td>\n",
       "      <td>2</td>\n",
       "      <td>1</td>\n",
       "      <td>0</td>\n",
       "    </tr>\n",
       "  </tbody>\n",
       "</table>\n",
       "</div>"
      ],
      "text/plain": [
       "   Age  Employment Type  GraduateOrNot  AnnualIncome  FamilyMembers  \\\n",
       "0   30                1              0        123444              3   \n",
       "\n",
       "   ChronicDiseases  FrequentFlyer  EverTravelledAbroad  \n",
       "0                2              1                    0  "
      ]
     },
     "execution_count": 23,
     "metadata": {},
     "output_type": "execute_result"
    }
   ],
   "source": [
    "df1"
   ]
  },
  {
   "cell_type": "code",
   "execution_count": 24,
   "id": "658bde56",
   "metadata": {},
   "outputs": [
    {
     "data": {
      "text/plain": [
       "Age                    int64\n",
       "Employment Type        int64\n",
       "GraduateOrNot          int64\n",
       "AnnualIncome           int64\n",
       "FamilyMembers          int64\n",
       "ChronicDiseases        int64\n",
       "FrequentFlyer          int64\n",
       "EverTravelledAbroad    int64\n",
       "dtype: object"
      ]
     },
     "execution_count": 24,
     "metadata": {},
     "output_type": "execute_result"
    }
   ],
   "source": [
    "df1.dtypes"
   ]
  },
  {
   "cell_type": "markdown",
   "id": "78026ecd",
   "metadata": {},
   "source": [
    "### Load saved Model"
   ]
  },
  {
   "cell_type": "code",
   "execution_count": 25,
   "id": "c81f005b",
   "metadata": {},
   "outputs": [],
   "source": [
    "# Prediction model filename\n",
    "prediction_model_file=os.path.join(ROOT_PATH,config['models_dir'],config['prediction_model'])\n",
    "prediction_model = pickle.load(open(prediction_model_file, 'rb'))"
   ]
  },
  {
   "cell_type": "markdown",
   "id": "94ba8624",
   "metadata": {},
   "source": [
    "**Predicting using the Model**"
   ]
  },
  {
   "cell_type": "code",
   "execution_count": 26,
   "id": "e998a853",
   "metadata": {},
   "outputs": [
    {
     "name": "stderr",
     "output_type": "stream",
     "text": [
      "[Parallel(n_jobs=8)]: Using backend ThreadingBackend with 8 concurrent workers.\n",
      "[Parallel(n_jobs=8)]: Done  34 tasks      | elapsed:    0.0s\n",
      "[Parallel(n_jobs=8)]: Done 100 out of 100 | elapsed:    0.0s finished\n"
     ]
    }
   ],
   "source": [
    "y_pred=prediction_model.predict(df1)\n"
   ]
  },
  {
   "cell_type": "markdown",
   "id": "379a2857",
   "metadata": {},
   "source": [
    "**Predicted The Result**"
   ]
  },
  {
   "cell_type": "code",
   "execution_count": 27,
   "id": "ca88019c",
   "metadata": {},
   "outputs": [
    {
     "data": {
      "text/plain": [
       "array([1], dtype=int64)"
      ]
     },
     "execution_count": 27,
     "metadata": {},
     "output_type": "execute_result"
    }
   ],
   "source": [
    "y_pred"
   ]
  },
  {
   "cell_type": "code",
   "execution_count": 28,
   "id": "8f8bab83",
   "metadata": {},
   "outputs": [
    {
     "name": "stdout",
     "output_type": "stream",
     "text": [
      "The customers will  buying the Travel Insurance\n"
     ]
    }
   ],
   "source": [
    "if y_pred == 0:\n",
    "    \n",
    "    print('The customers will not buying the Travel Insurance')\n",
    "    \n",
    "else:\n",
    "    \n",
    "    print('The customers will  buying the Travel Insurance')"
   ]
  }
 ],
 "metadata": {
  "kernelspec": {
   "display_name": "Python 3.10.4 ('cr_Travel_Insurance_Sales_Forecasting')",
   "language": "python",
   "name": "python3"
  },
  "language_info": {
   "codemirror_mode": {
    "name": "ipython",
    "version": 3
   },
   "file_extension": ".py",
   "mimetype": "text/x-python",
   "name": "python",
   "nbconvert_exporter": "python",
   "pygments_lexer": "ipython3",
   "version": "3.10.4"
  },
  "vscode": {
   "interpreter": {
    "hash": "bb3c1b5e96c4e4fdc52c4137d8b0ae7d8593f81bb7413c533fd2d35e9a980073"
   }
  }
 },
 "nbformat": 4,
 "nbformat_minor": 5
}
